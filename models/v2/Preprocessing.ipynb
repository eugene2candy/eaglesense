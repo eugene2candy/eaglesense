{
 "cells": [
  {
   "cell_type": "code",
   "execution_count": 39,
   "metadata": {
    "collapsed": true
   },
   "outputs": [],
   "source": [
    "import pandas as pd\n",
    "import numpy as np\n",
    "import os"
   ]
  },
  {
   "cell_type": "code",
   "execution_count": 2,
   "metadata": {
    "collapsed": true
   },
   "outputs": [],
   "source": [
    "DATA_INPUT_DIR = \"D:\\\\p_eaglesense\\\\eaglesense\\\\data\\\\topviewkinect\""
   ]
  },
  {
   "cell_type": "code",
   "execution_count": 3,
   "metadata": {
    "collapsed": true
   },
   "outputs": [],
   "source": [
    "DATA_OUTPUT_DIR = DATA_INPUT_DIR + \"\\\\v2\"\n",
    "if not os.path.exists(DATA_OUTPUT_DIR):\n",
    "    os.makedirs(DATA_OUTPUT_DIR)"
   ]
  },
  {
   "cell_type": "markdown",
   "metadata": {},
   "source": [
    "### features and labels"
   ]
  },
  {
   "cell_type": "code",
   "execution_count": 69,
   "metadata": {},
   "outputs": [
    {
     "data": {
      "text/plain": [
       "[1, 2, 3, 4, 5, 6, 7, 8, 9, 10, 11, 12, 13, 14, 15, 16, 17, 18, 19, 20]"
      ]
     },
     "execution_count": 69,
     "metadata": {},
     "output_type": "execute_result"
    }
   ],
   "source": [
    "data_dirs = []\n",
    "for subdir in sorted(next(os.walk(DATA_INPUT_DIR))[1]):\n",
    "    if subdir.isdigit():\n",
    "        data_dirs.append(int(subdir))\n",
    "data_dirs.sort(key=int)\n",
    "data_dirs"
   ]
  },
  {
   "cell_type": "code",
   "execution_count": 70,
   "metadata": {
    "collapsed": true
   },
   "outputs": [],
   "source": [
    "ignored_X_cols = [\"frame_id\", \"skeleton_id\", \"x\", \"y\", \"z\"]\n",
    "ignored_y_cols = [\"frame_id\", \"skeleton_id\", \"orientation\", \"orientation_accurate\"]"
   ]
  },
  {
   "cell_type": "code",
   "execution_count": 72,
   "metadata": {
    "collapsed": true
   },
   "outputs": [],
   "source": [
    "all_X_csv = \"{d}/{tag}_X.csv\".format(d=DATA_OUTPUT_DIR, tag=\"v1\")\n",
    "open(all_X_csv, \"w\").close()\n",
    "\n",
    "all_y_csv = \"{d}/{tag}_y.csv\".format(d=DATA_OUTPUT_DIR, tag=\"v1\")\n",
    "open(all_y_csv, \"w\").close()"
   ]
  },
  {
   "cell_type": "code",
   "execution_count": 73,
   "metadata": {},
   "outputs": [
    {
     "name": "stdout",
     "output_type": "stream",
     "text": [
      "1 Done!\n",
      "2 Done!\n",
      "3 Done!\n",
      "4 Done!\n",
      "5 Done!\n",
      "6 Done!\n",
      "7 Done!\n",
      "8 Done!\n",
      "9 Done!\n",
      "10 Done!\n",
      "11 Done!\n",
      "12 Done!\n",
      "13 Done!\n",
      "14 Done!\n",
      "15 Done!\n",
      "16 Done!\n",
      "17 Done!\n",
      "18 Done!\n",
      "19 Done!\n",
      "20 Done!\n"
     ]
    }
   ],
   "source": [
    "all_X_file = open(all_X_csv, \"a\")\n",
    "\n",
    "all_y_file = open(all_y_csv, \"a\")\n",
    "\n",
    "write_header=True\n",
    "\n",
    "for dataset_id in data_dirs:\n",
    "    # read data\n",
    "    X_csv = \"{d}/{dataset}/features.csv\".format(d=DATA_INPUT_DIR, dataset=dataset_id)\n",
    "    X_df = pd.read_csv(X_csv, dtype=np.float64)\n",
    "    y_csv = \"{d}/{dataset}/labels.csv\".format(d=DATA_INPUT_DIR, dataset=dataset_id)\n",
    "    y_df = pd.read_csv(y_csv, dtype=np.float64)\n",
    "\n",
    "    # get single skeleton activities\n",
    "    y_df = y_df.loc[y_df[\"skeleton_id\"] == 0]\n",
    "    y_df = y_df.loc[y_df[\"activity\"].isin(list(range(0, 6)))]\n",
    "\n",
    "    # get common frame indices\n",
    "    X_df = X_df.loc[X_df[\"frame_id\"].isin(y_df[\"frame_id\"].values)]\n",
    "    y_df = y_df.loc[y_df[\"frame_id\"].isin(X_df[\"frame_id\"].values)]\n",
    "    \n",
    "    # drop unncessary columns\n",
    "    X_df = X_df.drop(labels=ignored_X_cols, axis=1)\n",
    "    y_df = y_df.drop(labels=ignored_y_cols, axis=1)\n",
    "    \n",
    "    # add dataset id\n",
    "    X_df[\"dataset_id\"] = dataset_id\n",
    "    y_df[\"dataset_id\"] = dataset_id\n",
    "    \n",
    "    # save to csv\n",
    "    X_df = X_df.astype(\"float64\")\n",
    "    X_df.to_csv(all_X_file, header=write_header, index=False)\n",
    "    y_df = y_df.astype(\"int\")\n",
    "    y_df.to_csv(all_y_file, header=write_header, index=False)\n",
    "    \n",
    "    write_header = False\n",
    "    \n",
    "    print(dataset_id, \"Done!\")\n",
    "    \n",
    "all_X_file.close()\n",
    "all_y_file.close()"
   ]
  },
  {
   "cell_type": "markdown",
   "metadata": {},
   "source": [
    "### overview"
   ]
  },
  {
   "cell_type": "code",
   "execution_count": 74,
   "metadata": {},
   "outputs": [],
   "source": [
    "X_all_df = pd.read_csv(all_X_csv, dtype=np.float64)\n",
    "y_all_df = pd.read_csv(all_y_csv, dtype=np.int)"
   ]
  },
  {
   "cell_type": "code",
   "execution_count": 76,
   "metadata": {},
   "outputs": [
    {
     "data": {
      "text/plain": [
       "(92053, 73)"
      ]
     },
     "execution_count": 76,
     "metadata": {},
     "output_type": "execute_result"
    }
   ],
   "source": [
    "X_all_df.shape"
   ]
  },
  {
   "cell_type": "code",
   "execution_count": 77,
   "metadata": {},
   "outputs": [
    {
     "data": {
      "text/plain": [
       "(92053, 2)"
      ]
     },
     "execution_count": 77,
     "metadata": {},
     "output_type": "execute_result"
    }
   ],
   "source": [
    "y_all_df.shapepe"
   ]
  },
  {
   "cell_type": "markdown",
   "metadata": {},
   "source": [
    "###  data sampling"
   ]
  },
  {
   "cell_type": "code",
   "execution_count": null,
   "metadata": {
    "collapsed": true
   },
   "outputs": [],
   "source": [
    "def sample_test_split(features_df, labels_df, train_test_ratio, seed):\n",
    "    \n",
    "    # Get training sizes\n",
    "    training_sizes_per_subject = np.zeros((num_subjects, num_activities), dtype=np.int64)\n",
    "    for subject_idx, subject_id in enumerate(unique_subjects):\n",
    "        subject_activities = labels_df[labels_df[\"subject\"] == subject_id][\"activity\"].values\n",
    "        subject_activities_bin = np.bincount(np.squeeze(subject_activities))\n",
    "        training_sizes_per_subject[subject_idx] = np.array([int(size * train_test_ratio) for size in subject_activities_bin])\n",
    "    \n",
    "    # Get training and testing data\n",
    "    X_train = np.array([], dtype=np.float64).reshape(0, num_features)\n",
    "    y_train = np.array([], dtype=np.int32).reshape(0, 1)\n",
    "    X_test = np.array([], dtype=np.float64).reshape(0, num_features)\n",
    "    y_test = np.array([], dtype=np.int32).reshape(0, 1)\n",
    "\n",
    "    # Stratified sampling\n",
    "    for subject_idx, subject_id in enumerate(unique_subjects):\n",
    "        subject_features = features_df[features_df[\"subject\"] == subject_id]\n",
    "        subject_features = subject_features.drop([\"subject\"], axis=1)\n",
    "        subject_labels = labels_df[labels_df[\"subject\"] == subject_id]\n",
    "        subject_labels = subject_labels[[\"activity\"]]\n",
    "\n",
    "        for activity_idx in range(num_activities):\n",
    "            num_activity_samples = training_sizes_per_subject[subject_idx, activity_idx]\n",
    "            activity_labels_df = subject_labels[subject_labels[\"activity\"] == activity_idx]\n",
    "            activity_train_labels_df = activity_labels_df.sample(n=num_activity_samples, replace=False, random_state=seed)\n",
    "            \n",
    "            activity_all_indices = list(activity_labels_df.index.values)\n",
    "            activity_train_indices = list(activity_train_labels_df.index.values)\n",
    "            activity_test_indices =  [idx for idx in activity_all_indices if idx not in activity_train_indices]\n",
    "            \n",
    "            acitivty_X_train = subject_features.ix[activity_train_indices]\n",
    "            activity_y_train = subject_labels.ix[activity_train_indices]\n",
    "            acitivty_X_test = subject_features.ix[activity_test_indices]\n",
    "            activity_y_test = subject_labels.ix[activity_test_indices]\n",
    "\n",
    "            X_train = np.vstack([X_train, acitivty_X_train.values])\n",
    "            y_train = np.vstack([y_train, activity_y_train.values])\n",
    "            X_test = np.vstack([X_test, acitivty_X_test.values])\n",
    "            y_test = np.vstack([y_test, activity_y_test.values])\n",
    "            \n",
    "    return X_train, y_train, X_test, y_test"
   ]
  },
  {
   "cell_type": "code",
   "execution_count": null,
   "metadata": {
    "collapsed": true
   },
   "outputs": [],
   "source": []
  }
 ],
 "metadata": {
  "kernelspec": {
   "display_name": "Python 3",
   "language": "python",
   "name": "python3"
  },
  "language_info": {
   "codemirror_mode": {
    "name": "ipython",
    "version": 3
   },
   "file_extension": ".py",
   "mimetype": "text/x-python",
   "name": "python",
   "nbconvert_exporter": "python",
   "pygments_lexer": "ipython3",
   "version": "3.6.3"
  }
 },
 "nbformat": 4,
 "nbformat_minor": 2
}
