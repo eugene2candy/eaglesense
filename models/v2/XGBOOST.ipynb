{
 "cells": [
  {
   "cell_type": "code",
   "execution_count": 1,
   "metadata": {
    "collapsed": true
   },
   "outputs": [],
   "source": [
    "%matplotlib inline\n",
    "\n",
    "import pandas as pd\n",
    "import numpy as np\n",
    "import seaborn as sns\n",
    "import matplotlib as mpl\n",
    "import matplotlib.pyplot as plt\n",
    "import os\n",
    "import math\n",
    "import itertools"
   ]
  },
  {
   "cell_type": "code",
   "execution_count": 2,
   "metadata": {
    "collapsed": true
   },
   "outputs": [],
   "source": [
    "sns.set(context=\"notebook\", style=\"ticks\")"
   ]
  },
  {
   "cell_type": "code",
   "execution_count": 3,
   "metadata": {
    "collapsed": true
   },
   "outputs": [],
   "source": [
    "DATA_INPUT_DIR = \"D:\\\\p_eaglesense\\\\eaglesense\\\\data\\\\topviewkinect\""
   ]
  },
  {
   "cell_type": "code",
   "execution_count": 4,
   "metadata": {
    "collapsed": true
   },
   "outputs": [],
   "source": [
    "DATA_OUTPUT_DIR = DATA_INPUT_DIR + \"\\\\v2\"\n",
    "if not os.path.exists(DATA_OUTPUT_DIR):\n",
    "    os.makedirs(DATA_OUTPUT_DIR)"
   ]
  },
  {
   "cell_type": "markdown",
   "metadata": {},
   "source": [
    "### features and labels"
   ]
  },
  {
   "cell_type": "code",
   "execution_count": 8,
   "metadata": {},
   "outputs": [],
   "source": [
    "data_dirs = []\n",
    "for subdir in sorted(next(os.walk(DATA_INPUT_DIR))[1]):\n",
    "    if subdir.isdigit():\n",
    "        data_dirs.append(int(subdir))\n",
    "data_dirs.sort(key=int)"
   ]
  },
  {
   "cell_type": "code",
   "execution_count": 9,
   "metadata": {},
   "outputs": [
    {
     "data": {
      "text/plain": [
       "[1, 2, 3, 4, 5, 6, 7, 8, 9, 10, 11, 12, 13, 14, 15, 16, 17, 18, 19, 20, 21]"
      ]
     },
     "execution_count": 9,
     "metadata": {},
     "output_type": "execute_result"
    }
   ],
   "source": [
    "data_dirs"
   ]
  },
  {
   "cell_type": "code",
   "execution_count": 10,
   "metadata": {
    "collapsed": true
   },
   "outputs": [],
   "source": [
    "ignored_X_cols = [\"frame_id\", \"skeleton_id\", \"x\", \"y\", \"z\"]\n",
    "ignored_y_cols = [\"frame_id\", \"skeleton_id\", \"orientation\", \"orientation_accurate\"]"
   ]
  },
  {
   "cell_type": "code",
   "execution_count": 11,
   "metadata": {
    "collapsed": true
   },
   "outputs": [],
   "source": [
    "all_X_csv = \"{d}/{tag}_X.csv\".format(d=DATA_OUTPUT_DIR, tag=\"v1\")\n",
    "all_y_csv = \"{d}/{tag}_y.csv\".format(d=DATA_OUTPUT_DIR, tag=\"v1\")"
   ]
  },
  {
   "cell_type": "code",
   "execution_count": 12,
   "metadata": {},
   "outputs": [
    {
     "name": "stdout",
     "output_type": "stream",
     "text": [
      "1 Done!\n",
      "2 Done!\n",
      "3 Done!\n",
      "4 Done!\n",
      "5 Done!\n",
      "6 Done!\n",
      "7 Done!\n",
      "8 Done!\n",
      "9 Done!\n",
      "10 Done!\n",
      "11 Done!\n",
      "12 Done!\n",
      "13 Done!\n",
      "14 Done!\n",
      "15 Done!\n",
      "16 Done!\n",
      "17 Done!\n",
      "18 Done!\n",
      "19 Done!\n",
      "20 Done!\n",
      "21 Done!\n"
     ]
    }
   ],
   "source": [
    "open(all_X_csv, \"w\").close()\n",
    "open(all_y_csv, \"w\").close()\n",
    "\n",
    "all_X_file = open(all_X_csv, \"a\")\n",
    "all_y_file = open(all_y_csv, \"a\")\n",
    "\n",
    "write_header=True\n",
    "\n",
    "for dataset_id in data_dirs:\n",
    "    # read data\n",
    "    X_csv = \"{d}/{dataset}/features.csv\".format(d=DATA_INPUT_DIR, dataset=dataset_id)\n",
    "    X_df = pd.read_csv(X_csv, dtype=np.float64)\n",
    "    y_csv = \"{d}/{dataset}/labels.csv\".format(d=DATA_INPUT_DIR, dataset=dataset_id)\n",
    "    y_df = pd.read_csv(y_csv, dtype=np.float64)\n",
    "\n",
    "    # get single skeleton activities\n",
    "    y_df = y_df.loc[y_df[\"skeleton_id\"] == 0]\n",
    "    y_df = y_df.loc[y_df[\"activity\"].isin(list(range(0, 6)))]\n",
    "\n",
    "    # get common frame indices\n",
    "    X_df = X_df.loc[X_df[\"frame_id\"].isin(y_df[\"frame_id\"].values)]\n",
    "    y_df = y_df.loc[y_df[\"frame_id\"].isin(X_df[\"frame_id\"].values)]\n",
    "    \n",
    "    # drop unncessary columns\n",
    "    X_df = X_df.drop(labels=ignored_X_cols, axis=1)\n",
    "    y_df = y_df.drop(labels=ignored_y_cols, axis=1)\n",
    "    \n",
    "    # add dataset id\n",
    "    X_df[\"dataset_id\"] = dataset_id\n",
    "    y_df[\"dataset_id\"] = dataset_id\n",
    "    \n",
    "    # save to csv\n",
    "    X_df = X_df.astype(\"float64\")\n",
    "    X_df.to_csv(all_X_file, header=write_header, index=False)\n",
    "    y_df = y_df.astype(\"int\")\n",
    "    y_df.to_csv(all_y_file, header=write_header, index=False)\n",
    "    \n",
    "    write_header = False\n",
    "    \n",
    "    print(dataset_id, \"Done!\")\n",
    "    \n",
    "all_X_file.close()\n",
    "all_y_file.close()"
   ]
  },
  {
   "cell_type": "markdown",
   "metadata": {},
   "source": [
    "### overview"
   ]
  },
  {
   "cell_type": "code",
   "execution_count": 13,
   "metadata": {
    "collapsed": true
   },
   "outputs": [],
   "source": [
    "ACTIVITIES = [\"Standing\", \"Sitting\", \"Pointing\", \"Phone\", \"Tablet\", \"Paper\"]"
   ]
  },
  {
   "cell_type": "code",
   "execution_count": 14,
   "metadata": {
    "collapsed": true
   },
   "outputs": [],
   "source": [
    "num_activities = len(ACTIVITIES)"
   ]
  },
  {
   "cell_type": "code",
   "execution_count": 15,
   "metadata": {},
   "outputs": [
    {
     "data": {
      "text/plain": [
       "6"
      ]
     },
     "execution_count": 15,
     "metadata": {},
     "output_type": "execute_result"
    }
   ],
   "source": [
    "num_activities"
   ]
  },
  {
   "cell_type": "code",
   "execution_count": 16,
   "metadata": {
    "collapsed": true
   },
   "outputs": [],
   "source": [
    "X_all_df = pd.read_csv(all_X_csv, dtype=np.float64)\n",
    "y_all_df = pd.read_csv(all_y_csv, dtype=np.int)"
   ]
  },
  {
   "cell_type": "code",
   "execution_count": 17,
   "metadata": {},
   "outputs": [
    {
     "data": {
      "text/plain": [
       "(93942, 73)"
      ]
     },
     "execution_count": 17,
     "metadata": {},
     "output_type": "execute_result"
    }
   ],
   "source": [
    "X_all_df.shape"
   ]
  },
  {
   "cell_type": "code",
   "execution_count": 18,
   "metadata": {},
   "outputs": [
    {
     "data": {
      "text/plain": [
       "(93942, 2)"
      ]
     },
     "execution_count": 18,
     "metadata": {},
     "output_type": "execute_result"
    }
   ],
   "source": [
    "y_all_df.shape"
   ]
  },
  {
   "cell_type": "code",
   "execution_count": 19,
   "metadata": {
    "collapsed": true
   },
   "outputs": [],
   "source": [
    "num_datasets = len(np.unique(y_all_df[\"dataset_id\"]))"
   ]
  },
  {
   "cell_type": "code",
   "execution_count": 20,
   "metadata": {},
   "outputs": [
    {
     "data": {
      "text/plain": [
       "21"
      ]
     },
     "execution_count": 20,
     "metadata": {},
     "output_type": "execute_result"
    }
   ],
   "source": [
    "num_datasets"
   ]
  },
  {
   "cell_type": "code",
   "execution_count": 21,
   "metadata": {
    "collapsed": true
   },
   "outputs": [],
   "source": [
    "X_vec = X_all_df.drop([\"dataset_id\"], axis=1)\n",
    "y_vec = y_all_df.drop([\"dataset_id\"], axis=1)"
   ]
  },
  {
   "cell_type": "code",
   "execution_count": 22,
   "metadata": {
    "collapsed": true
   },
   "outputs": [],
   "source": [
    "X_corr = X_vec.corr()"
   ]
  },
  {
   "cell_type": "code",
   "execution_count": 23,
   "metadata": {},
   "outputs": [
    {
     "data": {
      "image/png": "[encoded data removed]",
      "text/plain": [
       "<matplotlib.figure.Figure at 0x1feaedc1898>"
      ]
     },
     "metadata": {},
     "output_type": "display_data"
    }
   ],
   "source": [
    "fig, ax = plt.subplots(figsize=(10,7.5))\n",
    "x = sns.heatmap(X_corr, ax=ax, xticklabels=False, yticklabels=False, cmap=\"RdBu_r\")"
   ]
  },
  {
   "cell_type": "code",
   "execution_count": 24,
   "metadata": {
    "collapsed": true
   },
   "outputs": [],
   "source": [
    "y_bins = np.bincount(np.squeeze(y_vec))\n",
    "activities_df = pd.DataFrame({\n",
    "    \"activity\": ACTIVITIES, \"size\": y_bins\n",
    "})"
   ]
  },
  {
   "cell_type": "code",
   "execution_count": 25,
   "metadata": {},
   "outputs": [
    {
     "data": {
      "text/plain": [
       "Text(0,0.5,'')"
      ]
     },
     "execution_count": 25,
     "metadata": {},
     "output_type": "execute_result"
    },
    {
     "data": {
      "image/png": "[encoded data removed]",
      "text/plain": [
       "<matplotlib.figure.Figure at 0x1feb02ae208>"
      ]
     },
     "metadata": {},
     "output_type": "display_data"
    }
   ],
   "source": [
    "fig, ax = plt.subplots(figsize=(10,7.5))\n",
    "sns.barplot(x=\"activity\", y=\"size\", data=activities_df, ax=ax)\n",
    "ax.set_xlabel(\"\")\n",
    "ax.set_ylabel(\"\")"
   ]
  },
  {
   "cell_type": "code",
   "execution_count": 26,
   "metadata": {
    "collapsed": true
   },
   "outputs": [],
   "source": [
    "y_min_count = min(y_bins)"
   ]
  },
  {
   "cell_type": "code",
   "execution_count": 27,
   "metadata": {},
   "outputs": [
    {
     "data": {
      "text/plain": [
       "9278"
      ]
     },
     "execution_count": 27,
     "metadata": {},
     "output_type": "execute_result"
    }
   ],
   "source": [
    "y_min_count"
   ]
  },
  {
   "cell_type": "code",
   "execution_count": 28,
   "metadata": {
    "collapsed": true
   },
   "outputs": [],
   "source": [
    "X_balanced_df = pd.DataFrame(columns=X_all_df.columns, dtype=np.float64)"
   ]
  },
  {
   "cell_type": "code",
   "execution_count": 29,
   "metadata": {},
   "outputs": [
    {
     "data": {
      "text/html": [
       "<div>\n",
       "<style>\n",
       "    .dataframe thead tr:only-child th {\n",
       "        text-align: right;\n",
       "    }\n",
       "\n",
       "    .dataframe thead th {\n",
       "        text-align: left;\n",
       "    }\n",
       "\n",
       "    .dataframe tbody tr th {\n",
       "        vertical-align: top;\n",
       "    }\n",
       "</style>\n",
       "<table border=\"1\" class=\"dataframe\">\n",
       "  <thead>\n",
       "    <tr style=\"text-align: right;\">\n",
       "      <th></th>\n",
       "      <th>layer_area_0</th>\n",
       "      <th>layer_area_1</th>\n",
       "      <th>layer_area_2</th>\n",
       "      <th>layer_contours_0</th>\n",
       "      <th>layer_contours_1</th>\n",
       "      <th>layer_distance_0</th>\n",
       "      <th>layer_distance_1</th>\n",
       "      <th>layer_distance_2</th>\n",
       "      <th>layer_distance_3</th>\n",
       "      <th>layer_distance_4</th>\n",
       "      <th>...</th>\n",
       "      <th>interlayer_pos_16</th>\n",
       "      <th>interlayer_pos_17</th>\n",
       "      <th>extremities0</th>\n",
       "      <th>extreme_infrared_0</th>\n",
       "      <th>extreme_infrared_1</th>\n",
       "      <th>extreme_infrared_2</th>\n",
       "      <th>extreme_infrared_3</th>\n",
       "      <th>extreme_infrared_4</th>\n",
       "      <th>extreme_infrared_5</th>\n",
       "      <th>dataset_id</th>\n",
       "    </tr>\n",
       "  </thead>\n",
       "  <tbody>\n",
       "  </tbody>\n",
       "</table>\n",
       "<p>0 rows × 73 columns</p>\n",
       "</div>"
      ],
      "text/plain": [
       "Empty DataFrame\n",
       "Columns: [layer_area_0, layer_area_1, layer_area_2, layer_contours_0, layer_contours_1, layer_distance_0, layer_distance_1, layer_distance_2, layer_distance_3, layer_distance_4, layer_distance_5, layer_distance_6, layer_distance_7, layer_distance_8, layer_distance_9, layer_distance_10, layer_distance_11, layer_distance_12, layer_distance_13, layer_distance_14, intralayer_pos_0, intralayer_pos_1, intralayer_pos_2, intralayer_pos_3, intralayer_pos_4, intralayer_pos_5, intralayer_pos_6, intralayer_pos_7, intralayer_pos_8, intralayer_pos_9, intralayer_pos_10, intralayer_pos_11, intralayer_pos_12, intralayer_pos_13, intralayer_pos_14, intralayer_pos_15, intralayer_pos_16, intralayer_pos_17, intralayer_pos_18, intralayer_pos_19, intralayer_pos_20, intralayer_pos_21, intralayer_pos_22, intralayer_pos_23, intralayer_pos_24, intralayer_pos_25, intralayer_pos_26, interlayer_pos_0, interlayer_pos_1, interlayer_pos_2, interlayer_pos_3, interlayer_pos_4, interlayer_pos_5, interlayer_pos_6, interlayer_pos_7, interlayer_pos_8, interlayer_pos_9, interlayer_pos_10, interlayer_pos_11, interlayer_pos_12, interlayer_pos_13, interlayer_pos_14, interlayer_pos_15, interlayer_pos_16, interlayer_pos_17, extremities0, extreme_infrared_0, extreme_infrared_1, extreme_infrared_2, extreme_infrared_3, extreme_infrared_4, extreme_infrared_5, dataset_id]\n",
       "Index: []\n",
       "\n",
       "[0 rows x 73 columns]"
      ]
     },
     "execution_count": 29,
     "metadata": {},
     "output_type": "execute_result"
    }
   ],
   "source": [
    "X_balanced_df"
   ]
  },
  {
   "cell_type": "code",
   "execution_count": 30,
   "metadata": {
    "collapsed": true
   },
   "outputs": [],
   "source": [
    "y_balanced_df = pd.DataFrame(columns=y_all_df.columns, dtype=np.int)"
   ]
  },
  {
   "cell_type": "code",
   "execution_count": 31,
   "metadata": {
    "scrolled": true
   },
   "outputs": [
    {
     "data": {
      "text/html": [
       "<div>\n",
       "<style>\n",
       "    .dataframe thead tr:only-child th {\n",
       "        text-align: right;\n",
       "    }\n",
       "\n",
       "    .dataframe thead th {\n",
       "        text-align: left;\n",
       "    }\n",
       "\n",
       "    .dataframe tbody tr th {\n",
       "        vertical-align: top;\n",
       "    }\n",
       "</style>\n",
       "<table border=\"1\" class=\"dataframe\">\n",
       "  <thead>\n",
       "    <tr style=\"text-align: right;\">\n",
       "      <th></th>\n",
       "      <th>activity</th>\n",
       "      <th>dataset_id</th>\n",
       "    </tr>\n",
       "  </thead>\n",
       "  <tbody>\n",
       "  </tbody>\n",
       "</table>\n",
       "</div>"
      ],
      "text/plain": [
       "Empty DataFrame\n",
       "Columns: [activity, dataset_id]\n",
       "Index: []"
      ]
     },
     "execution_count": 31,
     "metadata": {},
     "output_type": "execute_result"
    }
   ],
   "source": [
    "y_balanced_df"
   ]
  },
  {
   "cell_type": "code",
   "execution_count": 32,
   "metadata": {
    "collapsed": true
   },
   "outputs": [],
   "source": [
    "for activity_id in range(num_activities):\n",
    "    samples_y = y_all_df.loc[(y_all_df[\"activity\"] == activity_id)]\n",
    "    samples_y = samples_y.sample(y_min_count, replace=False, random_state=42)\n",
    "    samples_X = X_all_df.iloc[samples_y.index]\n",
    "    X_balanced_df = X_balanced_df.append(samples_X, ignore_index=True)\n",
    "    y_balanced_df = y_balanced_df.append(samples_y, ignore_index=True)"
   ]
  },
  {
   "cell_type": "code",
   "execution_count": 33,
   "metadata": {
    "collapsed": true
   },
   "outputs": [],
   "source": [
    "X_balanced_df = X_balanced_df.astype(np.float64)"
   ]
  },
  {
   "cell_type": "code",
   "execution_count": 34,
   "metadata": {},
   "outputs": [
    {
     "data": {
      "text/plain": [
       "(55668, 73)"
      ]
     },
     "execution_count": 34,
     "metadata": {},
     "output_type": "execute_result"
    }
   ],
   "source": [
    "X_balanced_df.shape"
   ]
  },
  {
   "cell_type": "code",
   "execution_count": 35,
   "metadata": {
    "collapsed": true
   },
   "outputs": [],
   "source": [
    "y_balanced_df = y_balanced_df.astype(np.int)"
   ]
  },
  {
   "cell_type": "code",
   "execution_count": 36,
   "metadata": {
    "scrolled": true
   },
   "outputs": [
    {
     "data": {
      "text/plain": [
       "(55668, 2)"
      ]
     },
     "execution_count": 36,
     "metadata": {},
     "output_type": "execute_result"
    }
   ],
   "source": [
    "y_balanced_df.shape"
   ]
  },
  {
   "cell_type": "code",
   "execution_count": 37,
   "metadata": {
    "collapsed": true
   },
   "outputs": [],
   "source": [
    "X_vec = X_balanced_df.drop([\"dataset_id\"], axis=1)\n",
    "y_vec = y_balanced_df.drop([\"dataset_id\"], axis=1)"
   ]
  },
  {
   "cell_type": "code",
   "execution_count": 38,
   "metadata": {
    "collapsed": true
   },
   "outputs": [],
   "source": [
    "X_corr = X_vec.corr()"
   ]
  },
  {
   "cell_type": "code",
   "execution_count": 39,
   "metadata": {},
   "outputs": [
    {
     "data": {
      "image/png": "[encoded data removed]",
      "text/plain": [
       "<matplotlib.figure.Figure at 0x1feb02ae198>"
      ]
     },
     "metadata": {},
     "output_type": "display_data"
    }
   ],
   "source": [
    "fig, ax = plt.subplots(figsize=(10,7.5))\n",
    "x = sns.heatmap(X_corr, ax=ax, xticklabels=False, yticklabels=False, cmap=\"RdBu_r\")"
   ]
  },
  {
   "cell_type": "code",
   "execution_count": 40,
   "metadata": {
    "collapsed": true
   },
   "outputs": [],
   "source": [
    "y_bins = np.bincount(np.squeeze(y_vec))\n",
    "activities_df = pd.DataFrame({\n",
    "    \"activity\": ACTIVITIES, \"size\": y_bins\n",
    "})"
   ]
  },
  {
   "cell_type": "code",
   "execution_count": 41,
   "metadata": {},
   "outputs": [
    {
     "data": {
      "text/plain": [
       "Text(0,0.5,'')"
      ]
     },
     "execution_count": 41,
     "metadata": {},
     "output_type": "execute_result"
    },
    {
     "data": {
      "image/png": "[encoded data removed]",
      "text/plain": [
       "<matplotlib.figure.Figure at 0x1feb054c320>"
      ]
     },
     "metadata": {},
     "output_type": "display_data"
    }
   ],
   "source": [
    "fig, ax = plt.subplots(figsize=(10,7.5))\n",
    "sns.barplot(x=\"activity\", y=\"size\", data=activities_df, ax=ax)\n",
    "ax.set_xlabel(\"\")\n",
    "ax.set_ylabel(\"\")"
   ]
  },
  {
   "cell_type": "code",
   "execution_count": 42,
   "metadata": {
    "collapsed": true
   },
   "outputs": [],
   "source": [
    "X_final_df = X_balanced_df.drop(labels=[\"dataset_id\"], axis=1)"
   ]
  },
  {
   "cell_type": "code",
   "execution_count": 43,
   "metadata": {
    "collapsed": true
   },
   "outputs": [],
   "source": [
    "y_final_df = y_balanced_df.drop(labels=[\"dataset_id\"], axis=1)"
   ]
  },
  {
   "cell_type": "code",
   "execution_count": 44,
   "metadata": {},
   "outputs": [
    {
     "data": {
      "text/html": [
       "<div>\n",
       "<style>\n",
       "    .dataframe thead tr:only-child th {\n",
       "        text-align: right;\n",
       "    }\n",
       "\n",
       "    .dataframe thead th {\n",
       "        text-align: left;\n",
       "    }\n",
       "\n",
       "    .dataframe tbody tr th {\n",
       "        vertical-align: top;\n",
       "    }\n",
       "</style>\n",
       "<table border=\"1\" class=\"dataframe\">\n",
       "  <thead>\n",
       "    <tr style=\"text-align: right;\">\n",
       "      <th></th>\n",
       "      <th>layer_area_0</th>\n",
       "      <th>layer_area_1</th>\n",
       "      <th>layer_area_2</th>\n",
       "      <th>layer_contours_0</th>\n",
       "      <th>layer_contours_1</th>\n",
       "      <th>layer_distance_0</th>\n",
       "      <th>layer_distance_1</th>\n",
       "      <th>layer_distance_2</th>\n",
       "      <th>layer_distance_3</th>\n",
       "      <th>layer_distance_4</th>\n",
       "      <th>...</th>\n",
       "      <th>interlayer_pos_15</th>\n",
       "      <th>interlayer_pos_16</th>\n",
       "      <th>interlayer_pos_17</th>\n",
       "      <th>extremities0</th>\n",
       "      <th>extreme_infrared_0</th>\n",
       "      <th>extreme_infrared_1</th>\n",
       "      <th>extreme_infrared_2</th>\n",
       "      <th>extreme_infrared_3</th>\n",
       "      <th>extreme_infrared_4</th>\n",
       "      <th>extreme_infrared_5</th>\n",
       "    </tr>\n",
       "  </thead>\n",
       "  <tbody>\n",
       "    <tr>\n",
       "      <th>0</th>\n",
       "      <td>0.421598</td>\n",
       "      <td>0.418639</td>\n",
       "      <td>0.159763</td>\n",
       "      <td>3.0</td>\n",
       "      <td>3.0</td>\n",
       "      <td>23.6008</td>\n",
       "      <td>32.8024</td>\n",
       "      <td>25.2982</td>\n",
       "      <td>32.8024</td>\n",
       "      <td>232.0</td>\n",
       "      <td>...</td>\n",
       "      <td>-32.0</td>\n",
       "      <td>-26.0</td>\n",
       "      <td>-123.0</td>\n",
       "      <td>5.0</td>\n",
       "      <td>4.0</td>\n",
       "      <td>6.5</td>\n",
       "      <td>4.0</td>\n",
       "      <td>24.5</td>\n",
       "      <td>18.5</td>\n",
       "      <td>36.5</td>\n",
       "    </tr>\n",
       "    <tr>\n",
       "      <th>1</th>\n",
       "      <td>0.426984</td>\n",
       "      <td>0.419048</td>\n",
       "      <td>0.153968</td>\n",
       "      <td>3.0</td>\n",
       "      <td>3.0</td>\n",
       "      <td>23.7697</td>\n",
       "      <td>31.3847</td>\n",
       "      <td>24.8395</td>\n",
       "      <td>25.4951</td>\n",
       "      <td>166.0</td>\n",
       "      <td>...</td>\n",
       "      <td>-7.0</td>\n",
       "      <td>-13.0</td>\n",
       "      <td>-18.0</td>\n",
       "      <td>5.0</td>\n",
       "      <td>0.0</td>\n",
       "      <td>0.0</td>\n",
       "      <td>0.0</td>\n",
       "      <td>0.0</td>\n",
       "      <td>0.0</td>\n",
       "      <td>0.0</td>\n",
       "    </tr>\n",
       "    <tr>\n",
       "      <th>2</th>\n",
       "      <td>0.464716</td>\n",
       "      <td>0.397590</td>\n",
       "      <td>0.137694</td>\n",
       "      <td>3.0</td>\n",
       "      <td>3.0</td>\n",
       "      <td>19.4165</td>\n",
       "      <td>22.3607</td>\n",
       "      <td>19.6469</td>\n",
       "      <td>22.3607</td>\n",
       "      <td>192.0</td>\n",
       "      <td>...</td>\n",
       "      <td>-9.0</td>\n",
       "      <td>-27.0</td>\n",
       "      <td>-107.0</td>\n",
       "      <td>5.0</td>\n",
       "      <td>23.5</td>\n",
       "      <td>26.0</td>\n",
       "      <td>16.0</td>\n",
       "      <td>1.5</td>\n",
       "      <td>1.5</td>\n",
       "      <td>29.0</td>\n",
       "    </tr>\n",
       "    <tr>\n",
       "      <th>3</th>\n",
       "      <td>0.316847</td>\n",
       "      <td>0.591963</td>\n",
       "      <td>0.091190</td>\n",
       "      <td>3.0</td>\n",
       "      <td>3.0</td>\n",
       "      <td>17.7200</td>\n",
       "      <td>31.9061</td>\n",
       "      <td>19.6977</td>\n",
       "      <td>31.9061</td>\n",
       "      <td>311.5</td>\n",
       "      <td>...</td>\n",
       "      <td>-32.0</td>\n",
       "      <td>-20.0</td>\n",
       "      <td>-112.0</td>\n",
       "      <td>5.0</td>\n",
       "      <td>13.5</td>\n",
       "      <td>0.0</td>\n",
       "      <td>19.5</td>\n",
       "      <td>18.0</td>\n",
       "      <td>6.0</td>\n",
       "      <td>31.5</td>\n",
       "    </tr>\n",
       "    <tr>\n",
       "      <th>4</th>\n",
       "      <td>0.428000</td>\n",
       "      <td>0.410000</td>\n",
       "      <td>0.162000</td>\n",
       "      <td>3.0</td>\n",
       "      <td>3.0</td>\n",
       "      <td>22.5610</td>\n",
       "      <td>19.6469</td>\n",
       "      <td>14.8661</td>\n",
       "      <td>19.6469</td>\n",
       "      <td>179.5</td>\n",
       "      <td>...</td>\n",
       "      <td>-29.0</td>\n",
       "      <td>-28.0</td>\n",
       "      <td>-117.0</td>\n",
       "      <td>3.0</td>\n",
       "      <td>3.5</td>\n",
       "      <td>3.0</td>\n",
       "      <td>2.0</td>\n",
       "      <td>0.0</td>\n",
       "      <td>0.0</td>\n",
       "      <td>3.5</td>\n",
       "    </tr>\n",
       "  </tbody>\n",
       "</table>\n",
       "<p>5 rows × 72 columns</p>\n",
       "</div>"
      ],
      "text/plain": [
       "   layer_area_0  layer_area_1  layer_area_2  layer_contours_0  \\\n",
       "0      0.421598      0.418639      0.159763               3.0   \n",
       "1      0.426984      0.419048      0.153968               3.0   \n",
       "2      0.464716      0.397590      0.137694               3.0   \n",
       "3      0.316847      0.591963      0.091190               3.0   \n",
       "4      0.428000      0.410000      0.162000               3.0   \n",
       "\n",
       "   layer_contours_1  layer_distance_0  layer_distance_1  layer_distance_2  \\\n",
       "0               3.0           23.6008           32.8024           25.2982   \n",
       "1               3.0           23.7697           31.3847           24.8395   \n",
       "2               3.0           19.4165           22.3607           19.6469   \n",
       "3               3.0           17.7200           31.9061           19.6977   \n",
       "4               3.0           22.5610           19.6469           14.8661   \n",
       "\n",
       "   layer_distance_3  layer_distance_4         ...          interlayer_pos_15  \\\n",
       "0           32.8024             232.0         ...                      -32.0   \n",
       "1           25.4951             166.0         ...                       -7.0   \n",
       "2           22.3607             192.0         ...                       -9.0   \n",
       "3           31.9061             311.5         ...                      -32.0   \n",
       "4           19.6469             179.5         ...                      -29.0   \n",
       "\n",
       "   interlayer_pos_16  interlayer_pos_17  extremities0  extreme_infrared_0  \\\n",
       "0              -26.0             -123.0           5.0                 4.0   \n",
       "1              -13.0              -18.0           5.0                 0.0   \n",
       "2              -27.0             -107.0           5.0                23.5   \n",
       "3              -20.0             -112.0           5.0                13.5   \n",
       "4              -28.0             -117.0           3.0                 3.5   \n",
       "\n",
       "   extreme_infrared_1  extreme_infrared_2  extreme_infrared_3  \\\n",
       "0                 6.5                 4.0                24.5   \n",
       "1                 0.0                 0.0                 0.0   \n",
       "2                26.0                16.0                 1.5   \n",
       "3                 0.0                19.5                18.0   \n",
       "4                 3.0                 2.0                 0.0   \n",
       "\n",
       "   extreme_infrared_4  extreme_infrared_5  \n",
       "0                18.5                36.5  \n",
       "1                 0.0                 0.0  \n",
       "2                 1.5                29.0  \n",
       "3                 6.0                31.5  \n",
       "4                 0.0                 3.5  \n",
       "\n",
       "[5 rows x 72 columns]"
      ]
     },
     "execution_count": 44,
     "metadata": {},
     "output_type": "execute_result"
    }
   ],
   "source": [
    "X_final_df.head()"
   ]
  },
  {
   "cell_type": "code",
   "execution_count": 45,
   "metadata": {},
   "outputs": [
    {
     "data": {
      "text/html": [
       "<div>\n",
       "<style>\n",
       "    .dataframe thead tr:only-child th {\n",
       "        text-align: right;\n",
       "    }\n",
       "\n",
       "    .dataframe thead th {\n",
       "        text-align: left;\n",
       "    }\n",
       "\n",
       "    .dataframe tbody tr th {\n",
       "        vertical-align: top;\n",
       "    }\n",
       "</style>\n",
       "<table border=\"1\" class=\"dataframe\">\n",
       "  <thead>\n",
       "    <tr style=\"text-align: right;\">\n",
       "      <th></th>\n",
       "      <th>activity</th>\n",
       "    </tr>\n",
       "  </thead>\n",
       "  <tbody>\n",
       "    <tr>\n",
       "      <th>0</th>\n",
       "      <td>0</td>\n",
       "    </tr>\n",
       "    <tr>\n",
       "      <th>1</th>\n",
       "      <td>0</td>\n",
       "    </tr>\n",
       "    <tr>\n",
       "      <th>2</th>\n",
       "      <td>0</td>\n",
       "    </tr>\n",
       "    <tr>\n",
       "      <th>3</th>\n",
       "      <td>0</td>\n",
       "    </tr>\n",
       "    <tr>\n",
       "      <th>4</th>\n",
       "      <td>0</td>\n",
       "    </tr>\n",
       "  </tbody>\n",
       "</table>\n",
       "</div>"
      ],
      "text/plain": [
       "   activity\n",
       "0         0\n",
       "1         0\n",
       "2         0\n",
       "3         0\n",
       "4         0"
      ]
     },
     "execution_count": 45,
     "metadata": {},
     "output_type": "execute_result"
    }
   ],
   "source": [
    "y_final_df.head()"
   ]
  },
  {
   "cell_type": "code",
   "execution_count": 46,
   "metadata": {
    "collapsed": true
   },
   "outputs": [],
   "source": [
    "X_final_csv = \"{d}/{tag}_X.csv\".format(d=DATA_OUTPUT_DIR, tag=\"v1_final\")\n",
    "y_final_csv = \"{d}/{tag}_y.csv\".format(d=DATA_OUTPUT_DIR, tag=\"v1_final\")"
   ]
  },
  {
   "cell_type": "code",
   "execution_count": 47,
   "metadata": {
    "collapsed": true
   },
   "outputs": [],
   "source": [
    "X_final_file = open(X_final_csv, \"w\")\n",
    "y_final_file = open(y_final_csv, \"w\")\n",
    "\n",
    "X_final_df.to_csv(X_final_file, header=False, index=False)\n",
    "y_final_df.to_csv(y_final_file, header=False, index=False)\n",
    "\n",
    "X_final_file.close()\n",
    "y_final_file.close()"
   ]
  },
  {
   "cell_type": "markdown",
   "metadata": {},
   "source": [
    "###  data sampling"
   ]
  },
  {
   "cell_type": "code",
   "execution_count": 48,
   "metadata": {
    "collapsed": true
   },
   "outputs": [],
   "source": [
    "def sample_test_split(X_df, y_df, train_ratio, seed=42):\n",
    "    \n",
    "    train_size = math.floor(len(X_df) * train_ratio)\n",
    "    \n",
    "    X_train_df = X_df.sample(train_size, replace=False, random_state=seed)\n",
    "    y_train_df = y_df.loc[X_train_df.index]\n",
    "    \n",
    "    X_test_df = X_df.loc[~X_df.index.isin(X_train_df.index)]\n",
    "    y_test_df = y_df.loc[X_test_df.index]\n",
    "    \n",
    "    X_train, y_train = X_train_df.values, y_train_df.values\n",
    "    X_test, y_test = X_test_df.values, y_test_df.values\n",
    "    \n",
    "    return X_train, y_train, X_test, y_test"
   ]
  },
  {
   "cell_type": "code",
   "execution_count": 49,
   "metadata": {
    "collapsed": true
   },
   "outputs": [],
   "source": [
    "X_train, y_train, X_test, y_test = sample_test_split(X_final_df, y_final_df, 7/10)"
   ]
  },
  {
   "cell_type": "code",
   "execution_count": 50,
   "metadata": {},
   "outputs": [
    {
     "data": {
      "text/plain": [
       "(38967, 72)"
      ]
     },
     "execution_count": 50,
     "metadata": {},
     "output_type": "execute_result"
    }
   ],
   "source": [
    "X_train.shape"
   ]
  },
  {
   "cell_type": "code",
   "execution_count": 51,
   "metadata": {},
   "outputs": [
    {
     "data": {
      "text/plain": [
       "(38967, 1)"
      ]
     },
     "execution_count": 51,
     "metadata": {},
     "output_type": "execute_result"
    }
   ],
   "source": [
    "y_train.shape"
   ]
  },
  {
   "cell_type": "code",
   "execution_count": 52,
   "metadata": {},
   "outputs": [
    {
     "data": {
      "text/plain": [
       "(16701, 72)"
      ]
     },
     "execution_count": 52,
     "metadata": {},
     "output_type": "execute_result"
    }
   ],
   "source": [
    "X_test.shape"
   ]
  },
  {
   "cell_type": "code",
   "execution_count": 53,
   "metadata": {
    "scrolled": false
   },
   "outputs": [
    {
     "data": {
      "text/plain": [
       "(16701, 1)"
      ]
     },
     "execution_count": 53,
     "metadata": {},
     "output_type": "execute_result"
    }
   ],
   "source": [
    "y_test.shape"
   ]
  },
  {
   "cell_type": "code",
   "execution_count": 54,
   "metadata": {
    "collapsed": true
   },
   "outputs": [],
   "source": [
    "np.savetxt(\"{d}/{tag}_X_train.csv\".format(d=DATA_OUTPUT_DIR, tag=\"v1_final\"), X_train, delimiter=\",\", fmt=\"%.3f\")\n",
    "np.savetxt(\"{d}/{tag}_y_train.csv\".format(d=DATA_OUTPUT_DIR, tag=\"v1_final\"), y_train, delimiter=\",\", fmt=\"%.3f\")\n",
    "np.savetxt(\"{d}/{tag}_X_test.csv\".format(d=DATA_OUTPUT_DIR, tag=\"v1_final\"), X_test, delimiter=\",\", fmt=\"%.3f\")\n",
    "np.savetxt(\"{d}/{tag}_y_test.csv\".format(d=DATA_OUTPUT_DIR, tag=\"v1_final\"), y_test, delimiter=\",\", fmt=\"%.3f\")"
   ]
  },
  {
   "cell_type": "markdown",
   "metadata": {},
   "source": [
    "### training"
   ]
  },
  {
   "cell_type": "code",
   "execution_count": 55,
   "metadata": {
    "collapsed": true
   },
   "outputs": [],
   "source": [
    "import xgboost as xgb\n",
    "from sklearn import metrics"
   ]
  },
  {
   "cell_type": "code",
   "execution_count": 56,
   "metadata": {
    "collapsed": true
   },
   "outputs": [],
   "source": [
    "def get_normalized_confusion_matrix(y_true, y_predicted):\n",
    "    confusion_matrix = metrics.confusion_matrix(y_true, y_predicted)\n",
    "    confusion_matrix_normalized = confusion_matrix.astype(\"float\") / confusion_matrix.sum(axis=1)[:, np.newaxis]\n",
    "    confusion_matrix_normalized *= 100\n",
    "    return confusion_matrix_normalized"
   ]
  },
  {
   "cell_type": "code",
   "execution_count": 65,
   "metadata": {
    "collapsed": true
   },
   "outputs": [],
   "source": [
    "XGB_PARAM_FINAL = {}\n",
    "XGB_PARAM_FINAL[\"eta\"] = 0.3\n",
    "XGB_PARAM_FINAL[\"gamma\"] = 1\n",
    "XGB_PARAM_FINAL[\"lambda\"] = 1\n",
    "XGB_PARAM_FINAL[\"alpha\"] = 0\n",
    "XGB_PARAM_FINAL[\"max_depth\"] = 6\n",
    "XGB_PARAM_FINAL[\"colsample_bytree\"] = 0.5\n",
    "XGB_PARAM_FINAL[\"colsample_bylevel\"] = 0.5\n",
    "XGB_PARAM_FINAL[\"subsample\"] = 0.5\n",
    "XGB_PARAM_FINAL[\"objective\"] = \"multi:softmax\"\n",
    "XGB_PARAM_FINAL[\"eval_metric\"] = \"merror\"\n",
    "XGB_PARAM_FINAL[\"num_class\"] = len(ACTIVITIES)\n",
    "XGB_PARAM_FINAL[\"silent\"] = 0\n",
    "XGB_PARAM_FINAL[\"seed\"] = 42\n",
    "XGB_NUM_ROUNDS = 200\n",
    "XGB_EARLYSTOPPING_ROUNDS = 10"
   ]
  },
  {
   "cell_type": "code",
   "execution_count": 58,
   "metadata": {
    "collapsed": true
   },
   "outputs": [],
   "source": [
    "X = np.genfromtxt(\"{d}/{tag}_X.csv\".format(d=DATA_OUTPUT_DIR, tag=\"v1_final\"), delimiter=\",\", dtype=np.float)\n",
    "y = np.genfromtxt(\"{d}/{tag}_y.csv\".format(d=DATA_OUTPUT_DIR, tag=\"v1_final\"), delimiter=\",\", dtype=np.float)\n",
    "X_train = np.genfromtxt(\"{d}/{tag}_X_train.csv\".format(d=DATA_OUTPUT_DIR, tag=\"v1_final\"), delimiter=\",\", dtype=np.float)\n",
    "y_train = np.genfromtxt(\"{d}/{tag}_y_train.csv\".format(d=DATA_OUTPUT_DIR, tag=\"v1_final\"), delimiter=\",\", dtype=np.float)\n",
    "X_test = np.genfromtxt(\"{d}/{tag}_X_test.csv\".format(d=DATA_OUTPUT_DIR, tag=\"v1_final\"), delimiter=\",\", dtype=np.float)\n",
    "y_test = np.genfromtxt(\"{d}/{tag}_y_test.csv\".format(d=DATA_OUTPUT_DIR, tag=\"v1_final\"), delimiter=\",\", dtype=np.float)"
   ]
  },
  {
   "cell_type": "code",
   "execution_count": 59,
   "metadata": {
    "collapsed": true
   },
   "outputs": [],
   "source": [
    "train_xgbmatrix = xgb.DMatrix(X_train, y_train)\n",
    "test_xgbmatrix = xgb.DMatrix(X_test, y_test)\n",
    "watchlist = [(train_xgbmatrix, \"train\"), (test_xgbmatrix, \"eval\")]"
   ]
  },
  {
   "cell_type": "code",
   "execution_count": 66,
   "metadata": {},
   "outputs": [
    {
     "name": "stdout",
     "output_type": "stream",
     "text": [
      "[0]\ttrain-merror:0.180024\teval-merror:0.185498\n",
      "Multiple eval metrics have been passed: 'eval-merror' will be used for early stopping.\n",
      "\n",
      "Will train until eval-merror hasn't improved in 10 rounds.\n",
      "[100]\ttrain-merror:0.004902\teval-merror:0.046285\n",
      "Stopping. Best iteration:\n",
      "[120]\ttrain-merror:0.003208\teval-merror:0.044907\n",
      "\n"
     ]
    }
   ],
   "source": [
    "eval_results = {}\n",
    "validation = xgb.train(params=XGB_PARAM_FINAL, dtrain=train_xgbmatrix, evals=watchlist, evals_result=eval_results, \n",
    "                       num_boost_round=XGB_NUM_ROUNDS, early_stopping_rounds=XGB_EARLYSTOPPING_ROUNDS, verbose_eval=100)"
   ]
  },
  {
   "cell_type": "code",
   "execution_count": 67,
   "metadata": {},
   "outputs": [
    {
     "data": {
      "text/plain": [
       "121"
      ]
     },
     "execution_count": 67,
     "metadata": {},
     "output_type": "execute_result"
    }
   ],
   "source": [
    "validation.best_iteration+1"
   ]
  },
  {
   "cell_type": "code",
   "execution_count": 68,
   "metadata": {
    "collapsed": true
   },
   "outputs": [],
   "source": [
    "booster = xgb.train(params=XGB_PARAM_FINAL, dtrain=train_xgbmatrix, num_boost_round=validation.best_iteration+1)"
   ]
  },
  {
   "cell_type": "code",
   "execution_count": 69,
   "metadata": {
    "collapsed": true
   },
   "outputs": [],
   "source": [
    "y_predicted = booster.predict(test_xgbmatrix)"
   ]
  },
  {
   "cell_type": "code",
   "execution_count": 70,
   "metadata": {
    "collapsed": true
   },
   "outputs": [],
   "source": [
    "accuracy = metrics.accuracy_score(y_test, y_predicted)"
   ]
  },
  {
   "cell_type": "code",
   "execution_count": 71,
   "metadata": {},
   "outputs": [
    {
     "data": {
      "text/plain": [
       "0.955092509430573"
      ]
     },
     "execution_count": 71,
     "metadata": {},
     "output_type": "execute_result"
    }
   ],
   "source": [
    "accuracy"
   ]
  },
  {
   "cell_type": "code",
   "execution_count": 72,
   "metadata": {
    "collapsed": true
   },
   "outputs": [],
   "source": [
    "confusion_matrix = get_normalized_confusion_matrix(y_test, y_predicted)"
   ]
  },
  {
   "cell_type": "code",
   "execution_count": 73,
   "metadata": {},
   "outputs": [
    {
     "data": {
      "image/png": "[encoded data removed]",
      "text/plain": [
       "<matplotlib.figure.Figure at 0x1feb20ec550>"
      ]
     },
     "metadata": {},
     "output_type": "display_data"
    }
   ],
   "source": [
    "fig, ax = plt.subplots(figsize=(10,7.5))\n",
    "sns.heatmap(data=confusion_matrix, annot=True, fmt=\".2f\", linewidths=1, square=True,\n",
    "            vmin=0, vmax=100, ax=ax, xticklabels=ACTIVITIES, yticklabels=ACTIVITIES, cmap=sns.cubehelix_palette(8))\n",
    "plt.yticks(rotation=0)\n",
    "sns.despine(top=False, right=False, left=False, bottom=False)"
   ]
  },
  {
   "cell_type": "code",
   "execution_count": 74,
   "metadata": {
    "collapsed": true
   },
   "outputs": [],
   "source": [
    "all_dmatrix = xgb.DMatrix(X, y)"
   ]
  },
  {
   "cell_type": "code",
   "execution_count": 75,
   "metadata": {
    "collapsed": true
   },
   "outputs": [],
   "source": [
    "final_booster = xgb.train(params=XGB_PARAM_FINAL, dtrain=all_dmatrix, num_boost_round=validation.best_iteration+1)"
   ]
  },
  {
   "cell_type": "code",
   "execution_count": 76,
   "metadata": {
    "collapsed": true
   },
   "outputs": [],
   "source": [
    "final_booster.save_model(\"v2.model\")"
   ]
  }
 ],
 "metadata": {
  "kernelspec": {
   "display_name": "Python 3",
   "language": "python",
   "name": "python3"
  },
  "language_info": {
   "codemirror_mode": {
    "name": "ipython",
    "version": 3
   },
   "file_extension": ".py",
   "mimetype": "text/x-python",
   "name": "python",
   "nbconvert_exporter": "python",
   "pygments_lexer": "ipython3",
   "version": "3.6.3"
  }
 },
 "nbformat": 4,
 "nbformat_minor": 2
}
