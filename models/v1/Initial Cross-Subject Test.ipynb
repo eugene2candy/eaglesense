{
 "cells": [
  {
   "cell_type": "code",
   "execution_count": 1,
   "metadata": {
    "collapsed": true
   },
   "outputs": [],
   "source": [
    "import xgboost as xgb\n",
    "from sklearn import model_selection\n",
    "from sklearn import metrics\n",
    "\n",
    "import numpy as np\n",
    "import pandas as pd\n",
    "\n",
    "import os\n",
    "import pickle\n",
    "import itertools\n",
    "import random\n",
    "import math\n",
    "import time\n",
    "from datetime import timedelta\n",
    "\n",
    "%matplotlib inline\n",
    "np.set_printoptions(precision=2, suppress=True)"
   ]
  },
  {
   "cell_type": "markdown",
   "metadata": {},
   "source": [
    "## Data Overview"
   ]
  },
  {
   "cell_type": "code",
   "execution_count": 2,
   "metadata": {
    "collapsed": true
   },
   "outputs": [],
   "source": [
    "DATA_DIRECTORY = \"../data/topviewkinect/chi\"\n",
    "DATA_INFO = \"\""
   ]
  },
  {
   "cell_type": "code",
   "execution_count": 3,
   "metadata": {
    "collapsed": false
   },
   "outputs": [],
   "source": [
    "all_features_csv = \"{data_dir}/{data}features.csv\".format(data_dir=DATA_DIRECTORY, data=DATA_INFO)\n",
    "all_labels_csv = \"{data_dir}/{data}labels.csv\".format(data_dir=DATA_DIRECTORY, data=DATA_INFO)\n",
    "\n",
    "all_features_df = pd.read_csv(all_features_csv)\n",
    "all_labels_df = pd.read_csv(all_labels_csv)"
   ]
  },
  {
   "cell_type": "code",
   "execution_count": 4,
   "metadata": {
    "collapsed": false
   },
   "outputs": [
    {
     "data": {
      "text/plain": [
       "((77024, 73), (77024, 4))"
      ]
     },
     "execution_count": 4,
     "metadata": {},
     "output_type": "execute_result"
    }
   ],
   "source": [
    "all_features_df.shape, all_labels_df.shape"
   ]
  },
  {
   "cell_type": "code",
   "execution_count": 5,
   "metadata": {
    "collapsed": false
   },
   "outputs": [
    {
     "data": {
      "text/html": [
       "<div>\n",
       "<table border=\"1\" class=\"dataframe\">\n",
       "  <thead>\n",
       "    <tr style=\"text-align: right;\">\n",
       "      <th></th>\n",
       "      <th>layer_area_0</th>\n",
       "      <th>layer_area_1</th>\n",
       "      <th>layer_area_2</th>\n",
       "      <th>layer_contours_0</th>\n",
       "      <th>layer_contours_1</th>\n",
       "      <th>layer_distance_0</th>\n",
       "      <th>layer_distance_1</th>\n",
       "      <th>layer_distance_2</th>\n",
       "      <th>layer_distance_3</th>\n",
       "      <th>layer_distance_4</th>\n",
       "      <th>...</th>\n",
       "      <th>interlayer_pos_16</th>\n",
       "      <th>interlayer_pos_17</th>\n",
       "      <th>extremities0</th>\n",
       "      <th>extreme_infrared_0</th>\n",
       "      <th>extreme_infrared_1</th>\n",
       "      <th>extreme_infrared_2</th>\n",
       "      <th>extreme_infrared_3</th>\n",
       "      <th>extreme_infrared_4</th>\n",
       "      <th>extreme_infrared_5</th>\n",
       "      <th>subject</th>\n",
       "    </tr>\n",
       "  </thead>\n",
       "  <tbody>\n",
       "    <tr>\n",
       "      <th>0</th>\n",
       "      <td>0.297578</td>\n",
       "      <td>0.411765</td>\n",
       "      <td>0.290657</td>\n",
       "      <td>3.0</td>\n",
       "      <td>3.0</td>\n",
       "      <td>16.552900</td>\n",
       "      <td>26.683300</td>\n",
       "      <td>26.019199</td>\n",
       "      <td>26.683300</td>\n",
       "      <td>201.0</td>\n",
       "      <td>...</td>\n",
       "      <td>-26.0</td>\n",
       "      <td>-107.0</td>\n",
       "      <td>4.0</td>\n",
       "      <td>0.0</td>\n",
       "      <td>10.0</td>\n",
       "      <td>11.5</td>\n",
       "      <td>11.5</td>\n",
       "      <td>0.0</td>\n",
       "      <td>11.5</td>\n",
       "      <td>1.0</td>\n",
       "    </tr>\n",
       "    <tr>\n",
       "      <th>1</th>\n",
       "      <td>0.310345</td>\n",
       "      <td>0.419238</td>\n",
       "      <td>0.270417</td>\n",
       "      <td>3.0</td>\n",
       "      <td>3.0</td>\n",
       "      <td>16.401199</td>\n",
       "      <td>26.476400</td>\n",
       "      <td>26.019199</td>\n",
       "      <td>26.476400</td>\n",
       "      <td>191.5</td>\n",
       "      <td>...</td>\n",
       "      <td>-26.0</td>\n",
       "      <td>-105.0</td>\n",
       "      <td>5.0</td>\n",
       "      <td>0.5</td>\n",
       "      <td>9.0</td>\n",
       "      <td>11.0</td>\n",
       "      <td>1.0</td>\n",
       "      <td>0.5</td>\n",
       "      <td>11.0</td>\n",
       "      <td>1.0</td>\n",
       "    </tr>\n",
       "    <tr>\n",
       "      <th>2</th>\n",
       "      <td>0.318015</td>\n",
       "      <td>0.386029</td>\n",
       "      <td>0.295956</td>\n",
       "      <td>3.0</td>\n",
       "      <td>3.0</td>\n",
       "      <td>16.124500</td>\n",
       "      <td>26.248800</td>\n",
       "      <td>27.018499</td>\n",
       "      <td>26.248800</td>\n",
       "      <td>174.5</td>\n",
       "      <td>...</td>\n",
       "      <td>-26.0</td>\n",
       "      <td>-104.0</td>\n",
       "      <td>5.0</td>\n",
       "      <td>0.0</td>\n",
       "      <td>12.5</td>\n",
       "      <td>4.5</td>\n",
       "      <td>4.5</td>\n",
       "      <td>0.5</td>\n",
       "      <td>13.0</td>\n",
       "      <td>1.0</td>\n",
       "    </tr>\n",
       "    <tr>\n",
       "      <th>3</th>\n",
       "      <td>0.348399</td>\n",
       "      <td>0.384181</td>\n",
       "      <td>0.267420</td>\n",
       "      <td>3.0</td>\n",
       "      <td>3.0</td>\n",
       "      <td>16.401199</td>\n",
       "      <td>26.419701</td>\n",
       "      <td>26.476400</td>\n",
       "      <td>26.419701</td>\n",
       "      <td>164.0</td>\n",
       "      <td>...</td>\n",
       "      <td>-25.0</td>\n",
       "      <td>-103.0</td>\n",
       "      <td>5.0</td>\n",
       "      <td>0.0</td>\n",
       "      <td>6.0</td>\n",
       "      <td>4.5</td>\n",
       "      <td>0.0</td>\n",
       "      <td>0.0</td>\n",
       "      <td>7.0</td>\n",
       "      <td>1.0</td>\n",
       "    </tr>\n",
       "    <tr>\n",
       "      <th>4</th>\n",
       "      <td>0.356383</td>\n",
       "      <td>0.370567</td>\n",
       "      <td>0.273050</td>\n",
       "      <td>3.0</td>\n",
       "      <td>3.0</td>\n",
       "      <td>17.719999</td>\n",
       "      <td>27.459101</td>\n",
       "      <td>27.459101</td>\n",
       "      <td>27.459101</td>\n",
       "      <td>164.5</td>\n",
       "      <td>...</td>\n",
       "      <td>-26.0</td>\n",
       "      <td>-107.0</td>\n",
       "      <td>3.0</td>\n",
       "      <td>0.0</td>\n",
       "      <td>0.0</td>\n",
       "      <td>0.5</td>\n",
       "      <td>0.0</td>\n",
       "      <td>0.0</td>\n",
       "      <td>0.5</td>\n",
       "      <td>1.0</td>\n",
       "    </tr>\n",
       "  </tbody>\n",
       "</table>\n",
       "<p>5 rows × 73 columns</p>\n",
       "</div>"
      ],
      "text/plain": [
       "   layer_area_0  layer_area_1  layer_area_2  layer_contours_0  \\\n",
       "0      0.297578      0.411765      0.290657               3.0   \n",
       "1      0.310345      0.419238      0.270417               3.0   \n",
       "2      0.318015      0.386029      0.295956               3.0   \n",
       "3      0.348399      0.384181      0.267420               3.0   \n",
       "4      0.356383      0.370567      0.273050               3.0   \n",
       "\n",
       "   layer_contours_1  layer_distance_0  layer_distance_1  layer_distance_2  \\\n",
       "0               3.0         16.552900         26.683300         26.019199   \n",
       "1               3.0         16.401199         26.476400         26.019199   \n",
       "2               3.0         16.124500         26.248800         27.018499   \n",
       "3               3.0         16.401199         26.419701         26.476400   \n",
       "4               3.0         17.719999         27.459101         27.459101   \n",
       "\n",
       "   layer_distance_3  layer_distance_4   ...     interlayer_pos_16  \\\n",
       "0         26.683300             201.0   ...                 -26.0   \n",
       "1         26.476400             191.5   ...                 -26.0   \n",
       "2         26.248800             174.5   ...                 -26.0   \n",
       "3         26.419701             164.0   ...                 -25.0   \n",
       "4         27.459101             164.5   ...                 -26.0   \n",
       "\n",
       "   interlayer_pos_17  extremities0  extreme_infrared_0  extreme_infrared_1  \\\n",
       "0             -107.0           4.0                 0.0                10.0   \n",
       "1             -105.0           5.0                 0.5                 9.0   \n",
       "2             -104.0           5.0                 0.0                12.5   \n",
       "3             -103.0           5.0                 0.0                 6.0   \n",
       "4             -107.0           3.0                 0.0                 0.0   \n",
       "\n",
       "   extreme_infrared_2  extreme_infrared_3  extreme_infrared_4  \\\n",
       "0                11.5                11.5                 0.0   \n",
       "1                11.0                 1.0                 0.5   \n",
       "2                 4.5                 4.5                 0.5   \n",
       "3                 4.5                 0.0                 0.0   \n",
       "4                 0.5                 0.0                 0.0   \n",
       "\n",
       "   extreme_infrared_5  subject  \n",
       "0                11.5      1.0  \n",
       "1                11.0      1.0  \n",
       "2                13.0      1.0  \n",
       "3                 7.0      1.0  \n",
       "4                 0.5      1.0  \n",
       "\n",
       "[5 rows x 73 columns]"
      ]
     },
     "execution_count": 5,
     "metadata": {},
     "output_type": "execute_result"
    }
   ],
   "source": [
    "all_features_df.head()"
   ]
  },
  {
   "cell_type": "code",
   "execution_count": 6,
   "metadata": {
    "collapsed": false
   },
   "outputs": [
    {
     "data": {
      "text/html": [
       "<div>\n",
       "<table border=\"1\" class=\"dataframe\">\n",
       "  <thead>\n",
       "    <tr style=\"text-align: right;\">\n",
       "      <th></th>\n",
       "      <th>activity</th>\n",
       "      <th>orientation</th>\n",
       "      <th>orientation_accurate</th>\n",
       "      <th>subject</th>\n",
       "    </tr>\n",
       "  </thead>\n",
       "  <tbody>\n",
       "    <tr>\n",
       "      <th>0</th>\n",
       "      <td>0</td>\n",
       "      <td>130</td>\n",
       "      <td>-1</td>\n",
       "      <td>1</td>\n",
       "    </tr>\n",
       "    <tr>\n",
       "      <th>1</th>\n",
       "      <td>0</td>\n",
       "      <td>130</td>\n",
       "      <td>-1</td>\n",
       "      <td>1</td>\n",
       "    </tr>\n",
       "    <tr>\n",
       "      <th>2</th>\n",
       "      <td>0</td>\n",
       "      <td>120</td>\n",
       "      <td>-1</td>\n",
       "      <td>1</td>\n",
       "    </tr>\n",
       "    <tr>\n",
       "      <th>3</th>\n",
       "      <td>0</td>\n",
       "      <td>130</td>\n",
       "      <td>-1</td>\n",
       "      <td>1</td>\n",
       "    </tr>\n",
       "    <tr>\n",
       "      <th>4</th>\n",
       "      <td>0</td>\n",
       "      <td>150</td>\n",
       "      <td>-1</td>\n",
       "      <td>1</td>\n",
       "    </tr>\n",
       "  </tbody>\n",
       "</table>\n",
       "</div>"
      ],
      "text/plain": [
       "   activity  orientation  orientation_accurate  subject\n",
       "0         0          130                    -1        1\n",
       "1         0          130                    -1        1\n",
       "2         0          120                    -1        1\n",
       "3         0          130                    -1        1\n",
       "4         0          150                    -1        1"
      ]
     },
     "execution_count": 6,
     "metadata": {},
     "output_type": "execute_result"
    }
   ],
   "source": [
    "all_labels_df.head()"
   ]
  },
  {
   "cell_type": "code",
   "execution_count": 7,
   "metadata": {
    "collapsed": false
   },
   "outputs": [
    {
     "data": {
      "text/plain": [
       "array([ 1,  2,  3,  4,  5,  6,  7,  8,  9, 10, 11, 12], dtype=int64)"
      ]
     },
     "execution_count": 7,
     "metadata": {},
     "output_type": "execute_result"
    }
   ],
   "source": [
    "subjects_list = np.unique(all_labels_df[\"subject\"])\n",
    "subjects_list"
   ]
  },
  {
   "cell_type": "code",
   "execution_count": 8,
   "metadata": {
    "collapsed": false
   },
   "outputs": [
    {
     "data": {
      "text/plain": [
       "array([0, 1, 2, 3, 4, 5], dtype=int64)"
      ]
     },
     "execution_count": 8,
     "metadata": {},
     "output_type": "execute_result"
    }
   ],
   "source": [
    "activities_list = np.unique(all_labels_df[\"activity\"])\n",
    "activities_list"
   ]
  },
  {
   "cell_type": "markdown",
   "metadata": {},
   "source": [
    "## Training"
   ]
  },
  {
   "cell_type": "code",
   "execution_count": 9,
   "metadata": {
    "collapsed": false
   },
   "outputs": [
    {
     "data": {
      "text/html": [
       "<div>\n",
       "<table border=\"1\" class=\"dataframe\">\n",
       "  <thead>\n",
       "    <tr style=\"text-align: right;\">\n",
       "      <th></th>\n",
       "      <th>0</th>\n",
       "      <th>1</th>\n",
       "      <th>2</th>\n",
       "      <th>3</th>\n",
       "      <th>4</th>\n",
       "      <th>5</th>\n",
       "      <th>6</th>\n",
       "      <th>7</th>\n",
       "      <th>8</th>\n",
       "      <th>9</th>\n",
       "      <th>10</th>\n",
       "      <th>11</th>\n",
       "    </tr>\n",
       "  </thead>\n",
       "  <tbody>\n",
       "    <tr>\n",
       "      <th>0</th>\n",
       "      <td>964</td>\n",
       "      <td>657</td>\n",
       "      <td>769</td>\n",
       "      <td>869</td>\n",
       "      <td>958</td>\n",
       "      <td>801</td>\n",
       "      <td>630</td>\n",
       "      <td>1085</td>\n",
       "      <td>716</td>\n",
       "      <td>2216</td>\n",
       "      <td>1902</td>\n",
       "      <td>1525</td>\n",
       "    </tr>\n",
       "    <tr>\n",
       "      <th>1</th>\n",
       "      <td>1408</td>\n",
       "      <td>1540</td>\n",
       "      <td>1447</td>\n",
       "      <td>1261</td>\n",
       "      <td>1458</td>\n",
       "      <td>1242</td>\n",
       "      <td>1341</td>\n",
       "      <td>1298</td>\n",
       "      <td>1102</td>\n",
       "      <td>2251</td>\n",
       "      <td>2414</td>\n",
       "      <td>2170</td>\n",
       "    </tr>\n",
       "    <tr>\n",
       "      <th>2</th>\n",
       "      <td>472</td>\n",
       "      <td>282</td>\n",
       "      <td>224</td>\n",
       "      <td>588</td>\n",
       "      <td>393</td>\n",
       "      <td>1243</td>\n",
       "      <td>432</td>\n",
       "      <td>766</td>\n",
       "      <td>915</td>\n",
       "      <td>496</td>\n",
       "      <td>810</td>\n",
       "      <td>1388</td>\n",
       "    </tr>\n",
       "    <tr>\n",
       "      <th>3</th>\n",
       "      <td>1011</td>\n",
       "      <td>343</td>\n",
       "      <td>931</td>\n",
       "      <td>774</td>\n",
       "      <td>1055</td>\n",
       "      <td>777</td>\n",
       "      <td>673</td>\n",
       "      <td>837</td>\n",
       "      <td>731</td>\n",
       "      <td>1694</td>\n",
       "      <td>1404</td>\n",
       "      <td>1478</td>\n",
       "    </tr>\n",
       "    <tr>\n",
       "      <th>4</th>\n",
       "      <td>994</td>\n",
       "      <td>853</td>\n",
       "      <td>782</td>\n",
       "      <td>866</td>\n",
       "      <td>740</td>\n",
       "      <td>1017</td>\n",
       "      <td>807</td>\n",
       "      <td>982</td>\n",
       "      <td>656</td>\n",
       "      <td>2344</td>\n",
       "      <td>1512</td>\n",
       "      <td>1456</td>\n",
       "    </tr>\n",
       "    <tr>\n",
       "      <th>5</th>\n",
       "      <td>740</td>\n",
       "      <td>481</td>\n",
       "      <td>796</td>\n",
       "      <td>737</td>\n",
       "      <td>963</td>\n",
       "      <td>858</td>\n",
       "      <td>694</td>\n",
       "      <td>763</td>\n",
       "      <td>613</td>\n",
       "      <td>1728</td>\n",
       "      <td>1488</td>\n",
       "      <td>2413</td>\n",
       "    </tr>\n",
       "  </tbody>\n",
       "</table>\n",
       "</div>"
      ],
      "text/plain": [
       "     0     1     2     3     4     5     6     7     8     9     10    11\n",
       "0   964   657   769   869   958   801   630  1085   716  2216  1902  1525\n",
       "1  1408  1540  1447  1261  1458  1242  1341  1298  1102  2251  2414  2170\n",
       "2   472   282   224   588   393  1243   432   766   915   496   810  1388\n",
       "3  1011   343   931   774  1055   777   673   837   731  1694  1404  1478\n",
       "4   994   853   782   866   740  1017   807   982   656  2344  1512  1456\n",
       "5   740   481   796   737   963   858   694   763   613  1728  1488  2413"
      ]
     },
     "execution_count": 9,
     "metadata": {},
     "output_type": "execute_result"
    }
   ],
   "source": [
    "activity_samples_df = pd.DataFrame(0, index=np.arange(6), columns=np.arange(12))\n",
    "for subject_id in range(1, 13):\n",
    "    d = all_labels_df[all_labels_df[\"subject\"] == subject_id]\n",
    "    for activity_id in range(6):\n",
    "        activity_samples_df.ix[activity_id][subject_id-1] = len(d[d[\"activity\"] == activity_id])\n",
    "activity_samples_df"
   ]
  },
  {
   "cell_type": "code",
   "execution_count": 10,
   "metadata": {
    "collapsed": false
   },
   "outputs": [
    {
     "data": {
      "text/plain": [
       "[913, 1427, 542, 884, 924, 779]"
      ]
     },
     "execution_count": 10,
     "metadata": {},
     "output_type": "execute_result"
    }
   ],
   "source": [
    "median_activity_samples = [int(np.median(activity_samples_df.iloc[i])) for i in range(6)]\n",
    "median_activity_samples"
   ]
  },
  {
   "cell_type": "code",
   "execution_count": 11,
   "metadata": {
    "collapsed": true
   },
   "outputs": [],
   "source": [
    "def sample_data(data, n, random_state):\n",
    "    data_size = len(data)\n",
    "    if data_size <= n:\n",
    "        return data.sample(n=n, replace=True, random_state=random_state)\n",
    "    else:\n",
    "        sampled_data = pd.DataFrame(columns=data.columns)\n",
    "        stride = math.ceil(data_size / n)\n",
    "        i = 0\n",
    "        current_n = 0\n",
    "        while current_n < n:\n",
    "            sampled_data = sampled_data.append(data.iloc[i], ignore_index=True)\n",
    "            i += stride\n",
    "            if i+1 > data_size:\n",
    "                i = data_size - i+1\n",
    "            current_n += 1\n",
    "        return sampled_data"
   ]
  },
  {
   "cell_type": "code",
   "execution_count": 12,
   "metadata": {
    "collapsed": false
   },
   "outputs": [
    {
     "name": "stdout",
     "output_type": "stream",
     "text": [
      "Subject 1\n",
      "Subject 2\n",
      "Subject 3\n",
      "Subject 4\n",
      "Subject 5\n",
      "Subject 6\n",
      "Subject 7\n",
      "Subject 8\n",
      "Subject 9\n",
      "Subject 10\n",
      "Subject 11\n",
      "Subject 12\n"
     ]
    }
   ],
   "source": [
    "X_df = pd.DataFrame([])\n",
    "y_df = pd.DataFrame([])\n",
    "\n",
    "for subject_id in subjects_list:\n",
    "    print(\"Subject\", subject_id)\n",
    "    for activity_id in activities_list:\n",
    "        subject_df = all_labels_df[all_labels_df[\"subject\"] == subject_id]\n",
    "        subject_activity_df = subject_df[subject_df[\"activity\"] == activity_id]\n",
    "        data_indices = subject_activity_df.index\n",
    "        \n",
    "        subject_activity_y = subject_activity_df[\"activity\"].values\n",
    "        subject_activity_X = all_features_df.iloc[data_indices]\n",
    "        subject_activity_X = subject_activity_X.assign(activity=subject_activity_y)\n",
    "        \n",
    "        num_samples = median_activity_samples[activity_id]\n",
    "        subject_activity_X = sample_data(data=subject_activity_X, n=num_samples, random_state=42)\n",
    "        subject_activity_y = pd.DataFrame({\n",
    "            \"subject\": subject_activity_X[\"subject\"], \n",
    "            \"activity\":subject_activity_X[\"activity\"]\n",
    "        })\n",
    "        subject_activity_X.drop(labels=\"activity\", axis=1, inplace=True)\n",
    "        \n",
    "        X_df = X_df.append(subject_activity_X, ignore_index=True)\n",
    "        y_df = y_df.append(subject_activity_y, ignore_index=True)"
   ]
  },
  {
   "cell_type": "code",
   "execution_count": 13,
   "metadata": {
    "collapsed": false
   },
   "outputs": [
    {
     "data": {
      "text/html": [
       "<div>\n",
       "<table border=\"1\" class=\"dataframe\">\n",
       "  <thead>\n",
       "    <tr style=\"text-align: right;\">\n",
       "      <th></th>\n",
       "      <th>layer_area_0</th>\n",
       "      <th>layer_area_1</th>\n",
       "      <th>layer_area_2</th>\n",
       "      <th>layer_contours_0</th>\n",
       "      <th>layer_contours_1</th>\n",
       "      <th>layer_distance_0</th>\n",
       "      <th>layer_distance_1</th>\n",
       "      <th>layer_distance_2</th>\n",
       "      <th>layer_distance_3</th>\n",
       "      <th>layer_distance_4</th>\n",
       "      <th>...</th>\n",
       "      <th>interlayer_pos_16</th>\n",
       "      <th>interlayer_pos_17</th>\n",
       "      <th>extremities0</th>\n",
       "      <th>extreme_infrared_0</th>\n",
       "      <th>extreme_infrared_1</th>\n",
       "      <th>extreme_infrared_2</th>\n",
       "      <th>extreme_infrared_3</th>\n",
       "      <th>extreme_infrared_4</th>\n",
       "      <th>extreme_infrared_5</th>\n",
       "      <th>subject</th>\n",
       "    </tr>\n",
       "  </thead>\n",
       "  <tbody>\n",
       "    <tr>\n",
       "      <th>0</th>\n",
       "      <td>0.297578</td>\n",
       "      <td>0.411765</td>\n",
       "      <td>0.290657</td>\n",
       "      <td>3.0</td>\n",
       "      <td>3.0</td>\n",
       "      <td>16.552900</td>\n",
       "      <td>26.683300</td>\n",
       "      <td>26.019199</td>\n",
       "      <td>26.683300</td>\n",
       "      <td>201.0</td>\n",
       "      <td>...</td>\n",
       "      <td>-26.0</td>\n",
       "      <td>-107.0</td>\n",
       "      <td>4.0</td>\n",
       "      <td>0.0</td>\n",
       "      <td>10.0</td>\n",
       "      <td>11.5</td>\n",
       "      <td>11.5</td>\n",
       "      <td>0.0</td>\n",
       "      <td>11.5</td>\n",
       "      <td>1.0</td>\n",
       "    </tr>\n",
       "    <tr>\n",
       "      <th>1</th>\n",
       "      <td>0.318015</td>\n",
       "      <td>0.386029</td>\n",
       "      <td>0.295956</td>\n",
       "      <td>3.0</td>\n",
       "      <td>3.0</td>\n",
       "      <td>16.124500</td>\n",
       "      <td>26.248800</td>\n",
       "      <td>27.018499</td>\n",
       "      <td>26.248800</td>\n",
       "      <td>174.5</td>\n",
       "      <td>...</td>\n",
       "      <td>-26.0</td>\n",
       "      <td>-104.0</td>\n",
       "      <td>5.0</td>\n",
       "      <td>0.0</td>\n",
       "      <td>12.5</td>\n",
       "      <td>4.5</td>\n",
       "      <td>4.5</td>\n",
       "      <td>0.5</td>\n",
       "      <td>13.0</td>\n",
       "      <td>1.0</td>\n",
       "    </tr>\n",
       "    <tr>\n",
       "      <th>2</th>\n",
       "      <td>0.356383</td>\n",
       "      <td>0.370567</td>\n",
       "      <td>0.273050</td>\n",
       "      <td>3.0</td>\n",
       "      <td>3.0</td>\n",
       "      <td>17.719999</td>\n",
       "      <td>27.459101</td>\n",
       "      <td>27.459101</td>\n",
       "      <td>27.459101</td>\n",
       "      <td>164.5</td>\n",
       "      <td>...</td>\n",
       "      <td>-26.0</td>\n",
       "      <td>-107.0</td>\n",
       "      <td>3.0</td>\n",
       "      <td>0.0</td>\n",
       "      <td>0.0</td>\n",
       "      <td>0.5</td>\n",
       "      <td>0.0</td>\n",
       "      <td>0.0</td>\n",
       "      <td>0.5</td>\n",
       "      <td>1.0</td>\n",
       "    </tr>\n",
       "    <tr>\n",
       "      <th>3</th>\n",
       "      <td>0.407066</td>\n",
       "      <td>0.351767</td>\n",
       "      <td>0.241167</td>\n",
       "      <td>3.0</td>\n",
       "      <td>3.0</td>\n",
       "      <td>20.615499</td>\n",
       "      <td>31.400600</td>\n",
       "      <td>28.600700</td>\n",
       "      <td>25.709900</td>\n",
       "      <td>156.5</td>\n",
       "      <td>...</td>\n",
       "      <td>-30.0</td>\n",
       "      <td>-110.0</td>\n",
       "      <td>5.0</td>\n",
       "      <td>0.0</td>\n",
       "      <td>3.5</td>\n",
       "      <td>3.5</td>\n",
       "      <td>19.0</td>\n",
       "      <td>4.0</td>\n",
       "      <td>19.5</td>\n",
       "      <td>1.0</td>\n",
       "    </tr>\n",
       "    <tr>\n",
       "      <th>4</th>\n",
       "      <td>0.466003</td>\n",
       "      <td>0.388060</td>\n",
       "      <td>0.145937</td>\n",
       "      <td>3.0</td>\n",
       "      <td>3.0</td>\n",
       "      <td>22.203600</td>\n",
       "      <td>30.805799</td>\n",
       "      <td>21.023800</td>\n",
       "      <td>30.805799</td>\n",
       "      <td>187.0</td>\n",
       "      <td>...</td>\n",
       "      <td>-32.0</td>\n",
       "      <td>-110.0</td>\n",
       "      <td>4.0</td>\n",
       "      <td>8.0</td>\n",
       "      <td>4.0</td>\n",
       "      <td>2.0</td>\n",
       "      <td>5.5</td>\n",
       "      <td>0.0</td>\n",
       "      <td>8.0</td>\n",
       "      <td>1.0</td>\n",
       "    </tr>\n",
       "  </tbody>\n",
       "</table>\n",
       "<p>5 rows × 73 columns</p>\n",
       "</div>"
      ],
      "text/plain": [
       "   layer_area_0  layer_area_1  layer_area_2  layer_contours_0  \\\n",
       "0      0.297578      0.411765      0.290657               3.0   \n",
       "1      0.318015      0.386029      0.295956               3.0   \n",
       "2      0.356383      0.370567      0.273050               3.0   \n",
       "3      0.407066      0.351767      0.241167               3.0   \n",
       "4      0.466003      0.388060      0.145937               3.0   \n",
       "\n",
       "   layer_contours_1  layer_distance_0  layer_distance_1  layer_distance_2  \\\n",
       "0               3.0         16.552900         26.683300         26.019199   \n",
       "1               3.0         16.124500         26.248800         27.018499   \n",
       "2               3.0         17.719999         27.459101         27.459101   \n",
       "3               3.0         20.615499         31.400600         28.600700   \n",
       "4               3.0         22.203600         30.805799         21.023800   \n",
       "\n",
       "   layer_distance_3  layer_distance_4   ...     interlayer_pos_16  \\\n",
       "0         26.683300             201.0   ...                 -26.0   \n",
       "1         26.248800             174.5   ...                 -26.0   \n",
       "2         27.459101             164.5   ...                 -26.0   \n",
       "3         25.709900             156.5   ...                 -30.0   \n",
       "4         30.805799             187.0   ...                 -32.0   \n",
       "\n",
       "   interlayer_pos_17  extremities0  extreme_infrared_0  extreme_infrared_1  \\\n",
       "0             -107.0           4.0                 0.0                10.0   \n",
       "1             -104.0           5.0                 0.0                12.5   \n",
       "2             -107.0           3.0                 0.0                 0.0   \n",
       "3             -110.0           5.0                 0.0                 3.5   \n",
       "4             -110.0           4.0                 8.0                 4.0   \n",
       "\n",
       "   extreme_infrared_2  extreme_infrared_3  extreme_infrared_4  \\\n",
       "0                11.5                11.5                 0.0   \n",
       "1                 4.5                 4.5                 0.5   \n",
       "2                 0.5                 0.0                 0.0   \n",
       "3                 3.5                19.0                 4.0   \n",
       "4                 2.0                 5.5                 0.0   \n",
       "\n",
       "   extreme_infrared_5  subject  \n",
       "0                11.5      1.0  \n",
       "1                13.0      1.0  \n",
       "2                 0.5      1.0  \n",
       "3                19.5      1.0  \n",
       "4                 8.0      1.0  \n",
       "\n",
       "[5 rows x 73 columns]"
      ]
     },
     "execution_count": 13,
     "metadata": {},
     "output_type": "execute_result"
    }
   ],
   "source": [
    "X_df.head()"
   ]
  },
  {
   "cell_type": "code",
   "execution_count": 14,
   "metadata": {
    "collapsed": false
   },
   "outputs": [
    {
     "data": {
      "text/html": [
       "<div>\n",
       "<table border=\"1\" class=\"dataframe\">\n",
       "  <thead>\n",
       "    <tr style=\"text-align: right;\">\n",
       "      <th></th>\n",
       "      <th>activity</th>\n",
       "      <th>subject</th>\n",
       "    </tr>\n",
       "  </thead>\n",
       "  <tbody>\n",
       "    <tr>\n",
       "      <th>0</th>\n",
       "      <td>0.0</td>\n",
       "      <td>1.0</td>\n",
       "    </tr>\n",
       "    <tr>\n",
       "      <th>1</th>\n",
       "      <td>0.0</td>\n",
       "      <td>1.0</td>\n",
       "    </tr>\n",
       "    <tr>\n",
       "      <th>2</th>\n",
       "      <td>0.0</td>\n",
       "      <td>1.0</td>\n",
       "    </tr>\n",
       "    <tr>\n",
       "      <th>3</th>\n",
       "      <td>0.0</td>\n",
       "      <td>1.0</td>\n",
       "    </tr>\n",
       "    <tr>\n",
       "      <th>4</th>\n",
       "      <td>0.0</td>\n",
       "      <td>1.0</td>\n",
       "    </tr>\n",
       "  </tbody>\n",
       "</table>\n",
       "</div>"
      ],
      "text/plain": [
       "   activity  subject\n",
       "0       0.0      1.0\n",
       "1       0.0      1.0\n",
       "2       0.0      1.0\n",
       "3       0.0      1.0\n",
       "4       0.0      1.0"
      ]
     },
     "execution_count": 14,
     "metadata": {},
     "output_type": "execute_result"
    }
   ],
   "source": [
    "y_df.head()"
   ]
  },
  {
   "cell_type": "code",
   "execution_count": 16,
   "metadata": {
    "collapsed": false
   },
   "outputs": [
    {
     "data": {
      "text/plain": [
       "((65628, 73), (65628, 2))"
      ]
     },
     "execution_count": 16,
     "metadata": {},
     "output_type": "execute_result"
    }
   ],
   "source": [
    "X_df.shape, y_df.shape"
   ]
  },
  {
   "cell_type": "code",
   "execution_count": 17,
   "metadata": {
    "collapsed": true
   },
   "outputs": [],
   "source": [
    "subject_train_indices = [1, 3, 5, 7, 9, 11]\n",
    "subject_test_indices = [2, 4, 6, 8, 10, 12]"
   ]
  },
  {
   "cell_type": "code",
   "execution_count": 18,
   "metadata": {
    "collapsed": true
   },
   "outputs": [],
   "source": [
    "X_train_df = X_df[X_df[\"subject\"].isin(subject_train_indices)].reset_index(drop=True)\n",
    "y_train_df = y_df[y_df[\"subject\"].isin(subject_train_indices)].reset_index(drop=True)\n",
    "X_test_df = X_df[X_df[\"subject\"].isin(subject_test_indices)].reset_index(drop=True)\n",
    "y_test_df = y_df[y_df[\"subject\"].isin(subject_test_indices)].reset_index(drop=True)\n",
    "\n",
    "init_X_all = all_features_df.drop(labels=\"subject\", axis=1).values\n",
    "init_y_all = all_labels_df[\"activity\"].values\n",
    "X_train = X_train_df.drop(labels=\"subject\", axis=1).values\n",
    "y_train = y_train_df[\"activity\"].values\n",
    "X_test = X_test_df.drop(labels=\"subject\", axis=1).values\n",
    "y_test = y_test_df[\"activity\"].values\n",
    "X_all = np.concatenate([X_train, X_test])\n",
    "y_all = np.concatenate([y_train, y_test])"
   ]
  },
  {
   "cell_type": "code",
   "execution_count": 19,
   "metadata": {
    "collapsed": false
   },
   "outputs": [
    {
     "data": {
      "text/plain": [
       "((77024, 72), (77024,))"
      ]
     },
     "execution_count": 19,
     "metadata": {},
     "output_type": "execute_result"
    }
   ],
   "source": [
    "init_X_all.shape, init_y_all.shape"
   ]
  },
  {
   "cell_type": "code",
   "execution_count": 20,
   "metadata": {
    "collapsed": false
   },
   "outputs": [
    {
     "data": {
      "text/plain": [
       "((32814, 72), (32814,))"
      ]
     },
     "execution_count": 20,
     "metadata": {},
     "output_type": "execute_result"
    }
   ],
   "source": [
    "X_train.shape, y_train.shape"
   ]
  },
  {
   "cell_type": "code",
   "execution_count": 21,
   "metadata": {
    "collapsed": false
   },
   "outputs": [
    {
     "data": {
      "text/plain": [
       "((32814, 72), (32814,))"
      ]
     },
     "execution_count": 21,
     "metadata": {},
     "output_type": "execute_result"
    }
   ],
   "source": [
    "X_test.shape, y_test.shape"
   ]
  },
  {
   "cell_type": "code",
   "execution_count": 22,
   "metadata": {
    "collapsed": false
   },
   "outputs": [
    {
     "data": {
      "text/plain": [
       "((65628, 72), (65628,))"
      ]
     },
     "execution_count": 22,
     "metadata": {},
     "output_type": "execute_result"
    }
   ],
   "source": [
    "X_all.shape, y_all.shape"
   ]
  },
  {
   "cell_type": "code",
   "execution_count": 23,
   "metadata": {
    "collapsed": true
   },
   "outputs": [],
   "source": [
    "init_all_dmatrix = xgb.DMatrix(init_X_all, init_y_all)\n",
    "train_dmatrix = xgb.DMatrix(X_train, y_train)\n",
    "test_dmatrix = xgb.DMatrix(X_test, y_test)\n",
    "all_dmatrix = xgb.DMatrix(X_all, y_all)"
   ]
  },
  {
   "cell_type": "markdown",
   "metadata": {},
   "source": [
    "## Cross Validation"
   ]
  },
  {
   "cell_type": "code",
   "execution_count": 23,
   "metadata": {
    "collapsed": true
   },
   "outputs": [],
   "source": [
    "cv = []\n",
    "for subject_id in subject_train_indices:\n",
    "    train_indices = y_train_df[y_train_df[\"subject\"] != subject_id].index.tolist()\n",
    "    validation_indices = y_train_df[y_train_df[\"subject\"] == subject_id].index.tolist()\n",
    "    cv.append((train_indices, validation_indices))"
   ]
  },
  {
   "cell_type": "code",
   "execution_count": 24,
   "metadata": {
    "collapsed": false
   },
   "outputs": [],
   "source": [
    "def cv_tune_num_boost_round(X, y, cv, params, num_boost_round, early_stopping, verbose):\n",
    "    \n",
    "    start = time.time()\n",
    "    \n",
    "    cv_errors = list()\n",
    "    \n",
    "    for cv_idx, (train_indices, validation_indices) in enumerate(cv):\n",
    "        print(\"| CV:\", cv_idx)\n",
    "        \n",
    "        cv_X_train = np.take(X, train_indices, axis=0)\n",
    "        cv_y_train = np.take(y, train_indices, axis=0)\n",
    "        cv_train_dmatrix = xgb.DMatrix(cv_X_train, cv_y_train)\n",
    "\n",
    "        cv_X_validation = np.take(X, validation_indices, axis=0)\n",
    "        cv_y_validation = np.take(y, validation_indices, axis=0)\n",
    "        cv_validation_dmatrix = xgb.DMatrix(cv_X_validation, cv_y_validation)\n",
    "\n",
    "        watchlist = [(cv_train_dmatrix, \"train\"), (cv_validation_dmatrix, \"eval\")]\n",
    "        cv_result = {}\n",
    "\n",
    "        model = xgb.train(params=params, dtrain=cv_train_dmatrix, evals=watchlist, evals_result=cv_result, \n",
    "                          num_boost_round=num_boost_round, verbose_eval=verbose)\n",
    "        \n",
    "        cv_errors.append(cv_result)\n",
    "        \n",
    "        print(\"\\n| Elapsed: {elapsed}\\n\".format(elapsed=timedelta(seconds=(time.time() - start))))\n",
    "\n",
    "    validation_errors = [errors[\"eval\"][\"merror\"] for errors in cv_errors]\n",
    "    validation_avg_errors = [np.median(errors) for errors in zip(*validation_errors)]\n",
    "    \n",
    "    for i in range(early_stopping - 1, num_boost_round):\n",
    "        validation_range_start = i - (early_stopping - 1)\n",
    "        validation_range_errors =  validation_avg_errors[validation_range_start:i+1]\n",
    "        if validation_range_errors[0] <= np.min(validation_range_errors):\n",
    "            return cv_errors, np.min(validation_avg_errors[0:i+1]), np.argmin(validation_avg_errors[0:i+1])+1\n",
    "\n",
    "    return cv_errors, np.min(validation_avg_errors), np.argmin(validation_avg_errors)+1"
   ]
  },
  {
   "cell_type": "code",
   "execution_count": 25,
   "metadata": {
    "collapsed": false
   },
   "outputs": [],
   "source": [
    "def cv_tune_tree_booster(X, y, params, cv_params, cv, n_jobs=-1, verbose=2):\n",
    "    \n",
    "    cv_model = model_selection.GridSearchCV(\n",
    "        xgb.XGBClassifier(**params), param_grid=cv_params, cv=cv, n_jobs=n_jobs, verbose=verbose)\n",
    "    \n",
    "    cv_model.fit(X, y)\n",
    "    \n",
    "    return cv_model"
   ]
  },
  {
   "cell_type": "markdown",
   "metadata": {},
   "source": [
    "#### 1. Fix parameters and find the number of estimators (boosting rounds)"
   ]
  },
  {
   "cell_type": "code",
   "execution_count": 26,
   "metadata": {
    "collapsed": true
   },
   "outputs": [],
   "source": [
    "params = {\n",
    "    \"learning_rate\": 0.05,\n",
    "    \"n_estimators\": 100,\n",
    "    \"max_depth\": 5,\n",
    "    \"min_child_weight\": 1,\n",
    "    \"max_delta_step\": 1,\n",
    "    \"gamma\": 0.5,\n",
    "    \"subsample\": 0.5,\n",
    "    \"colsample_bytree\": 0.5,\n",
    "    \"colsample_bylevel\": 0.5,\n",
    "    \"reg_lambda\": 1,\n",
    "    \"reg_alpha\": 0,\n",
    "    \"scale_pos_weight\": 1,\n",
    "    \"objective\": \"multi:softmax\",\n",
    "    \"eval_metric\": \"merror\",\n",
    "    \"num_class\": 6,\n",
    "    \"silent\": 0,\n",
    "    \"seed\": 42\n",
    "}"
   ]
  },
  {
   "cell_type": "code",
   "execution_count": 27,
   "metadata": {
    "collapsed": false
   },
   "outputs": [
    {
     "name": "stdout",
     "output_type": "stream",
     "text": [
      "----------------------------------\n"
     ]
    },
    {
     "data": {
      "text/plain": [
       "{'colsample_bylevel': 0.5,\n",
       " 'colsample_bytree': 0.5,\n",
       " 'eval_metric': 'merror',\n",
       " 'gamma': 0.5,\n",
       " 'learning_rate': 0.05,\n",
       " 'max_delta_step': 1,\n",
       " 'max_depth': 5,\n",
       " 'min_child_weight': 1,\n",
       " 'n_estimators': 100,\n",
       " 'num_class': 6,\n",
       " 'objective': 'multi:softmax',\n",
       " 'reg_alpha': 0,\n",
       " 'reg_lambda': 1,\n",
       " 'scale_pos_weight': 1,\n",
       " 'seed': 42,\n",
       " 'silent': 0,\n",
       " 'subsample': 0.5}"
      ]
     },
     "execution_count": 27,
     "metadata": {},
     "output_type": "execute_result"
    }
   ],
   "source": [
    "print(\"----------------------------------\")\n",
    "params"
   ]
  },
  {
   "cell_type": "code",
   "execution_count": 28,
   "metadata": {
    "collapsed": false,
    "scrolled": true
   },
   "outputs": [
    {
     "name": "stdout",
     "output_type": "stream",
     "text": [
      "| CV: 0\n",
      "[0]\ttrain-merror:0.101481\teval-merror:0.250137\n",
      "[50]\ttrain-merror:0.016712\teval-merror:0.087585\n",
      "[100]\ttrain-merror:0.009691\teval-merror:0.066374\n",
      "[150]\ttrain-merror:0.004717\teval-merror:0.048089\n",
      "[200]\ttrain-merror:0.002158\teval-merror:0.044432\n",
      "[250]\ttrain-merror:0.001097\teval-merror:0.041507\n",
      "[300]\ttrain-merror:0.000585\teval-merror:0.041324\n",
      "[350]\ttrain-merror:0.000512\teval-merror:0.039312\n",
      "[400]\ttrain-merror:0.000293\teval-merror:0.039861\n",
      "[450]\ttrain-merror:0.000183\teval-merror:0.039495\n",
      "\n",
      "| Elapsed: 0:01:23.848902\n",
      "\n",
      "| CV: 1\n",
      "[0]\ttrain-merror:0.070872\teval-merror:0.262571\n",
      "[50]\ttrain-merror:0.018541\teval-merror:0.042969\n",
      "[100]\ttrain-merror:0.010532\teval-merror:0.036021\n",
      "[150]\ttrain-merror:0.004717\teval-merror:0.035107\n",
      "[200]\ttrain-merror:0.002194\teval-merror:0.035656\n",
      "[250]\ttrain-merror:0.00117\teval-merror:0.034376\n",
      "[300]\ttrain-merror:0.000695\teval-merror:0.035107\n",
      "[350]\ttrain-merror:0.000366\teval-merror:0.033827\n",
      "[400]\ttrain-merror:0.000256\teval-merror:0.032913\n",
      "[450]\ttrain-merror:0.000219\teval-merror:0.032913\n",
      "\n",
      "| Elapsed: 0:03:00.790664\n",
      "\n",
      "| CV: 2\n",
      "[0]\ttrain-merror:0.084805\teval-merror:0.327299\n",
      "[50]\ttrain-merror:0.017444\teval-merror:0.102944\n",
      "[100]\ttrain-merror:0.010422\teval-merror:0.089047\n",
      "[150]\ttrain-merror:0.004827\teval-merror:0.075517\n",
      "[200]\ttrain-merror:0.002377\teval-merror:0.071128\n",
      "[250]\ttrain-merror:0.001317\teval-merror:0.0693\n",
      "[300]\ttrain-merror:0.000731\teval-merror:0.06674\n",
      "[350]\ttrain-merror:0.000439\teval-merror:0.063997\n",
      "[400]\ttrain-merror:0.000183\teval-merror:0.064911\n",
      "[450]\ttrain-merror:0.000146\teval-merror:0.065277\n",
      "\n",
      "| Elapsed: 0:04:30.035039\n",
      "\n",
      "| CV: 3\n",
      "[0]\ttrain-merror:0.06908\teval-merror:0.446517\n",
      "[50]\ttrain-merror:0.015725\teval-merror:0.256537\n",
      "[100]\ttrain-merror:0.009508\teval-merror:0.265496\n",
      "[150]\ttrain-merror:0.004608\teval-merror:0.303346\n",
      "[200]\ttrain-merror:0.002304\teval-merror:0.329859\n",
      "[250]\ttrain-merror:0.001243\teval-merror:0.346133\n",
      "[300]\ttrain-merror:0.000841\teval-merror:0.350338\n",
      "[350]\ttrain-merror:0.000512\teval-merror:0.351801\n",
      "[400]\ttrain-merror:0.000219\teval-merror:0.349973\n",
      "[450]\ttrain-merror:0.000146\teval-merror:0.356007\n",
      "\n",
      "| Elapsed: 0:05:59.561071\n",
      "\n",
      "| CV: 4\n",
      "[0]\ttrain-merror:0.10203\teval-merror:0.3145\n",
      "[50]\ttrain-merror:0.018248\teval-merror:0.044432\n",
      "[100]\ttrain-merror:0.010093\teval-merror:0.039312\n",
      "[150]\ttrain-merror:0.004608\teval-merror:0.038033\n",
      "[200]\ttrain-merror:0.002377\teval-merror:0.035656\n",
      "[250]\ttrain-merror:0.001317\teval-merror:0.03529\n",
      "[300]\ttrain-merror:0.000622\teval-merror:0.035838\n",
      "[350]\ttrain-merror:0.000439\teval-merror:0.034558\n",
      "[400]\ttrain-merror:0.000256\teval-merror:0.034376\n",
      "[450]\ttrain-merror:0.000146\teval-merror:0.034376\n",
      "\n",
      "| Elapsed: 0:07:36.927472\n",
      "\n",
      "| CV: 5\n",
      "[0]\ttrain-merror:0.083525\teval-merror:0.4968\n",
      "[50]\ttrain-merror:0.015798\teval-merror:0.192723\n",
      "[100]\ttrain-merror:0.008265\teval-merror:0.237338\n",
      "[150]\ttrain-merror:0.004169\teval-merror:0.228927\n",
      "[200]\ttrain-merror:0.001865\teval-merror:0.232767\n",
      "[250]\ttrain-merror:0.001061\teval-merror:0.232401\n",
      "[300]\ttrain-merror:0.000768\teval-merror:0.232218\n",
      "[350]\ttrain-merror:0.000366\teval-merror:0.233681\n",
      "[400]\ttrain-merror:0.000256\teval-merror:0.232218\n",
      "[450]\ttrain-merror:0.000183\teval-merror:0.232035\n",
      "\n",
      "| Elapsed: 0:09:18.132102\n",
      "\n"
     ]
    }
   ],
   "source": [
    "cv_errors, min_error, n_estimators = cv_tune_num_boost_round(\n",
    "    X=X_train, y=y_train, cv=cv, params=params, num_boost_round=500, early_stopping=50, verbose=50)"
   ]
  },
  {
   "cell_type": "code",
   "execution_count": 29,
   "metadata": {
    "collapsed": false
   },
   "outputs": [
    {
     "name": "stdout",
     "output_type": "stream",
     "text": [
      "----------------------------------\n",
      "n_estimators = 383\n",
      "min_error = 0.051106\n"
     ]
    }
   ],
   "source": [
    "print(\"----------------------------------\")\n",
    "print(\"n_estimators =\", n_estimators)\n",
    "print(\"min_error =\", min_error)"
   ]
  },
  {
   "cell_type": "code",
   "execution_count": 30,
   "metadata": {
    "collapsed": true
   },
   "outputs": [],
   "source": [
    "params = {\n",
    "    \"learning_rate\": 0.05,\n",
    "    \"n_estimators\": n_estimators,\n",
    "    \"max_depth\": 5,\n",
    "    \"min_child_weight\": 1,\n",
    "    \"max_delta_step\": 1,\n",
    "    \"gamma\": 0.5,\n",
    "    \"subsample\": 0.5,\n",
    "    \"colsample_bytree\": 0.5,\n",
    "    \"colsample_bylevel\": 0.5,\n",
    "    \"reg_lambda\": 1,\n",
    "    \"reg_alpha\": 0,\n",
    "    \"scale_pos_weight\": 1,\n",
    "    \"objective\": \"multi:softmax\",\n",
    "    \"eval_metric\": \"merror\",\n",
    "    \"num_class\": 6,\n",
    "    \"silent\": 0,\n",
    "    \"seed\": 42\n",
    "}"
   ]
  },
  {
   "cell_type": "code",
   "execution_count": 31,
   "metadata": {
    "collapsed": false
   },
   "outputs": [
    {
     "name": "stdout",
     "output_type": "stream",
     "text": [
      "----------------------------------\n"
     ]
    },
    {
     "data": {
      "text/plain": [
       "{'colsample_bylevel': 0.5,\n",
       " 'colsample_bytree': 0.5,\n",
       " 'eval_metric': 'merror',\n",
       " 'gamma': 0.5,\n",
       " 'learning_rate': 0.05,\n",
       " 'max_delta_step': 1,\n",
       " 'max_depth': 5,\n",
       " 'min_child_weight': 1,\n",
       " 'n_estimators': 383,\n",
       " 'num_class': 6,\n",
       " 'objective': 'multi:softmax',\n",
       " 'reg_alpha': 0,\n",
       " 'reg_lambda': 1,\n",
       " 'scale_pos_weight': 1,\n",
       " 'seed': 42,\n",
       " 'silent': 0,\n",
       " 'subsample': 0.5}"
      ]
     },
     "execution_count": 31,
     "metadata": {},
     "output_type": "execute_result"
    }
   ],
   "source": [
    "print(\"----------------------------------\")\n",
    "params"
   ]
  },
  {
   "cell_type": "markdown",
   "metadata": {},
   "source": [
    "#### 1b. Testing error"
   ]
  },
  {
   "cell_type": "code",
   "execution_count": 32,
   "metadata": {
    "collapsed": true
   },
   "outputs": [],
   "source": [
    "booster = xgb.train(params=params, dtrain=train_dmatrix, num_boost_round=params[\"n_estimators\"])"
   ]
  },
  {
   "cell_type": "code",
   "execution_count": 33,
   "metadata": {
    "collapsed": true
   },
   "outputs": [],
   "source": [
    "y_predicted = booster.predict(test_dmatrix)"
   ]
  },
  {
   "cell_type": "code",
   "execution_count": 34,
   "metadata": {
    "collapsed": false
   },
   "outputs": [
    {
     "name": "stdout",
     "output_type": "stream",
     "text": [
      "0.902358749314\n",
      "[[ 97.19   0.07   0.     0.75   1.62   0.37]\n",
      " [  0.74  98.45   0.39   0.     0.42   0.01]\n",
      " [  0.65   6.46  92.19   0.     0.55   0.15]\n",
      " [ 25.74   0.     0.    67.02   5.79   1.45]\n",
      " [  1.26   0.07   0.     5.27  90.95   2.45]\n",
      " [  7.57   0.13   0.     0.71   0.41  91.19]]\n"
     ]
    }
   ],
   "source": [
    "accuracy = metrics.accuracy_score(y_test, y_predicted)\n",
    "cm = metrics.confusion_matrix(y_test, y_predicted)\n",
    "cm = cm.astype(\"float\") / cm.sum(axis=1)[:, np.newaxis]\n",
    "cm *= 100\n",
    "print(accuracy)\n",
    "print(cm)"
   ]
  },
  {
   "cell_type": "markdown",
   "metadata": {},
   "source": [
    "#### 2. Tune max_depth and min_child_weight"
   ]
  },
  {
   "cell_type": "code",
   "execution_count": 35,
   "metadata": {
    "collapsed": false,
    "scrolled": true
   },
   "outputs": [],
   "source": [
    "params = {\n",
    "    \"learning_rate\": 0.05,\n",
    "    \"n_estimators\": n_estimators,\n",
    "    \"max_depth\": 5,\n",
    "    \"min_child_weight\": 1,\n",
    "    \"max_delta_step\": 1,\n",
    "    \"gamma\": 0.5,\n",
    "    \"subsample\": 0.5,\n",
    "    \"colsample_bytree\": 0.5,\n",
    "    \"colsample_bylevel\": 0.5,\n",
    "    \"reg_lambda\": 1,\n",
    "    \"reg_alpha\": 0,\n",
    "    \"scale_pos_weight\": 1,\n",
    "    \"objective\": \"multi:softmax\",\n",
    "    \"silent\": 0,\n",
    "    \"seed\": 42\n",
    "}\n",
    "\n",
    "cv_params = {\n",
    "    \"max_depth\": list(range(3,10,2)), \n",
    "    \"min_child_weight\": list(range(1,10,2))\n",
    "}"
   ]
  },
  {
   "cell_type": "code",
   "execution_count": 36,
   "metadata": {
    "collapsed": false
   },
   "outputs": [
    {
     "name": "stdout",
     "output_type": "stream",
     "text": [
      "----------------------------------\n"
     ]
    },
    {
     "data": {
      "text/plain": [
       "{'max_depth': [3, 5, 7, 9], 'min_child_weight': [1, 3, 5, 7, 9]}"
      ]
     },
     "execution_count": 36,
     "metadata": {},
     "output_type": "execute_result"
    }
   ],
   "source": [
    "print(\"----------------------------------\")\n",
    "params\n",
    "cv_params"
   ]
  },
  {
   "cell_type": "code",
   "execution_count": 37,
   "metadata": {
    "collapsed": false,
    "scrolled": true
   },
   "outputs": [
    {
     "name": "stdout",
     "output_type": "stream",
     "text": [
      "Fitting 6 folds for each of 20 candidates, totalling 120 fits\n"
     ]
    },
    {
     "name": "stderr",
     "output_type": "stream",
     "text": [
      "[Parallel(n_jobs=-1)]: Done  25 tasks      | elapsed: 22.7min\n",
      "[Parallel(n_jobs=-1)]: Done 120 out of 120 | elapsed: 102.4min finished\n"
     ]
    }
   ],
   "source": [
    "cv_model = cv_tune_tree_booster(\n",
    "    X=X_train, y=y_train, params=params, cv_params=cv_params, cv=cv)\n",
    "\n",
    "max_depth, min_child_weight = cv_model.best_params_[\"max_depth\"], cv_model.best_params_[\"min_child_weight\"]"
   ]
  },
  {
   "cell_type": "code",
   "execution_count": 38,
   "metadata": {
    "collapsed": false
   },
   "outputs": [
    {
     "name": "stdout",
     "output_type": "stream",
     "text": [
      "----------------------------------\n",
      "{'max_depth': 3, 'min_child_weight': 1} - mean: 0.869324, std: 0.127181\n",
      "{'max_depth': 3, 'min_child_weight': 3} - mean: 0.868227, std: 0.129352\n",
      "{'max_depth': 3, 'min_child_weight': 5} - mean: 0.867099, std: 0.130871\n",
      "{'max_depth': 3, 'min_child_weight': 7} - mean: 0.870330, std: 0.127460\n",
      "{'max_depth': 3, 'min_child_weight': 9} - mean: 0.870086, std: 0.126819\n",
      "{'max_depth': 5, 'min_child_weight': 1} - mean: 0.874566, std: 0.122147\n",
      "{'max_depth': 5, 'min_child_weight': 3} - mean: 0.875510, std: 0.118223\n",
      "{'max_depth': 5, 'min_child_weight': 5} - mean: 0.873408, std: 0.122494\n",
      "{'max_depth': 5, 'min_child_weight': 7} - mean: 0.877400, std: 0.114564\n",
      "{'max_depth': 5, 'min_child_weight': 9} - mean: 0.873804, std: 0.120069\n",
      "{'max_depth': 7, 'min_child_weight': 1} - mean: 0.873621, std: 0.120794\n",
      "{'max_depth': 7, 'min_child_weight': 3} - mean: 0.875632, std: 0.118581\n",
      "{'max_depth': 7, 'min_child_weight': 5} - mean: 0.874535, std: 0.118904\n",
      "{'max_depth': 7, 'min_child_weight': 7} - mean: 0.869080, std: 0.124743\n",
      "{'max_depth': 7, 'min_child_weight': 9} - mean: 0.870360, std: 0.123165\n",
      "{'max_depth': 9, 'min_child_weight': 1} - mean: 0.878223, std: 0.116094\n",
      "{'max_depth': 9, 'min_child_weight': 3} - mean: 0.869659, std: 0.126523\n",
      "{'max_depth': 9, 'min_child_weight': 5} - mean: 0.871092, std: 0.126816\n",
      "{'max_depth': 9, 'min_child_weight': 7} - mean: 0.875023, std: 0.118956\n",
      "{'max_depth': 9, 'min_child_weight': 9} - mean: 0.878345, std: 0.113459\n",
      "----------------------------------\n",
      "max_depth = 9\n",
      "min_child_weight = 9\n",
      "best score = 0.878344609008\n"
     ]
    }
   ],
   "source": [
    "print(\"----------------------------------\")\n",
    "cv_results = cv_model.cv_results_\n",
    "for param_idx, param in enumerate(cv_results[\"params\"]):\n",
    "    print(\"{param} - mean: {mean:.6f}, std: {std:.6f}\".format(\n",
    "        param=param, mean=cv_results[\"mean_test_score\"][param_idx], std=cv_results[\"std_test_score\"][param_idx]))\n",
    "\n",
    "print(\"----------------------------------\")\n",
    "print(\"max_depth =\", max_depth)\n",
    "print(\"min_child_weight =\", min_child_weight)\n",
    "print(\"best score =\", cv_model.best_score_)"
   ]
  },
  {
   "cell_type": "markdown",
   "metadata": {},
   "source": [
    "#### 2b. Fine tune max_depth and min_child_weight"
   ]
  },
  {
   "cell_type": "code",
   "execution_count": 39,
   "metadata": {
    "collapsed": false
   },
   "outputs": [],
   "source": [
    "params = {\n",
    "    \"learning_rate\": 0.05,\n",
    "    \"n_estimators\": n_estimators,\n",
    "    \"max_depth\": 5,\n",
    "    \"min_child_weight\": 1,\n",
    "    \"max_delta_step\": 1,\n",
    "    \"gamma\": 0.5,\n",
    "    \"subsample\": 0.5,\n",
    "    \"colsample_bytree\": 0.5,\n",
    "    \"colsample_bylevel\": 0.5,\n",
    "    \"reg_lambda\": 1,\n",
    "    \"reg_alpha\": 0,\n",
    "    \"scale_pos_weight\": 1,\n",
    "    \"objective\": \"multi:softmax\",\n",
    "    \"silent\": 0,\n",
    "    \"seed\": 42\n",
    "}\n",
    "\n",
    "cv_params = {\n",
    "    \"max_depth\": [max_depth-1, max_depth, max_depth+1], \n",
    "    \"min_child_weight\": [min_child_weight-1, min_child_weight, min_child_weight+1]\n",
    "}"
   ]
  },
  {
   "cell_type": "code",
   "execution_count": 40,
   "metadata": {
    "collapsed": false
   },
   "outputs": [
    {
     "name": "stdout",
     "output_type": "stream",
     "text": [
      "----------------------------------\n"
     ]
    },
    {
     "data": {
      "text/plain": [
       "{'max_depth': [8, 9, 10], 'min_child_weight': [8, 9, 10]}"
      ]
     },
     "execution_count": 40,
     "metadata": {},
     "output_type": "execute_result"
    }
   ],
   "source": [
    "print(\"----------------------------------\")\n",
    "params\n",
    "cv_params"
   ]
  },
  {
   "cell_type": "code",
   "execution_count": 41,
   "metadata": {
    "collapsed": false
   },
   "outputs": [
    {
     "name": "stdout",
     "output_type": "stream",
     "text": [
      "Fitting 6 folds for each of 9 candidates, totalling 54 fits\n"
     ]
    },
    {
     "name": "stderr",
     "output_type": "stream",
     "text": [
      "[Parallel(n_jobs=-1)]: Done  25 tasks      | elapsed: 26.4min\n",
      "[Parallel(n_jobs=-1)]: Done  54 out of  54 | elapsed: 47.5min finished\n"
     ]
    }
   ],
   "source": [
    "cv_model = cv_tune_tree_booster(\n",
    "    X=X_train, y=y_train, params=params, cv_params=cv_params, cv=cv)\n",
    "\n",
    "max_depth, min_child_weight = cv_model.best_params_[\"max_depth\"], cv_model.best_params_[\"min_child_weight\"]"
   ]
  },
  {
   "cell_type": "code",
   "execution_count": 42,
   "metadata": {
    "collapsed": false
   },
   "outputs": [
    {
     "name": "stdout",
     "output_type": "stream",
     "text": [
      "----------------------------------\n",
      "{'max_depth': 8, 'min_child_weight': 8} - mean: 0.871579, std: 0.125113\n",
      "{'max_depth': 8, 'min_child_weight': 9} - mean: 0.875663, std: 0.118095\n",
      "{'max_depth': 8, 'min_child_weight': 10} - mean: 0.867587, std: 0.124941\n",
      "{'max_depth': 9, 'min_child_weight': 8} - mean: 0.873072, std: 0.123376\n",
      "{'max_depth': 9, 'min_child_weight': 9} - mean: 0.878345, std: 0.113459\n",
      "{'max_depth': 9, 'min_child_weight': 10} - mean: 0.864844, std: 0.132270\n",
      "{'max_depth': 10, 'min_child_weight': 8} - mean: 0.873377, std: 0.122244\n",
      "{'max_depth': 10, 'min_child_weight': 9} - mean: 0.870756, std: 0.127472\n",
      "{'max_depth': 10, 'min_child_weight': 10} - mean: 0.871793, std: 0.119864\n",
      "----------------------------------\n",
      "max_depth = 9\n",
      "min_child_weight = 9\n",
      "best score = 0.878344609008\n"
     ]
    }
   ],
   "source": [
    "print(\"----------------------------------\")\n",
    "cv_results = cv_model.cv_results_\n",
    "for param_idx, param in enumerate(cv_results[\"params\"]):\n",
    "    print(\"{param} - mean: {mean:.6f}, std: {std:.6f}\".format(\n",
    "        param=param, mean=cv_results[\"mean_test_score\"][param_idx], std=cv_results[\"std_test_score\"][param_idx]))\n",
    "\n",
    "print(\"----------------------------------\")\n",
    "print(\"max_depth =\", max_depth)\n",
    "print(\"min_child_weight =\", min_child_weight)\n",
    "print(\"best score =\", cv_model.best_score_)"
   ]
  },
  {
   "cell_type": "markdown",
   "metadata": {},
   "source": [
    "#### 2c. Calibrate the number of boosting rounds"
   ]
  },
  {
   "cell_type": "code",
   "execution_count": 43,
   "metadata": {
    "collapsed": false
   },
   "outputs": [],
   "source": [
    "params = {\n",
    "    \"learning_rate\": 0.05,\n",
    "    \"n_estimators\": n_estimators,\n",
    "    \"max_depth\": max_depth,\n",
    "    \"min_child_weight\": min_child_weight,\n",
    "    \"max_delta_step\": 1,\n",
    "    \"gamma\": 0.5,\n",
    "    \"subsample\": 0.5,\n",
    "    \"colsample_bytree\": 0.5,\n",
    "    \"colsample_bylevel\": 0.5,\n",
    "    \"reg_lambda\": 1,\n",
    "    \"reg_alpha\": 0,\n",
    "    \"scale_pos_weight\": 1,\n",
    "    \"objective\": \"multi:softmax\",\n",
    "    \"eval_metric\": \"merror\",\n",
    "    \"num_class\": 6,\n",
    "    \"silent\": 0,\n",
    "    \"seed\": 42\n",
    "}"
   ]
  },
  {
   "cell_type": "code",
   "execution_count": 44,
   "metadata": {
    "collapsed": false
   },
   "outputs": [
    {
     "name": "stdout",
     "output_type": "stream",
     "text": [
      "----------------------------------\n"
     ]
    },
    {
     "data": {
      "text/plain": [
       "{'colsample_bylevel': 0.5,\n",
       " 'colsample_bytree': 0.5,\n",
       " 'eval_metric': 'merror',\n",
       " 'gamma': 0.5,\n",
       " 'learning_rate': 0.05,\n",
       " 'max_delta_step': 1,\n",
       " 'max_depth': 9,\n",
       " 'min_child_weight': 9,\n",
       " 'n_estimators': 383,\n",
       " 'num_class': 6,\n",
       " 'objective': 'multi:softmax',\n",
       " 'reg_alpha': 0,\n",
       " 'reg_lambda': 1,\n",
       " 'scale_pos_weight': 1,\n",
       " 'seed': 42,\n",
       " 'silent': 0,\n",
       " 'subsample': 0.5}"
      ]
     },
     "execution_count": 44,
     "metadata": {},
     "output_type": "execute_result"
    }
   ],
   "source": [
    "print(\"----------------------------------\")\n",
    "params"
   ]
  },
  {
   "cell_type": "code",
   "execution_count": 45,
   "metadata": {
    "collapsed": false
   },
   "outputs": [
    {
     "name": "stdout",
     "output_type": "stream",
     "text": [
      "| CV: 0\n",
      "[0]\ttrain-merror:0.053977\teval-merror:0.147925\n",
      "[50]\ttrain-merror:0.01247\teval-merror:0.083379\n",
      "[100]\ttrain-merror:0.006948\teval-merror:0.05394\n",
      "[150]\ttrain-merror:0.003803\teval-merror:0.048638\n",
      "[200]\ttrain-merror:0.002523\teval-merror:0.045712\n",
      "[250]\ttrain-merror:0.002011\teval-merror:0.043884\n",
      "[300]\ttrain-merror:0.001572\teval-merror:0.039678\n",
      "[350]\ttrain-merror:0.001243\teval-merror:0.039678\n",
      "[400]\ttrain-merror:0.001097\teval-merror:0.038947\n",
      "[450]\ttrain-merror:0.001024\teval-merror:0.038033\n",
      "\n",
      "| Elapsed: 0:01:27.582212\n",
      "\n",
      "| CV: 1\n",
      "[0]\ttrain-merror:0.048382\teval-merror:0.130737\n",
      "[50]\ttrain-merror:0.012982\teval-merror:0.04041\n",
      "[100]\ttrain-merror:0.006948\teval-merror:0.033278\n",
      "[150]\ttrain-merror:0.00395\teval-merror:0.033096\n",
      "[200]\ttrain-merror:0.002926\teval-merror:0.034376\n",
      "[250]\ttrain-merror:0.002084\teval-merror:0.03273\n",
      "[300]\ttrain-merror:0.001755\teval-merror:0.032364\n",
      "[350]\ttrain-merror:0.001353\teval-merror:0.03145\n",
      "[400]\ttrain-merror:0.001207\teval-merror:0.032364\n",
      "[450]\ttrain-merror:0.000951\teval-merror:0.032181\n",
      "\n",
      "| Elapsed: 0:02:56.093595\n",
      "\n",
      "| CV: 2\n",
      "[0]\ttrain-merror:0.058036\teval-merror:0.116475\n",
      "[50]\ttrain-merror:0.012214\teval-merror:0.092704\n",
      "[100]\ttrain-merror:0.0064\teval-merror:0.082648\n",
      "[150]\ttrain-merror:0.003986\teval-merror:0.073871\n",
      "[200]\ttrain-merror:0.002999\teval-merror:0.070031\n",
      "[250]\ttrain-merror:0.002414\teval-merror:0.068751\n",
      "[300]\ttrain-merror:0.001938\teval-merror:0.066008\n",
      "[350]\ttrain-merror:0.001463\teval-merror:0.066557\n",
      "[400]\ttrain-merror:0.001243\teval-merror:0.067288\n",
      "[450]\ttrain-merror:0.001061\teval-merror:0.067106\n",
      "\n",
      "| Elapsed: 0:04:23.844483\n",
      "\n",
      "| CV: 3\n",
      "[0]\ttrain-merror:0.070506\teval-merror:0.457671\n",
      "[50]\ttrain-merror:0.012105\teval-merror:0.322545\n",
      "[100]\ttrain-merror:0.006985\teval-merror:0.346681\n",
      "[150]\ttrain-merror:0.004388\teval-merror:0.348693\n",
      "[200]\ttrain-merror:0.002926\teval-merror:0.332053\n",
      "[250]\ttrain-merror:0.002084\teval-merror:0.308832\n",
      "[300]\ttrain-merror:0.001865\teval-merror:0.313586\n",
      "[350]\ttrain-merror:0.001536\teval-merror:0.315048\n",
      "[400]\ttrain-merror:0.001243\teval-merror:0.31066\n",
      "[450]\ttrain-merror:0.001024\teval-merror:0.294752\n",
      "\n",
      "| Elapsed: 0:05:50.861040\n",
      "\n",
      "| CV: 4\n",
      "[0]\ttrain-merror:0.052039\teval-merror:0.099287\n",
      "[50]\ttrain-merror:0.012617\teval-merror:0.044615\n",
      "[100]\ttrain-merror:0.006619\teval-merror:0.039678\n",
      "[150]\ttrain-merror:0.00384\teval-merror:0.037667\n",
      "[200]\ttrain-merror:0.002633\teval-merror:0.035107\n",
      "[250]\ttrain-merror:0.002048\teval-merror:0.034741\n",
      "[300]\ttrain-merror:0.001682\teval-merror:0.035107\n",
      "[350]\ttrain-merror:0.001353\teval-merror:0.034558\n",
      "[400]\ttrain-merror:0.001134\teval-merror:0.035107\n",
      "[450]\ttrain-merror:0.000914\teval-merror:0.036204\n",
      "\n",
      "| Elapsed: 0:07:19.021480\n",
      "\n",
      "| CV: 5\n",
      "[0]\ttrain-merror:0.054526\teval-merror:0.530993\n",
      "[50]\ttrain-merror:0.011885\teval-merror:0.232949\n",
      "[100]\ttrain-merror:0.006546\teval-merror:0.240629\n",
      "[150]\ttrain-merror:0.00362\teval-merror:0.236241\n",
      "[200]\ttrain-merror:0.002377\teval-merror:0.235692\n",
      "[250]\ttrain-merror:0.001938\teval-merror:0.234412\n",
      "[300]\ttrain-merror:0.001609\teval-merror:0.240812\n",
      "[350]\ttrain-merror:0.00128\teval-merror:0.242092\n",
      "[400]\ttrain-merror:0.001097\teval-merror:0.246297\n",
      "[450]\ttrain-merror:0.000987\teval-merror:0.244286\n",
      "\n",
      "| Elapsed: 0:08:45.393540\n",
      "\n"
     ]
    }
   ],
   "source": [
    "cv_errors, min_error, n_estimators = cv_tune_num_boost_round(\n",
    "    X=X_train, y=y_train, cv=cv, params=params, num_boost_round=500, early_stopping=50, verbose=50)"
   ]
  },
  {
   "cell_type": "code",
   "execution_count": 46,
   "metadata": {
    "collapsed": false
   },
   "outputs": [
    {
     "name": "stdout",
     "output_type": "stream",
     "text": [
      "----------------------------------\n",
      "n_estimators = 321\n",
      "min_error = 0.052569\n"
     ]
    }
   ],
   "source": [
    "print(\"----------------------------------\")\n",
    "print(\"n_estimators =\", n_estimators)\n",
    "print(\"min_error =\", min_error)"
   ]
  },
  {
   "cell_type": "markdown",
   "metadata": {},
   "source": [
    "#### 2d. Testing error"
   ]
  },
  {
   "cell_type": "code",
   "execution_count": 47,
   "metadata": {
    "collapsed": true
   },
   "outputs": [],
   "source": [
    "params = {\n",
    "    \"learning_rate\": 0.05,\n",
    "    \"n_estimators\": n_estimators,\n",
    "    \"max_depth\": max_depth,\n",
    "    \"min_child_weight\": min_child_weight,\n",
    "    \"max_delta_step\": 1,\n",
    "    \"gamma\": 0.5,\n",
    "    \"subsample\": 0.5,\n",
    "    \"colsample_bytree\": 0.5,\n",
    "    \"colsample_bylevel\": 0.5,\n",
    "    \"reg_lambda\": 1,\n",
    "    \"reg_alpha\": 0,\n",
    "    \"scale_pos_weight\": 1,\n",
    "    \"objective\": \"multi:softmax\",\n",
    "    \"eval_metric\": \"merror\",\n",
    "    \"num_class\": 6,\n",
    "    \"silent\": 0,\n",
    "    \"seed\": 42\n",
    "}"
   ]
  },
  {
   "cell_type": "code",
   "execution_count": 48,
   "metadata": {
    "collapsed": false
   },
   "outputs": [
    {
     "name": "stdout",
     "output_type": "stream",
     "text": [
      "----------------------------------\n"
     ]
    },
    {
     "data": {
      "text/plain": [
       "{'colsample_bylevel': 0.5,\n",
       " 'colsample_bytree': 0.5,\n",
       " 'eval_metric': 'merror',\n",
       " 'gamma': 0.5,\n",
       " 'learning_rate': 0.05,\n",
       " 'max_delta_step': 1,\n",
       " 'max_depth': 9,\n",
       " 'min_child_weight': 9,\n",
       " 'n_estimators': 321,\n",
       " 'num_class': 6,\n",
       " 'objective': 'multi:softmax',\n",
       " 'reg_alpha': 0,\n",
       " 'reg_lambda': 1,\n",
       " 'scale_pos_weight': 1,\n",
       " 'seed': 42,\n",
       " 'silent': 0,\n",
       " 'subsample': 0.5}"
      ]
     },
     "execution_count": 48,
     "metadata": {},
     "output_type": "execute_result"
    }
   ],
   "source": [
    "print(\"----------------------------------\")\n",
    "params"
   ]
  },
  {
   "cell_type": "code",
   "execution_count": 49,
   "metadata": {
    "collapsed": true
   },
   "outputs": [],
   "source": [
    "booster = xgb.train(params=params, dtrain=train_dmatrix, num_boost_round=params[\"n_estimators\"])"
   ]
  },
  {
   "cell_type": "code",
   "execution_count": 50,
   "metadata": {
    "collapsed": true
   },
   "outputs": [],
   "source": [
    "y_predicted = booster.predict(test_dmatrix)"
   ]
  },
  {
   "cell_type": "code",
   "execution_count": 51,
   "metadata": {
    "collapsed": false
   },
   "outputs": [
    {
     "name": "stdout",
     "output_type": "stream",
     "text": [
      "0.904796733102\n",
      "[[ 97.48   0.04   0.     0.68   1.57   0.24]\n",
      " [  0.74  98.66   0.32   0.     0.29   0.  ]\n",
      " [  1.05   6.55  92.07   0.     0.15   0.18]\n",
      " [ 26.17   0.     0.    67.14   4.83   1.87]\n",
      " [  1.26   0.11   0.     4.6   91.25   2.78]\n",
      " [  7.06   0.24   0.     0.66   0.28  91.76]]\n"
     ]
    }
   ],
   "source": [
    "accuracy = metrics.accuracy_score(y_test, y_predicted)\n",
    "cm = metrics.confusion_matrix(y_test, y_predicted)\n",
    "cm = cm.astype(\"float\") / cm.sum(axis=1)[:, np.newaxis]\n",
    "cm *= 100\n",
    "print(accuracy)\n",
    "print(cm)"
   ]
  },
  {
   "cell_type": "markdown",
   "metadata": {},
   "source": [
    "#### 3. Tune gamma"
   ]
  },
  {
   "cell_type": "code",
   "execution_count": 52,
   "metadata": {
    "collapsed": false
   },
   "outputs": [],
   "source": [
    "params = {\n",
    "    \"learning_rate\": 0.05,\n",
    "    \"n_estimators\": n_estimators,\n",
    "    \"max_depth\": max_depth,\n",
    "    \"min_child_weight\": min_child_weight,\n",
    "    \"max_delta_step\": 1,\n",
    "    \"gamma\": 0.5,\n",
    "    \"subsample\": 0.5,\n",
    "    \"colsample_bytree\": 0.5,\n",
    "    \"colsample_bylevel\": 0.5,\n",
    "    \"reg_lambda\": 1,\n",
    "    \"reg_alpha\": 0,\n",
    "    \"scale_pos_weight\": 1,\n",
    "    \"objective\": \"multi:softmax\",\n",
    "    \"silent\": 0,\n",
    "    \"seed\": 42\n",
    "}\n",
    "\n",
    "cv_params = {\n",
    "    \"gamma\": [i/10.0 for i in range(0, 11)]\n",
    "}"
   ]
  },
  {
   "cell_type": "code",
   "execution_count": 53,
   "metadata": {
    "collapsed": false
   },
   "outputs": [
    {
     "name": "stdout",
     "output_type": "stream",
     "text": [
      "----------------------------------\n"
     ]
    },
    {
     "data": {
      "text/plain": [
       "{'gamma': [0.0, 0.1, 0.2, 0.3, 0.4, 0.5, 0.6, 0.7, 0.8, 0.9, 1.0]}"
      ]
     },
     "execution_count": 53,
     "metadata": {},
     "output_type": "execute_result"
    }
   ],
   "source": [
    "print(\"----------------------------------\")\n",
    "params\n",
    "cv_params"
   ]
  },
  {
   "cell_type": "code",
   "execution_count": 54,
   "metadata": {
    "collapsed": false
   },
   "outputs": [
    {
     "name": "stdout",
     "output_type": "stream",
     "text": [
      "Fitting 6 folds for each of 11 candidates, totalling 66 fits\n"
     ]
    },
    {
     "name": "stderr",
     "output_type": "stream",
     "text": [
      "[Parallel(n_jobs=-1)]: Done  25 tasks      | elapsed: 22.7min\n",
      "[Parallel(n_jobs=-1)]: Done  66 out of  66 | elapsed: 49.7min finished\n"
     ]
    }
   ],
   "source": [
    "cv_model = cv_tune_tree_booster(\n",
    "    X=X_train, y=y_train, params=params, cv_params=cv_params, cv=cv)\n",
    "\n",
    "gamma = cv_model.best_params_[\"gamma\"]"
   ]
  },
  {
   "cell_type": "code",
   "execution_count": 55,
   "metadata": {
    "collapsed": false
   },
   "outputs": [
    {
     "name": "stdout",
     "output_type": "stream",
     "text": [
      "----------------------------------\n",
      "{'gamma': 0.0} - mean: 0.873164, std: 0.121493\n",
      "{'gamma': 0.1} - mean: 0.869415, std: 0.128694\n",
      "{'gamma': 0.2} - mean: 0.872981, std: 0.122192\n",
      "{'gamma': 0.3} - mean: 0.872463, std: 0.121026\n",
      "{'gamma': 0.4} - mean: 0.873286, std: 0.121653\n",
      "{'gamma': 0.5} - mean: 0.878192, std: 0.114036\n",
      "{'gamma': 0.6} - mean: 0.878497, std: 0.112706\n",
      "{'gamma': 0.7} - mean: 0.874992, std: 0.117516\n",
      "{'gamma': 0.8} - mean: 0.875175, std: 0.119884\n",
      "{'gamma': 0.9} - mean: 0.876120, std: 0.119733\n",
      "{'gamma': 1.0} - mean: 0.875937, std: 0.119502\n",
      "----------------------------------\n",
      "gamma = 0.6\n"
     ]
    }
   ],
   "source": [
    "print(\"----------------------------------\")\n",
    "cv_results = cv_model.cv_results_\n",
    "for param_idx, param in enumerate(cv_results[\"params\"]):\n",
    "    print(\"{param} - mean: {mean:.6f}, std: {std:.6f}\".format(\n",
    "        param=param, mean=cv_results[\"mean_test_score\"][param_idx], std=cv_results[\"std_test_score\"][param_idx]))\n",
    "\n",
    "print(\"----------------------------------\")\n",
    "print(\"gamma =\", gamma)"
   ]
  },
  {
   "cell_type": "markdown",
   "metadata": {},
   "source": [
    "#### 3b. Calibrate the number of boosting rounds"
   ]
  },
  {
   "cell_type": "code",
   "execution_count": 56,
   "metadata": {
    "collapsed": true
   },
   "outputs": [],
   "source": [
    "params = {\n",
    "    \"learning_rate\": 0.05,\n",
    "    \"n_estimators\": n_estimators,\n",
    "    \"max_depth\": max_depth,\n",
    "    \"min_child_weight\": min_child_weight,\n",
    "    \"max_delta_step\": 1,\n",
    "    \"gamma\": gamma,\n",
    "    \"subsample\": 0.5,\n",
    "    \"colsample_bytree\": 0.5,\n",
    "    \"colsample_bylevel\": 0.5,\n",
    "    \"reg_lambda\": 1,\n",
    "    \"reg_alpha\": 0,\n",
    "    \"scale_pos_weight\": 1,\n",
    "    \"objective\": \"multi:softmax\",\n",
    "    \"eval_metric\": \"merror\",\n",
    "    \"num_class\": 6,\n",
    "    \"silent\": 0,\n",
    "    \"seed\": 42\n",
    "}"
   ]
  },
  {
   "cell_type": "code",
   "execution_count": 59,
   "metadata": {
    "collapsed": false
   },
   "outputs": [
    {
     "name": "stdout",
     "output_type": "stream",
     "text": [
      "----------------------------------\n"
     ]
    },
    {
     "data": {
      "text/plain": [
       "{'colsample_bylevel': 0.5,\n",
       " 'colsample_bytree': 0.5,\n",
       " 'eval_metric': 'merror',\n",
       " 'gamma': 0.6,\n",
       " 'learning_rate': 0.05,\n",
       " 'max_delta_step': 1,\n",
       " 'max_depth': 9,\n",
       " 'min_child_weight': 9,\n",
       " 'n_estimators': 321,\n",
       " 'num_class': 6,\n",
       " 'objective': 'multi:softmax',\n",
       " 'reg_alpha': 0,\n",
       " 'reg_lambda': 1,\n",
       " 'scale_pos_weight': 1,\n",
       " 'seed': 42,\n",
       " 'silent': 0,\n",
       " 'subsample': 0.5}"
      ]
     },
     "execution_count": 59,
     "metadata": {},
     "output_type": "execute_result"
    }
   ],
   "source": [
    "print(\"----------------------------------\")\n",
    "params"
   ]
  },
  {
   "cell_type": "code",
   "execution_count": 61,
   "metadata": {
    "collapsed": false
   },
   "outputs": [
    {
     "name": "stdout",
     "output_type": "stream",
     "text": [
      "| CV: 0\n",
      "[0]\ttrain-merror:0.053977\teval-merror:0.147925\n",
      "[50]\ttrain-merror:0.012946\teval-merror:0.066923\n",
      "[100]\ttrain-merror:0.0064\teval-merror:0.056866\n",
      "[150]\ttrain-merror:0.003876\teval-merror:0.049186\n",
      "[200]\ttrain-merror:0.002596\teval-merror:0.046809\n",
      "[250]\ttrain-merror:0.001828\teval-merror:0.043335\n",
      "[300]\ttrain-merror:0.001646\teval-merror:0.042969\n",
      "[350]\ttrain-merror:0.001317\teval-merror:0.041141\n",
      "[400]\ttrain-merror:0.001134\teval-merror:0.041141\n",
      "[450]\ttrain-merror:0.001097\teval-merror:0.039861\n",
      "\n",
      "| Elapsed: 0:01:25.977466\n",
      "\n",
      "| CV: 1\n",
      "[0]\ttrain-merror:0.048345\teval-merror:0.130554\n",
      "[50]\ttrain-merror:0.012909\teval-merror:0.038033\n",
      "[100]\ttrain-merror:0.007131\teval-merror:0.034558\n",
      "[150]\ttrain-merror:0.003913\teval-merror:0.03273\n",
      "[200]\ttrain-merror:0.003072\teval-merror:0.033278\n",
      "[250]\ttrain-merror:0.002121\teval-merror:0.03401\n",
      "[300]\ttrain-merror:0.001609\teval-merror:0.033096\n",
      "[350]\ttrain-merror:0.001317\teval-merror:0.033278\n",
      "[400]\ttrain-merror:0.00128\teval-merror:0.032913\n",
      "[450]\ttrain-merror:0.001207\teval-merror:0.032913\n",
      "\n",
      "| Elapsed: 0:02:55.615314\n",
      "\n",
      "| CV: 2\n",
      "[0]\ttrain-merror:0.058146\teval-merror:0.116475\n",
      "[50]\ttrain-merror:0.012397\teval-merror:0.095447\n",
      "[100]\ttrain-merror:0.006948\teval-merror:0.079722\n",
      "[150]\ttrain-merror:0.003986\teval-merror:0.069848\n",
      "[200]\ttrain-merror:0.002999\teval-merror:0.068568\n",
      "[250]\ttrain-merror:0.002414\teval-merror:0.063997\n",
      "[300]\ttrain-merror:0.001755\teval-merror:0.063631\n",
      "[350]\ttrain-merror:0.001646\teval-merror:0.0629\n",
      "[400]\ttrain-merror:0.001317\teval-merror:0.061437\n",
      "[450]\ttrain-merror:0.00117\teval-merror:0.060889\n",
      "\n",
      "| Elapsed: 0:04:24.937390\n",
      "\n",
      "| CV: 3\n",
      "[0]\ttrain-merror:0.070324\teval-merror:0.457122\n",
      "[50]\ttrain-merror:0.012068\teval-merror:0.329311\n",
      "[100]\ttrain-merror:0.007131\teval-merror:0.353081\n",
      "[150]\ttrain-merror:0.004681\teval-merror:0.350704\n",
      "[200]\ttrain-merror:0.003108\teval-merror:0.344487\n",
      "[250]\ttrain-merror:0.002523\teval-merror:0.313037\n",
      "[300]\ttrain-merror:0.001938\teval-merror:0.329676\n",
      "[350]\ttrain-merror:0.001499\teval-merror:0.315231\n",
      "[400]\ttrain-merror:0.001317\teval-merror:0.309014\n",
      "[450]\ttrain-merror:0.001134\teval-merror:0.309014\n",
      "\n",
      "| Elapsed: 0:05:58.118424\n",
      "\n",
      "| CV: 4\n",
      "[0]\ttrain-merror:0.052039\teval-merror:0.099287\n",
      "[50]\ttrain-merror:0.012324\teval-merror:0.049735\n",
      "[100]\ttrain-merror:0.00629\teval-merror:0.046078\n",
      "[150]\ttrain-merror:0.00395\teval-merror:0.042604\n",
      "[200]\ttrain-merror:0.002999\teval-merror:0.038947\n",
      "[250]\ttrain-merror:0.002121\teval-merror:0.03529\n",
      "[300]\ttrain-merror:0.001682\teval-merror:0.036935\n",
      "[350]\ttrain-merror:0.001426\teval-merror:0.036021\n",
      "[400]\ttrain-merror:0.001134\teval-merror:0.03785\n",
      "[450]\ttrain-merror:0.000951\teval-merror:0.036204\n",
      "\n",
      "| Elapsed: 0:07:27.102637\n",
      "\n",
      "| CV: 5\n",
      "[0]\ttrain-merror:0.054343\teval-merror:0.53081\n",
      "[50]\ttrain-merror:0.011958\teval-merror:0.230938\n",
      "[100]\ttrain-merror:0.006802\teval-merror:0.234595\n",
      "[150]\ttrain-merror:0.003913\teval-merror:0.233681\n",
      "[200]\ttrain-merror:0.002487\teval-merror:0.228012\n",
      "[250]\ttrain-merror:0.001865\teval-merror:0.230572\n",
      "[300]\ttrain-merror:0.001646\teval-merror:0.233864\n",
      "[350]\ttrain-merror:0.00128\teval-merror:0.236423\n",
      "[400]\ttrain-merror:0.00117\teval-merror:0.238435\n",
      "[450]\ttrain-merror:0.001024\teval-merror:0.239715\n",
      "\n",
      "| Elapsed: 0:09:00.848468\n",
      "\n"
     ]
    }
   ],
   "source": [
    "cv_errors, min_error, n_estimators = cv_tune_num_boost_round(\n",
    "    X=X_train, y=y_train, cv=cv, params=params, num_boost_round=500, early_stopping=50, verbose=50)"
   ]
  },
  {
   "cell_type": "code",
   "execution_count": 62,
   "metadata": {
    "collapsed": false
   },
   "outputs": [
    {
     "name": "stdout",
     "output_type": "stream",
     "text": [
      "----------------------------------\n",
      "n_estimators = 498\n",
      "min_error = 0.049918\n"
     ]
    }
   ],
   "source": [
    "print(\"----------------------------------\")\n",
    "print(\"n_estimators =\", n_estimators)\n",
    "print(\"min_error =\", min_error)"
   ]
  },
  {
   "cell_type": "markdown",
   "metadata": {},
   "source": [
    "#### 3c. Testing error "
   ]
  },
  {
   "cell_type": "code",
   "execution_count": 63,
   "metadata": {
    "collapsed": true
   },
   "outputs": [],
   "source": [
    "params = {\n",
    "    \"learning_rate\": 0.05,\n",
    "    \"n_estimators\": n_estimators,\n",
    "    \"max_depth\": max_depth,\n",
    "    \"min_child_weight\": min_child_weight,\n",
    "    \"max_delta_step\": 1,\n",
    "    \"gamma\": gamma,\n",
    "    \"subsample\": 0.5,\n",
    "    \"colsample_bytree\": 0.5,\n",
    "    \"colsample_bylevel\": 0.5,\n",
    "    \"reg_lambda\": 1,\n",
    "    \"reg_alpha\": 0,\n",
    "    \"scale_pos_weight\": 1,\n",
    "    \"objective\": \"multi:softmax\",\n",
    "    \"eval_metric\": \"merror\",\n",
    "    \"num_class\": 6,\n",
    "    \"silent\": 0,\n",
    "    \"seed\": 42\n",
    "}"
   ]
  },
  {
   "cell_type": "code",
   "execution_count": 65,
   "metadata": {
    "collapsed": false
   },
   "outputs": [],
   "source": [
    "booster = xgb.train(params=params, dtrain=train_dmatrix, num_boost_round=params[\"n_estimators\"])"
   ]
  },
  {
   "cell_type": "code",
   "execution_count": 70,
   "metadata": {
    "collapsed": true
   },
   "outputs": [],
   "source": [
    "y_predicted = booster.predict(test_dmatrix)"
   ]
  },
  {
   "cell_type": "code",
   "execution_count": 71,
   "metadata": {
    "collapsed": false
   },
   "outputs": [
    {
     "name": "stdout",
     "output_type": "stream",
     "text": [
      "0.904979581886\n",
      "[[ 97.33   0.11   0.     0.58   1.62   0.35]\n",
      " [  0.74  98.55   0.46   0.     0.25   0.01]\n",
      " [  0.8    6.67  92.22   0.03   0.12   0.15]\n",
      " [ 26.21   0.     0.    67.5    4.66   1.64]\n",
      " [  1.17   0.09   0.     5.56  90.44   2.74]\n",
      " [  5.97   0.15   0.09   0.79   0.3   92.7 ]]\n"
     ]
    }
   ],
   "source": [
    "accuracy = metrics.accuracy_score(y_test, y_predicted)\n",
    "cm = metrics.confusion_matrix(y_test, y_predicted)\n",
    "cm = cm.astype(\"float\") / cm.sum(axis=1)[:, np.newaxis]\n",
    "cm *= 100\n",
    "print(accuracy)\n",
    "print(cm)"
   ]
  },
  {
   "cell_type": "markdown",
   "metadata": {},
   "source": [
    "#### 4. Tune subsample"
   ]
  },
  {
   "cell_type": "code",
   "execution_count": 72,
   "metadata": {
    "collapsed": true
   },
   "outputs": [],
   "source": [
    "params = {\n",
    "    \"learning_rate\": 0.05,\n",
    "    \"n_estimators\": n_estimators,\n",
    "    \"max_depth\": max_depth,\n",
    "    \"min_child_weight\": min_child_weight,\n",
    "    \"max_delta_step\": 1,\n",
    "    \"gamma\": gamma,\n",
    "    \"subsample\": 0.5,\n",
    "    \"colsample_bytree\": 0.5,\n",
    "    \"colsample_bylevel\": 0.5,\n",
    "    \"reg_lambda\": 1,\n",
    "    \"reg_alpha\": 0,\n",
    "    \"scale_pos_weight\": 1,\n",
    "    \"objective\": \"multi:softmax\",\n",
    "    \"silent\": 0,\n",
    "    \"seed\": 42\n",
    "}\n",
    "\n",
    "cv_params = {\n",
    "    \"subsample\": [i/10.0 for i in range(5,11)]\n",
    "}"
   ]
  },
  {
   "cell_type": "code",
   "execution_count": 73,
   "metadata": {
    "collapsed": false
   },
   "outputs": [
    {
     "name": "stdout",
     "output_type": "stream",
     "text": [
      "----------------------------------\n"
     ]
    },
    {
     "data": {
      "text/plain": [
       "{'subsample': [0.5, 0.6, 0.7, 0.8, 0.9, 1.0]}"
      ]
     },
     "execution_count": 73,
     "metadata": {},
     "output_type": "execute_result"
    }
   ],
   "source": [
    "print(\"----------------------------------\")\n",
    "params\n",
    "cv_params"
   ]
  },
  {
   "cell_type": "code",
   "execution_count": 74,
   "metadata": {
    "collapsed": false
   },
   "outputs": [
    {
     "name": "stdout",
     "output_type": "stream",
     "text": [
      "Fitting 6 folds for each of 6 candidates, totalling 36 fits\n"
     ]
    },
    {
     "name": "stderr",
     "output_type": "stream",
     "text": [
      "[Parallel(n_jobs=-1)]: Done  36 out of  36 | elapsed: 44.2min finished\n"
     ]
    }
   ],
   "source": [
    "cv_model = cv_tune_tree_booster(\n",
    "    X=X_train, y=y_train, params=params, cv_params=cv_params, cv=cv)\n",
    "\n",
    "subsample = cv_model.best_params_[\"subsample\"]"
   ]
  },
  {
   "cell_type": "code",
   "execution_count": 75,
   "metadata": {
    "collapsed": false
   },
   "outputs": [
    {
     "name": "stdout",
     "output_type": "stream",
     "text": [
      "----------------------------------\n",
      "{'subsample': 0.5} - mean: 0.880051, std: 0.111949\n",
      "{'subsample': 0.6} - mean: 0.871153, std: 0.123752\n",
      "{'subsample': 0.7} - mean: 0.871335, std: 0.121681\n",
      "{'subsample': 0.8} - mean: 0.874718, std: 0.119554\n",
      "{'subsample': 0.9} - mean: 0.874139, std: 0.120091\n",
      "{'subsample': 1.0} - mean: 0.876973, std: 0.113224\n",
      "----------------------------------\n",
      "subsample = 0.5\n"
     ]
    }
   ],
   "source": [
    "print(\"----------------------------------\")\n",
    "cv_results = cv_model.cv_results_\n",
    "for param_idx, param in enumerate(cv_results[\"params\"]):\n",
    "    print(\"{param} - mean: {mean:.6f}, std: {std:.6f}\".format(\n",
    "        param=param, mean=cv_results[\"mean_test_score\"][param_idx], std=cv_results[\"std_test_score\"][param_idx]))\n",
    "\n",
    "print(\"----------------------------------\")\n",
    "print(\"subsample =\", subsample)"
   ]
  },
  {
   "cell_type": "markdown",
   "metadata": {},
   "source": [
    "#### 4b. Calibrate the number of boosting rounds"
   ]
  },
  {
   "cell_type": "code",
   "execution_count": 60,
   "metadata": {
    "collapsed": false
   },
   "outputs": [],
   "source": [
    "params = {\n",
    "    \"learning_rate\": 0.05,\n",
    "    \"n_estimators\": n_estimators,\n",
    "    \"max_depth\": max_depth,\n",
    "    \"min_child_weight\": min_child_weight,\n",
    "    \"max_delta_step\": 1,\n",
    "    \"gamma\": gamma,\n",
    "    \"subsample\": subsample,\n",
    "    \"colsample_bytree\": 0.5,\n",
    "    \"colsample_bylevel\": 0.5,\n",
    "    \"reg_lambda\": 1,\n",
    "    \"reg_alpha\": 0,\n",
    "    \"scale_pos_weight\": 1,\n",
    "    \"objective\": \"multi:softmax\",\n",
    "    \"eval_metric\": \"merror\",\n",
    "    \"num_class\": 6,\n",
    "    \"silent\": 0,\n",
    "    \"seed\": 42\n",
    "}"
   ]
  },
  {
   "cell_type": "code",
   "execution_count": 61,
   "metadata": {
    "collapsed": false
   },
   "outputs": [
    {
     "name": "stdout",
     "output_type": "stream",
     "text": [
      "----------------------------------\n"
     ]
    },
    {
     "data": {
      "text/plain": [
       "{'colsample_bylevel': 0.5,\n",
       " 'colsample_bytree': 0.5,\n",
       " 'eval_metric': 'merror',\n",
       " 'gamma': 0.6,\n",
       " 'learning_rate': 0.05,\n",
       " 'max_delta_step': 1,\n",
       " 'max_depth': 9,\n",
       " 'min_child_weight': 9,\n",
       " 'n_estimators': 30,\n",
       " 'num_class': 6,\n",
       " 'objective': 'multi:softmax',\n",
       " 'reg_alpha': 0,\n",
       " 'reg_lambda': 1,\n",
       " 'scale_pos_weight': 1,\n",
       " 'seed': 42,\n",
       " 'silent': 0,\n",
       " 'subsample': 0.5}"
      ]
     },
     "execution_count": 61,
     "metadata": {},
     "output_type": "execute_result"
    }
   ],
   "source": [
    "print(\"----------------------------------\")\n",
    "params"
   ]
  },
  {
   "cell_type": "code",
   "execution_count": 62,
   "metadata": {
    "collapsed": false,
    "scrolled": false
   },
   "outputs": [
    {
     "name": "stdout",
     "output_type": "stream",
     "text": [
      "| CV: 0\n",
      "[0]\ttrain-merror:0.053977\teval-merror:0.147925\n",
      "[50]\ttrain-merror:0.012946\teval-merror:0.066923\n",
      "[100]\ttrain-merror:0.0064\teval-merror:0.056866\n",
      "[150]\ttrain-merror:0.003876\teval-merror:0.049186\n",
      "[200]\ttrain-merror:0.002596\teval-merror:0.046809\n",
      "[250]\ttrain-merror:0.001828\teval-merror:0.043335\n",
      "[300]\ttrain-merror:0.001646\teval-merror:0.042969\n",
      "[350]\ttrain-merror:0.001317\teval-merror:0.041141\n",
      "[400]\ttrain-merror:0.001134\teval-merror:0.041141\n",
      "[450]\ttrain-merror:0.001097\teval-merror:0.039861\n",
      "\n",
      "| Elapsed: 0:01:30.296482\n",
      "\n",
      "| CV: 1\n",
      "[0]\ttrain-merror:0.048345\teval-merror:0.130554\n",
      "[50]\ttrain-merror:0.012909\teval-merror:0.038033\n",
      "[100]\ttrain-merror:0.007131\teval-merror:0.034558\n",
      "[150]\ttrain-merror:0.003913\teval-merror:0.03273\n",
      "[200]\ttrain-merror:0.003072\teval-merror:0.033278\n",
      "[250]\ttrain-merror:0.002121\teval-merror:0.03401\n",
      "[300]\ttrain-merror:0.001609\teval-merror:0.033096\n",
      "[350]\ttrain-merror:0.001317\teval-merror:0.033278\n",
      "[400]\ttrain-merror:0.00128\teval-merror:0.032913\n",
      "[450]\ttrain-merror:0.001207\teval-merror:0.032913\n",
      "\n",
      "| Elapsed: 0:03:03.702524\n",
      "\n",
      "| CV: 2\n",
      "[0]\ttrain-merror:0.058146\teval-merror:0.116475\n",
      "[50]\ttrain-merror:0.012397\teval-merror:0.095447\n",
      "[100]\ttrain-merror:0.006948\teval-merror:0.079722\n",
      "[150]\ttrain-merror:0.003986\teval-merror:0.069848\n",
      "[200]\ttrain-merror:0.002999\teval-merror:0.068568\n",
      "[250]\ttrain-merror:0.002414\teval-merror:0.063997\n",
      "[300]\ttrain-merror:0.001755\teval-merror:0.063631\n",
      "[350]\ttrain-merror:0.001646\teval-merror:0.0629\n",
      "[400]\ttrain-merror:0.001317\teval-merror:0.061437\n",
      "[450]\ttrain-merror:0.00117\teval-merror:0.060889\n",
      "\n",
      "| Elapsed: 0:04:38.610067\n",
      "\n",
      "| CV: 3\n",
      "[0]\ttrain-merror:0.070324\teval-merror:0.457122\n",
      "[50]\ttrain-merror:0.012068\teval-merror:0.329311\n",
      "[100]\ttrain-merror:0.007131\teval-merror:0.353081\n",
      "[150]\ttrain-merror:0.004681\teval-merror:0.350704\n",
      "[200]\ttrain-merror:0.003108\teval-merror:0.344487\n",
      "[250]\ttrain-merror:0.002523\teval-merror:0.313037\n",
      "[300]\ttrain-merror:0.001938\teval-merror:0.329676\n",
      "[350]\ttrain-merror:0.001499\teval-merror:0.315231\n",
      "[400]\ttrain-merror:0.001317\teval-merror:0.309014\n",
      "[450]\ttrain-merror:0.001134\teval-merror:0.309014\n",
      "\n",
      "| Elapsed: 0:06:12.040626\n",
      "\n",
      "| CV: 4\n",
      "[0]\ttrain-merror:0.052039\teval-merror:0.099287\n",
      "[50]\ttrain-merror:0.012324\teval-merror:0.049735\n",
      "[100]\ttrain-merror:0.00629\teval-merror:0.046078\n",
      "[150]\ttrain-merror:0.00395\teval-merror:0.042604\n",
      "[200]\ttrain-merror:0.002999\teval-merror:0.038947\n",
      "[250]\ttrain-merror:0.002121\teval-merror:0.03529\n",
      "[300]\ttrain-merror:0.001682\teval-merror:0.036935\n",
      "[350]\ttrain-merror:0.001426\teval-merror:0.036021\n",
      "[400]\ttrain-merror:0.001134\teval-merror:0.03785\n",
      "[450]\ttrain-merror:0.000951\teval-merror:0.036204\n",
      "\n",
      "| Elapsed: 0:07:46.566998\n",
      "\n",
      "| CV: 5\n",
      "[0]\ttrain-merror:0.054343\teval-merror:0.53081\n",
      "[50]\ttrain-merror:0.011958\teval-merror:0.230938\n",
      "[100]\ttrain-merror:0.006802\teval-merror:0.234595\n",
      "[150]\ttrain-merror:0.003913\teval-merror:0.233681\n",
      "[200]\ttrain-merror:0.002487\teval-merror:0.228012\n",
      "[250]\ttrain-merror:0.001865\teval-merror:0.230572\n",
      "[300]\ttrain-merror:0.001646\teval-merror:0.233864\n",
      "[350]\ttrain-merror:0.00128\teval-merror:0.236423\n",
      "[400]\ttrain-merror:0.00117\teval-merror:0.238435\n",
      "[450]\ttrain-merror:0.001024\teval-merror:0.239715\n",
      "\n",
      "| Elapsed: 0:09:18.453025\n",
      "\n"
     ]
    }
   ],
   "source": [
    "cv_errors, min_error, n_estimators = cv_tune_num_boost_round(\n",
    "    X=X_train, y=y_train, cv=cv, params=params, num_boost_round=500, early_stopping=50, verbose=50)"
   ]
  },
  {
   "cell_type": "code",
   "execution_count": 64,
   "metadata": {
    "collapsed": false
   },
   "outputs": [
    {
     "name": "stdout",
     "output_type": "stream",
     "text": [
      "----------------------------------\n",
      "n_estimators = 498\n",
      "min_error = 0.049918\n"
     ]
    }
   ],
   "source": [
    "print(\"----------------------------------\")\n",
    "print(\"n_estimators =\", n_estimators)\n",
    "print(\"min_error =\", min_error)"
   ]
  },
  {
   "cell_type": "markdown",
   "metadata": {},
   "source": [
    "#### 4c. Testing error"
   ]
  },
  {
   "cell_type": "code",
   "execution_count": 29,
   "metadata": {
    "collapsed": true
   },
   "outputs": [],
   "source": [
    "params = {\n",
    "    \"learning_rate\": 0.05,\n",
    "    \"n_estimators\": n_estimators,\n",
    "    \"max_depth\": max_depth,\n",
    "    \"min_child_weight\": min_child_weight,\n",
    "    \"max_delta_step\": 1,\n",
    "    \"gamma\": gamma,\n",
    "    \"subsample\": subsample,\n",
    "    \"colsample_bytree\": 0.5,\n",
    "    \"colsample_bylevel\": 0.5,\n",
    "    \"reg_lambda\": 1,\n",
    "    \"reg_alpha\": 0,\n",
    "    \"scale_pos_weight\": 1,\n",
    "    \"objective\": \"multi:softmax\",\n",
    "    \"eval_metric\": \"merror\",\n",
    "    \"num_class\": 6,\n",
    "    \"silent\": 0,\n",
    "    \"seed\": 42\n",
    "}"
   ]
  },
  {
   "cell_type": "code",
   "execution_count": 30,
   "metadata": {
    "collapsed": false
   },
   "outputs": [
    {
     "data": {
      "text/plain": [
       "{'colsample_bylevel': 0.5,\n",
       " 'colsample_bytree': 0.5,\n",
       " 'eval_metric': 'merror',\n",
       " 'gamma': 0.6,\n",
       " 'learning_rate': 0.05,\n",
       " 'max_delta_step': 1,\n",
       " 'max_depth': 9,\n",
       " 'min_child_weight': 9,\n",
       " 'n_estimators': 498,\n",
       " 'num_class': 6,\n",
       " 'objective': 'multi:softmax',\n",
       " 'reg_alpha': 0,\n",
       " 'reg_lambda': 1,\n",
       " 'scale_pos_weight': 1,\n",
       " 'seed': 42,\n",
       " 'silent': 0,\n",
       " 'subsample': 0.5}"
      ]
     },
     "execution_count": 30,
     "metadata": {},
     "output_type": "execute_result"
    }
   ],
   "source": [
    "params"
   ]
  },
  {
   "cell_type": "code",
   "execution_count": 31,
   "metadata": {
    "collapsed": true
   },
   "outputs": [],
   "source": [
    "booster_train = xgb.train(params=params, dtrain=train_dmatrix, num_boost_round=params[\"n_estimators\"])"
   ]
  },
  {
   "cell_type": "code",
   "execution_count": 32,
   "metadata": {
    "collapsed": true
   },
   "outputs": [],
   "source": [
    "y_predicted = booster_train.predict(test_dmatrix)"
   ]
  },
  {
   "cell_type": "code",
   "execution_count": 33,
   "metadata": {
    "collapsed": false
   },
   "outputs": [
    {
     "name": "stdout",
     "output_type": "stream",
     "text": [
      "0.904979581886\n",
      "[[ 97.33   0.11   0.     0.58   1.62   0.35]\n",
      " [  0.74  98.55   0.46   0.     0.25   0.01]\n",
      " [  0.8    6.67  92.22   0.03   0.12   0.15]\n",
      " [ 26.21   0.     0.    67.5    4.66   1.64]\n",
      " [  1.17   0.09   0.     5.56  90.44   2.74]\n",
      " [  5.97   0.15   0.09   0.79   0.3   92.7 ]]\n"
     ]
    }
   ],
   "source": [
    "accuracy = metrics.accuracy_score(y_test, y_predicted)\n",
    "cm = metrics.confusion_matrix(y_test, y_predicted)\n",
    "cm = cm.astype(\"float\") / cm.sum(axis=1)[:, np.newaxis]\n",
    "cm *= 100\n",
    "print(accuracy)\n",
    "print(cm)"
   ]
  },
  {
   "cell_type": "code",
   "execution_count": 36,
   "metadata": {
    "collapsed": true
   },
   "outputs": [],
   "source": [
    "booster_train.save_model(\"initial_cs_train.model\")"
   ]
  },
  {
   "cell_type": "code",
   "execution_count": 35,
   "metadata": {
    "collapsed": true
   },
   "outputs": [],
   "source": [
    "booster_all = xgb.train(params=params, dtrain=all_dmatrix, num_boost_round=params[\"n_estimators\"])"
   ]
  },
  {
   "cell_type": "code",
   "execution_count": 37,
   "metadata": {
    "collapsed": true
   },
   "outputs": [],
   "source": [
    "booster_all.save_model(\"initial_cs_all.model\")"
   ]
  }
 ],
 "metadata": {
  "kernelspec": {
   "display_name": "Python 3",
   "language": "python",
   "name": "python3"
  },
  "language_info": {
   "codemirror_mode": {
    "name": "ipython",
    "version": 3
   },
   "file_extension": ".py",
   "mimetype": "text/x-python",
   "name": "python",
   "nbconvert_exporter": "python",
   "pygments_lexer": "ipython3",
   "version": "3.6.0"
  }
 },
 "nbformat": 4,
 "nbformat_minor": 2
}
