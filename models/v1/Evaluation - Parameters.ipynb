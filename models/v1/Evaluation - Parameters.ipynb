{
 "cells": [
  {
   "cell_type": "code",
   "execution_count": 16,
   "metadata": {
    "collapsed": false
   },
   "outputs": [],
   "source": [
    "%matplotlib inline\n",
    "\n",
    "import numpy as np\n",
    "import pandas as pd\n",
    "\n",
    "from sklearn import grid_search\n",
    "from sklearn import metrics\n",
    "from sklearn import cross_validation\n",
    "from sklearn.externals import joblib\n",
    "\n",
    "import xgboost as xgb\n",
    "\n",
    "import matplotlib.pyplot as plt\n",
    "import seaborn as sns\n",
    "\n",
    "import operator\n",
    "import itertools\n",
    "import random\n",
    "import os\n",
    "import pickle"
   ]
  },
  {
   "cell_type": "markdown",
   "metadata": {},
   "source": [
    "# PATHS"
   ]
  },
  {
   "cell_type": "code",
   "execution_count": 17,
   "metadata": {
    "collapsed": false
   },
   "outputs": [],
   "source": [
    "if not os.path.exists(\"results\"):\n",
    "    os.makedirs(\"results\")"
   ]
  },
  {
   "cell_type": "code",
   "execution_count": 18,
   "metadata": {
    "collapsed": true
   },
   "outputs": [],
   "source": [
    "PREPROCESSED_DIRECTORY = \"E:\\\\eaglesense\\\\data\\\\topviewkinect\\\\all\""
   ]
  },
  {
   "cell_type": "code",
   "execution_count": 19,
   "metadata": {
    "collapsed": true
   },
   "outputs": [],
   "source": [
    "FEATURE_SET = \"weak\""
   ]
  },
  {
   "cell_type": "markdown",
   "metadata": {},
   "source": [
    "# LOAD DATA"
   ]
  },
  {
   "cell_type": "code",
   "execution_count": 30,
   "metadata": {
    "collapsed": false
   },
   "outputs": [],
   "source": [
    "s1_data_path = \"{root}/{tag}_s1_data.pickle\".format(root=PREPROCESSED_DIRECTORY, tag=FEATURE_SET)\n",
    "\n",
    "s2_data_path = \"{root}/{tag}_s2_data.pickle\".format(root=PREPROCESSED_DIRECTORY, tag=FEATURE_SET)\n",
    "with open(s2_data_path, \"rb\") as f:\n",
    "    s2_data = pickle.load(f)\n",
    "\n",
    "cs_data_path = \"{root}/{tag}_cs_data.pickle\".format(root=PREPROCESSED_DIRECTORY, tag=FEATURE_SET)\n",
    "with open(cs_data_path, \"rb\") as f:\n",
    "    cs_data = pickle.load(f)"
   ]
  },
  {
   "cell_type": "markdown",
   "metadata": {},
   "source": [
    "# XGBOOST KNOBS"
   ]
  },
  {
   "cell_type": "code",
   "execution_count": 21,
   "metadata": {
    "collapsed": true
   },
   "outputs": [],
   "source": [
    "XGBOOST_SEED = 0"
   ]
  },
  {
   "cell_type": "code",
   "execution_count": 22,
   "metadata": {
    "collapsed": true
   },
   "outputs": [],
   "source": [
    "xgboost_clf = xgb.XGBClassifier(learning_rate=0.3, n_estimators=100, objective=\"multi:softmax\", seed=XGBOOST_SEED)"
   ]
  },
  {
   "cell_type": "code",
   "execution_count": 44,
   "metadata": {
    "collapsed": true
   },
   "outputs": [],
   "source": [
    "max_depth = [5, 6, 7, 8]\n",
    "gamma = [1, 2, 3]\n",
    "subsample = [0.5, 1]\n",
    "colsample_bytree = [0.5, 1]\n",
    "colsample_bylevel = [0.5, 1]\n",
    "reg_alpha = [1, 2, 3]\n",
    "reg_lambda = [1, 2, 3]\n",
    "\n",
    "xgboost_knobs = {\n",
    "    \"max_depth\": max_depth,\n",
    "    \"gamma\": gamma,\n",
    "    \"subsample\": subsample,\n",
    "    \"colsample_bytree\": colsample_bytree,\n",
    "    \"colsample_bylevel\": colsample_bylevel,\n",
    "    \"reg_alpha\": reg_alpha,\n",
    "    \"reg_lambda\": reg_lambda\n",
    "}"
   ]
  },
  {
   "cell_type": "code",
   "execution_count": 45,
   "metadata": {
    "collapsed": false
   },
   "outputs": [
    {
     "data": {
      "text/plain": [
       "648"
      ]
     },
     "execution_count": 45,
     "metadata": {},
     "output_type": "execute_result"
    }
   ],
   "source": [
    "num_combinations = len(list(itertools.product(max_depth, gamma, subsample, colsample_bytree, colsample_bylevel, reg_alpha, reg_lambda)))\n",
    "num_combinations"
   ]
  },
  {
   "cell_type": "code",
   "execution_count": 25,
   "metadata": {
    "collapsed": true
   },
   "outputs": [],
   "source": [
    "RAND_SEED = 42"
   ]
  },
  {
   "cell_type": "code",
   "execution_count": 47,
   "metadata": {
    "collapsed": true
   },
   "outputs": [],
   "source": [
    "num_grid_searches = int(num_combinations / 3)"
   ]
  },
  {
   "cell_type": "code",
   "execution_count": 48,
   "metadata": {
    "collapsed": true
   },
   "outputs": [],
   "source": [
    "params_search = grid_search.RandomizedSearchCV(estimator=xgboost_clf, param_distributions=xgboost_knobs, cv=5,\n",
    "                                               n_iter=num_grid_searches, random_state=RAND_SEED, verbose=1)"
   ]
  },
  {
   "cell_type": "markdown",
   "metadata": {},
   "source": [
    "# PARAMETERS"
   ]
  },
  {
   "cell_type": "code",
   "execution_count": 15,
   "metadata": {
    "collapsed": true
   },
   "outputs": [],
   "source": [
    "s1_params_path = \"{root}/{tag}_s1_params.pickle\".format(root=data_directory, tag=FEATURE_SET)\n",
    "s2_params_path = \"{root}/{tag}_s2_params.pickle\".format(root=data_directory, tag=FEATURE_SET)\n",
    "cs_params_path = \"{root}/{tag}_cs_params.pickle\".format(root=data_directory, tag=FEATURE_SET)"
   ]
  },
  {
   "cell_type": "markdown",
   "metadata": {},
   "source": [
    "# SAMPLES TEST 1"
   ]
  },
  {
   "cell_type": "code",
   "execution_count": 49,
   "metadata": {
    "collapsed": false
   },
   "outputs": [],
   "source": [
    "s1_X_train = s1_data[\"X_train\"]\n",
    "s1_y_train = s1_data[\"y_train\"]"
   ]
  },
  {
   "cell_type": "code",
   "execution_count": 50,
   "metadata": {
    "collapsed": false
   },
   "outputs": [
    {
     "name": "stdout",
     "output_type": "stream",
     "text": [
      "Fitting 5 folds for each of 216 candidates, totalling 1080 fits\n"
     ]
    },
    {
     "ename": "KeyboardInterrupt",
     "evalue": "",
     "output_type": "error",
     "traceback": [
      "\u001b[1;31m---------------------------------------------------------------------------\u001b[0m",
      "\u001b[1;31mKeyboardInterrupt\u001b[0m                         Traceback (most recent call last)",
      "\u001b[1;32m<ipython-input-50-ce810cd9d3c7>\u001b[0m in \u001b[0;36m<module>\u001b[1;34m()\u001b[0m\n\u001b[1;32m----> 1\u001b[1;33m \u001b[0mparams_search\u001b[0m\u001b[1;33m.\u001b[0m\u001b[0mfit\u001b[0m\u001b[1;33m(\u001b[0m\u001b[0ms1_X_train\u001b[0m\u001b[1;33m,\u001b[0m \u001b[0ms1_y_train\u001b[0m\u001b[1;33m.\u001b[0m\u001b[0mravel\u001b[0m\u001b[1;33m(\u001b[0m\u001b[1;33m)\u001b[0m\u001b[1;33m)\u001b[0m\u001b[1;33m\u001b[0m\u001b[0m\n\u001b[0m",
      "\u001b[1;32mc:\\local\\python34\\lib\\site-packages\\sklearn\\grid_search.py\u001b[0m in \u001b[0;36mfit\u001b[1;34m(self, X, y)\u001b[0m\n\u001b[0;32m    994\u001b[0m                                           \u001b[0mself\u001b[0m\u001b[1;33m.\u001b[0m\u001b[0mn_iter\u001b[0m\u001b[1;33m,\u001b[0m\u001b[1;33m\u001b[0m\u001b[0m\n\u001b[0;32m    995\u001b[0m                                           random_state=self.random_state)\n\u001b[1;32m--> 996\u001b[1;33m         \u001b[1;32mreturn\u001b[0m \u001b[0mself\u001b[0m\u001b[1;33m.\u001b[0m\u001b[0m_fit\u001b[0m\u001b[1;33m(\u001b[0m\u001b[0mX\u001b[0m\u001b[1;33m,\u001b[0m \u001b[0my\u001b[0m\u001b[1;33m,\u001b[0m \u001b[0msampled_params\u001b[0m\u001b[1;33m)\u001b[0m\u001b[1;33m\u001b[0m\u001b[0m\n\u001b[0m",
      "\u001b[1;32mc:\\local\\python34\\lib\\site-packages\\sklearn\\grid_search.py\u001b[0m in \u001b[0;36m_fit\u001b[1;34m(self, X, y, parameter_iterable)\u001b[0m\n\u001b[0;32m    551\u001b[0m                                     \u001b[0mself\u001b[0m\u001b[1;33m.\u001b[0m\u001b[0mfit_params\u001b[0m\u001b[1;33m,\u001b[0m \u001b[0mreturn_parameters\u001b[0m\u001b[1;33m=\u001b[0m\u001b[1;32mTrue\u001b[0m\u001b[1;33m,\u001b[0m\u001b[1;33m\u001b[0m\u001b[0m\n\u001b[0;32m    552\u001b[0m                                     error_score=self.error_score)\n\u001b[1;32m--> 553\u001b[1;33m                 \u001b[1;32mfor\u001b[0m \u001b[0mparameters\u001b[0m \u001b[1;32min\u001b[0m \u001b[0mparameter_iterable\u001b[0m\u001b[1;33m\u001b[0m\u001b[0m\n\u001b[0m\u001b[0;32m    554\u001b[0m                 for train, test in cv)\n\u001b[0;32m    555\u001b[0m \u001b[1;33m\u001b[0m\u001b[0m\n",
      "\u001b[1;32mc:\\local\\python34\\lib\\site-packages\\sklearn\\externals\\joblib\\parallel.py\u001b[0m in \u001b[0;36m__call__\u001b[1;34m(self, iterable)\u001b[0m\n\u001b[0;32m    798\u001b[0m             \u001b[1;31m# was dispatched. In particular this covers the edge\u001b[0m\u001b[1;33m\u001b[0m\u001b[1;33m\u001b[0m\u001b[0m\n\u001b[0;32m    799\u001b[0m             \u001b[1;31m# case of Parallel used with an exhausted iterator.\u001b[0m\u001b[1;33m\u001b[0m\u001b[1;33m\u001b[0m\u001b[0m\n\u001b[1;32m--> 800\u001b[1;33m             \u001b[1;32mwhile\u001b[0m \u001b[0mself\u001b[0m\u001b[1;33m.\u001b[0m\u001b[0mdispatch_one_batch\u001b[0m\u001b[1;33m(\u001b[0m\u001b[0miterator\u001b[0m\u001b[1;33m)\u001b[0m\u001b[1;33m:\u001b[0m\u001b[1;33m\u001b[0m\u001b[0m\n\u001b[0m\u001b[0;32m    801\u001b[0m                 \u001b[0mself\u001b[0m\u001b[1;33m.\u001b[0m\u001b[0m_iterating\u001b[0m \u001b[1;33m=\u001b[0m \u001b[1;32mTrue\u001b[0m\u001b[1;33m\u001b[0m\u001b[0m\n\u001b[0;32m    802\u001b[0m             \u001b[1;32melse\u001b[0m\u001b[1;33m:\u001b[0m\u001b[1;33m\u001b[0m\u001b[0m\n",
      "\u001b[1;32mc:\\local\\python34\\lib\\site-packages\\sklearn\\externals\\joblib\\parallel.py\u001b[0m in \u001b[0;36mdispatch_one_batch\u001b[1;34m(self, iterator)\u001b[0m\n\u001b[0;32m    656\u001b[0m                 \u001b[1;32mreturn\u001b[0m \u001b[1;32mFalse\u001b[0m\u001b[1;33m\u001b[0m\u001b[0m\n\u001b[0;32m    657\u001b[0m             \u001b[1;32melse\u001b[0m\u001b[1;33m:\u001b[0m\u001b[1;33m\u001b[0m\u001b[0m\n\u001b[1;32m--> 658\u001b[1;33m                 \u001b[0mself\u001b[0m\u001b[1;33m.\u001b[0m\u001b[0m_dispatch\u001b[0m\u001b[1;33m(\u001b[0m\u001b[0mtasks\u001b[0m\u001b[1;33m)\u001b[0m\u001b[1;33m\u001b[0m\u001b[0m\n\u001b[0m\u001b[0;32m    659\u001b[0m                 \u001b[1;32mreturn\u001b[0m \u001b[1;32mTrue\u001b[0m\u001b[1;33m\u001b[0m\u001b[0m\n\u001b[0;32m    660\u001b[0m \u001b[1;33m\u001b[0m\u001b[0m\n",
      "\u001b[1;32mc:\\local\\python34\\lib\\site-packages\\sklearn\\externals\\joblib\\parallel.py\u001b[0m in \u001b[0;36m_dispatch\u001b[1;34m(self, batch)\u001b[0m\n\u001b[0;32m    564\u001b[0m \u001b[1;33m\u001b[0m\u001b[0m\n\u001b[0;32m    565\u001b[0m         \u001b[1;32mif\u001b[0m \u001b[0mself\u001b[0m\u001b[1;33m.\u001b[0m\u001b[0m_pool\u001b[0m \u001b[1;32mis\u001b[0m \u001b[1;32mNone\u001b[0m\u001b[1;33m:\u001b[0m\u001b[1;33m\u001b[0m\u001b[0m\n\u001b[1;32m--> 566\u001b[1;33m             \u001b[0mjob\u001b[0m \u001b[1;33m=\u001b[0m \u001b[0mImmediateComputeBatch\u001b[0m\u001b[1;33m(\u001b[0m\u001b[0mbatch\u001b[0m\u001b[1;33m)\u001b[0m\u001b[1;33m\u001b[0m\u001b[0m\n\u001b[0m\u001b[0;32m    567\u001b[0m             \u001b[0mself\u001b[0m\u001b[1;33m.\u001b[0m\u001b[0m_jobs\u001b[0m\u001b[1;33m.\u001b[0m\u001b[0mappend\u001b[0m\u001b[1;33m(\u001b[0m\u001b[0mjob\u001b[0m\u001b[1;33m)\u001b[0m\u001b[1;33m\u001b[0m\u001b[0m\n\u001b[0;32m    568\u001b[0m             \u001b[0mself\u001b[0m\u001b[1;33m.\u001b[0m\u001b[0mn_dispatched_batches\u001b[0m \u001b[1;33m+=\u001b[0m \u001b[1;36m1\u001b[0m\u001b[1;33m\u001b[0m\u001b[0m\n",
      "\u001b[1;32mc:\\local\\python34\\lib\\site-packages\\sklearn\\externals\\joblib\\parallel.py\u001b[0m in \u001b[0;36m__init__\u001b[1;34m(self, batch)\u001b[0m\n\u001b[0;32m    178\u001b[0m         \u001b[1;31m# Don't delay the application, to avoid keeping the input\u001b[0m\u001b[1;33m\u001b[0m\u001b[1;33m\u001b[0m\u001b[0m\n\u001b[0;32m    179\u001b[0m         \u001b[1;31m# arguments in memory\u001b[0m\u001b[1;33m\u001b[0m\u001b[1;33m\u001b[0m\u001b[0m\n\u001b[1;32m--> 180\u001b[1;33m         \u001b[0mself\u001b[0m\u001b[1;33m.\u001b[0m\u001b[0mresults\u001b[0m \u001b[1;33m=\u001b[0m \u001b[0mbatch\u001b[0m\u001b[1;33m(\u001b[0m\u001b[1;33m)\u001b[0m\u001b[1;33m\u001b[0m\u001b[0m\n\u001b[0m\u001b[0;32m    181\u001b[0m \u001b[1;33m\u001b[0m\u001b[0m\n\u001b[0;32m    182\u001b[0m     \u001b[1;32mdef\u001b[0m \u001b[0mget\u001b[0m\u001b[1;33m(\u001b[0m\u001b[0mself\u001b[0m\u001b[1;33m)\u001b[0m\u001b[1;33m:\u001b[0m\u001b[1;33m\u001b[0m\u001b[0m\n",
      "\u001b[1;32mc:\\local\\python34\\lib\\site-packages\\sklearn\\externals\\joblib\\parallel.py\u001b[0m in \u001b[0;36m__call__\u001b[1;34m(self)\u001b[0m\n\u001b[0;32m     70\u001b[0m \u001b[1;33m\u001b[0m\u001b[0m\n\u001b[0;32m     71\u001b[0m     \u001b[1;32mdef\u001b[0m \u001b[0m__call__\u001b[0m\u001b[1;33m(\u001b[0m\u001b[0mself\u001b[0m\u001b[1;33m)\u001b[0m\u001b[1;33m:\u001b[0m\u001b[1;33m\u001b[0m\u001b[0m\n\u001b[1;32m---> 72\u001b[1;33m         \u001b[1;32mreturn\u001b[0m \u001b[1;33m[\u001b[0m\u001b[0mfunc\u001b[0m\u001b[1;33m(\u001b[0m\u001b[1;33m*\u001b[0m\u001b[0margs\u001b[0m\u001b[1;33m,\u001b[0m \u001b[1;33m**\u001b[0m\u001b[0mkwargs\u001b[0m\u001b[1;33m)\u001b[0m \u001b[1;32mfor\u001b[0m \u001b[0mfunc\u001b[0m\u001b[1;33m,\u001b[0m \u001b[0margs\u001b[0m\u001b[1;33m,\u001b[0m \u001b[0mkwargs\u001b[0m \u001b[1;32min\u001b[0m \u001b[0mself\u001b[0m\u001b[1;33m.\u001b[0m\u001b[0mitems\u001b[0m\u001b[1;33m]\u001b[0m\u001b[1;33m\u001b[0m\u001b[0m\n\u001b[0m\u001b[0;32m     73\u001b[0m \u001b[1;33m\u001b[0m\u001b[0m\n\u001b[0;32m     74\u001b[0m     \u001b[1;32mdef\u001b[0m \u001b[0m__len__\u001b[0m\u001b[1;33m(\u001b[0m\u001b[0mself\u001b[0m\u001b[1;33m)\u001b[0m\u001b[1;33m:\u001b[0m\u001b[1;33m\u001b[0m\u001b[0m\n",
      "\u001b[1;32mc:\\local\\python34\\lib\\site-packages\\sklearn\\externals\\joblib\\parallel.py\u001b[0m in \u001b[0;36m<listcomp>\u001b[1;34m(.0)\u001b[0m\n\u001b[0;32m     70\u001b[0m \u001b[1;33m\u001b[0m\u001b[0m\n\u001b[0;32m     71\u001b[0m     \u001b[1;32mdef\u001b[0m \u001b[0m__call__\u001b[0m\u001b[1;33m(\u001b[0m\u001b[0mself\u001b[0m\u001b[1;33m)\u001b[0m\u001b[1;33m:\u001b[0m\u001b[1;33m\u001b[0m\u001b[0m\n\u001b[1;32m---> 72\u001b[1;33m         \u001b[1;32mreturn\u001b[0m \u001b[1;33m[\u001b[0m\u001b[0mfunc\u001b[0m\u001b[1;33m(\u001b[0m\u001b[1;33m*\u001b[0m\u001b[0margs\u001b[0m\u001b[1;33m,\u001b[0m \u001b[1;33m**\u001b[0m\u001b[0mkwargs\u001b[0m\u001b[1;33m)\u001b[0m \u001b[1;32mfor\u001b[0m \u001b[0mfunc\u001b[0m\u001b[1;33m,\u001b[0m \u001b[0margs\u001b[0m\u001b[1;33m,\u001b[0m \u001b[0mkwargs\u001b[0m \u001b[1;32min\u001b[0m \u001b[0mself\u001b[0m\u001b[1;33m.\u001b[0m\u001b[0mitems\u001b[0m\u001b[1;33m]\u001b[0m\u001b[1;33m\u001b[0m\u001b[0m\n\u001b[0m\u001b[0;32m     73\u001b[0m \u001b[1;33m\u001b[0m\u001b[0m\n\u001b[0;32m     74\u001b[0m     \u001b[1;32mdef\u001b[0m \u001b[0m__len__\u001b[0m\u001b[1;33m(\u001b[0m\u001b[0mself\u001b[0m\u001b[1;33m)\u001b[0m\u001b[1;33m:\u001b[0m\u001b[1;33m\u001b[0m\u001b[0m\n",
      "\u001b[1;32mc:\\local\\python34\\lib\\site-packages\\sklearn\\cross_validation.py\u001b[0m in \u001b[0;36m_fit_and_score\u001b[1;34m(estimator, X, y, scorer, train, test, verbose, parameters, fit_params, return_train_score, return_parameters, error_score)\u001b[0m\n\u001b[0;32m   1529\u001b[0m             \u001b[0mestimator\u001b[0m\u001b[1;33m.\u001b[0m\u001b[0mfit\u001b[0m\u001b[1;33m(\u001b[0m\u001b[0mX_train\u001b[0m\u001b[1;33m,\u001b[0m \u001b[1;33m**\u001b[0m\u001b[0mfit_params\u001b[0m\u001b[1;33m)\u001b[0m\u001b[1;33m\u001b[0m\u001b[0m\n\u001b[0;32m   1530\u001b[0m         \u001b[1;32melse\u001b[0m\u001b[1;33m:\u001b[0m\u001b[1;33m\u001b[0m\u001b[0m\n\u001b[1;32m-> 1531\u001b[1;33m             \u001b[0mestimator\u001b[0m\u001b[1;33m.\u001b[0m\u001b[0mfit\u001b[0m\u001b[1;33m(\u001b[0m\u001b[0mX_train\u001b[0m\u001b[1;33m,\u001b[0m \u001b[0my_train\u001b[0m\u001b[1;33m,\u001b[0m \u001b[1;33m**\u001b[0m\u001b[0mfit_params\u001b[0m\u001b[1;33m)\u001b[0m\u001b[1;33m\u001b[0m\u001b[0m\n\u001b[0m\u001b[0;32m   1532\u001b[0m \u001b[1;33m\u001b[0m\u001b[0m\n\u001b[0;32m   1533\u001b[0m     \u001b[1;32mexcept\u001b[0m \u001b[0mException\u001b[0m \u001b[1;32mas\u001b[0m \u001b[0me\u001b[0m\u001b[1;33m:\u001b[0m\u001b[1;33m\u001b[0m\u001b[0m\n",
      "\u001b[1;32mc:\\local\\python34\\lib\\site-packages\\xgboost-0.4-py3.4.egg\\xgboost\\sklearn.py\u001b[0m in \u001b[0;36mfit\u001b[1;34m(self, X, y, sample_weight, eval_set, eval_metric, early_stopping_rounds, verbose)\u001b[0m\n\u001b[0;32m    440\u001b[0m                               \u001b[0mearly_stopping_rounds\u001b[0m\u001b[1;33m=\u001b[0m\u001b[0mearly_stopping_rounds\u001b[0m\u001b[1;33m,\u001b[0m\u001b[1;33m\u001b[0m\u001b[0m\n\u001b[0;32m    441\u001b[0m                               \u001b[0mevals_result\u001b[0m\u001b[1;33m=\u001b[0m\u001b[0mevals_result\u001b[0m\u001b[1;33m,\u001b[0m \u001b[0mobj\u001b[0m\u001b[1;33m=\u001b[0m\u001b[0mobj\u001b[0m\u001b[1;33m,\u001b[0m \u001b[0mfeval\u001b[0m\u001b[1;33m=\u001b[0m\u001b[0mfeval\u001b[0m\u001b[1;33m,\u001b[0m\u001b[1;33m\u001b[0m\u001b[0m\n\u001b[1;32m--> 442\u001b[1;33m                               verbose_eval=verbose)\n\u001b[0m\u001b[0;32m    443\u001b[0m \u001b[1;33m\u001b[0m\u001b[0m\n\u001b[0;32m    444\u001b[0m         \u001b[0mself\u001b[0m\u001b[1;33m.\u001b[0m\u001b[0mobjective\u001b[0m \u001b[1;33m=\u001b[0m \u001b[0mxgb_options\u001b[0m\u001b[1;33m[\u001b[0m\u001b[1;34m\"objective\"\u001b[0m\u001b[1;33m]\u001b[0m\u001b[1;33m\u001b[0m\u001b[0m\n",
      "\u001b[1;32mc:\\local\\python34\\lib\\site-packages\\xgboost-0.4-py3.4.egg\\xgboost\\training.py\u001b[0m in \u001b[0;36mtrain\u001b[1;34m(params, dtrain, num_boost_round, evals, obj, feval, maximize, early_stopping_rounds, evals_result, verbose_eval, learning_rates, xgb_model, callbacks)\u001b[0m\n\u001b[0;32m    203\u001b[0m                            \u001b[0mevals\u001b[0m\u001b[1;33m=\u001b[0m\u001b[0mevals\u001b[0m\u001b[1;33m,\u001b[0m\u001b[1;33m\u001b[0m\u001b[0m\n\u001b[0;32m    204\u001b[0m                            \u001b[0mobj\u001b[0m\u001b[1;33m=\u001b[0m\u001b[0mobj\u001b[0m\u001b[1;33m,\u001b[0m \u001b[0mfeval\u001b[0m\u001b[1;33m=\u001b[0m\u001b[0mfeval\u001b[0m\u001b[1;33m,\u001b[0m\u001b[1;33m\u001b[0m\u001b[0m\n\u001b[1;32m--> 205\u001b[1;33m                            xgb_model=xgb_model, callbacks=callbacks)\n\u001b[0m\u001b[0;32m    206\u001b[0m \u001b[1;33m\u001b[0m\u001b[0m\n\u001b[0;32m    207\u001b[0m \u001b[1;33m\u001b[0m\u001b[0m\n",
      "\u001b[1;32mc:\\local\\python34\\lib\\site-packages\\xgboost-0.4-py3.4.egg\\xgboost\\training.py\u001b[0m in \u001b[0;36m_train_internal\u001b[1;34m(params, dtrain, num_boost_round, evals, obj, feval, xgb_model, callbacks)\u001b[0m\n\u001b[0;32m     74\u001b[0m         \u001b[1;31m# Skip the first update if it is a recovery step.\u001b[0m\u001b[1;33m\u001b[0m\u001b[1;33m\u001b[0m\u001b[0m\n\u001b[0;32m     75\u001b[0m         \u001b[1;32mif\u001b[0m \u001b[0mversion\u001b[0m \u001b[1;33m%\u001b[0m \u001b[1;36m2\u001b[0m \u001b[1;33m==\u001b[0m \u001b[1;36m0\u001b[0m\u001b[1;33m:\u001b[0m\u001b[1;33m\u001b[0m\u001b[0m\n\u001b[1;32m---> 76\u001b[1;33m             \u001b[0mbst\u001b[0m\u001b[1;33m.\u001b[0m\u001b[0mupdate\u001b[0m\u001b[1;33m(\u001b[0m\u001b[0mdtrain\u001b[0m\u001b[1;33m,\u001b[0m \u001b[0mi\u001b[0m\u001b[1;33m,\u001b[0m \u001b[0mobj\u001b[0m\u001b[1;33m)\u001b[0m\u001b[1;33m\u001b[0m\u001b[0m\n\u001b[0m\u001b[0;32m     77\u001b[0m             \u001b[0mbst\u001b[0m\u001b[1;33m.\u001b[0m\u001b[0msave_rabit_checkpoint\u001b[0m\u001b[1;33m(\u001b[0m\u001b[1;33m)\u001b[0m\u001b[1;33m\u001b[0m\u001b[0m\n\u001b[0;32m     78\u001b[0m             \u001b[0mversion\u001b[0m \u001b[1;33m+=\u001b[0m \u001b[1;36m1\u001b[0m\u001b[1;33m\u001b[0m\u001b[0m\n",
      "\u001b[1;32mc:\\local\\python34\\lib\\site-packages\\xgboost-0.4-py3.4.egg\\xgboost\\core.py\u001b[0m in \u001b[0;36mupdate\u001b[1;34m(self, dtrain, iteration, fobj)\u001b[0m\n\u001b[0;32m    804\u001b[0m \u001b[1;33m\u001b[0m\u001b[0m\n\u001b[0;32m    805\u001b[0m         \u001b[1;32mif\u001b[0m \u001b[0mfobj\u001b[0m \u001b[1;32mis\u001b[0m \u001b[1;32mNone\u001b[0m\u001b[1;33m:\u001b[0m\u001b[1;33m\u001b[0m\u001b[0m\n\u001b[1;32m--> 806\u001b[1;33m             \u001b[0m_check_call\u001b[0m\u001b[1;33m(\u001b[0m\u001b[0m_LIB\u001b[0m\u001b[1;33m.\u001b[0m\u001b[0mXGBoosterUpdateOneIter\u001b[0m\u001b[1;33m(\u001b[0m\u001b[0mself\u001b[0m\u001b[1;33m.\u001b[0m\u001b[0mhandle\u001b[0m\u001b[1;33m,\u001b[0m \u001b[0miteration\u001b[0m\u001b[1;33m,\u001b[0m \u001b[0mdtrain\u001b[0m\u001b[1;33m.\u001b[0m\u001b[0mhandle\u001b[0m\u001b[1;33m)\u001b[0m\u001b[1;33m)\u001b[0m\u001b[1;33m\u001b[0m\u001b[0m\n\u001b[0m\u001b[0;32m    807\u001b[0m         \u001b[1;32melse\u001b[0m\u001b[1;33m:\u001b[0m\u001b[1;33m\u001b[0m\u001b[0m\n\u001b[0;32m    808\u001b[0m             \u001b[0mpred\u001b[0m \u001b[1;33m=\u001b[0m \u001b[0mself\u001b[0m\u001b[1;33m.\u001b[0m\u001b[0mpredict\u001b[0m\u001b[1;33m(\u001b[0m\u001b[0mdtrain\u001b[0m\u001b[1;33m)\u001b[0m\u001b[1;33m\u001b[0m\u001b[0m\n",
      "\u001b[1;31mKeyboardInterrupt\u001b[0m: "
     ]
    }
   ],
   "source": [
    "params_search.fit(s1_X_train, s1_y_train.ravel())"
   ]
  },
  {
   "cell_type": "code",
   "execution_count": 14,
   "metadata": {
    "collapsed": false,
    "scrolled": true
   },
   "outputs": [
    {
     "data": {
      "text/plain": [
       "{'colsample_bylevel': 0.5,\n",
       " 'colsample_bytree': 0.5,\n",
       " 'gamma': 1,\n",
       " 'max_depth': 7,\n",
       " 'reg_alpha': 2,\n",
       " 'reg_lambda': 3,\n",
       " 'subsample': 0.8}"
      ]
     },
     "execution_count": 14,
     "metadata": {},
     "output_type": "execute_result"
    }
   ],
   "source": [
    "params_search.best_params_"
   ]
  },
  {
   "cell_type": "code",
   "execution_count": 31,
   "metadata": {
    "collapsed": false
   },
   "outputs": [
    {
     "data": {
      "text/plain": [
       "0.95537193303841128"
      ]
     },
     "execution_count": 31,
     "metadata": {},
     "output_type": "execute_result"
    }
   ],
   "source": [
    "params_search.best_score_"
   ]
  },
  {
   "cell_type": "code",
   "execution_count": 16,
   "metadata": {
    "collapsed": true
   },
   "outputs": [],
   "source": [
    "s1_params = {\n",
    "    \"best_params\": params_search.best_params_,\n",
    "    \"best_score\": params_search.best_score_,\n",
    "    \"grid_scores\": params_search.grid_scores_\n",
    "}\n",
    "with open(s1_params_path, \"wb\") as f:\n",
    "    pickle.dump(s1_params, f)"
   ]
  },
  {
   "cell_type": "markdown",
   "metadata": {},
   "source": [
    "# SAMPLES TEST 2 "
   ]
  },
  {
   "cell_type": "code",
   "execution_count": 20,
   "metadata": {
    "collapsed": true
   },
   "outputs": [],
   "source": [
    "s2_X_train = s2_data[\"X_train\"]\n",
    "s2_y_train = s2_data[\"y_train\"]"
   ]
  },
  {
   "cell_type": "code",
   "execution_count": 21,
   "metadata": {
    "collapsed": false
   },
   "outputs": [
    {
     "name": "stdout",
     "output_type": "stream",
     "text": [
      "Fitting 5 folds for each of 50 candidates, totalling 250 fits\n"
     ]
    },
    {
     "name": "stderr",
     "output_type": "stream",
     "text": [
      "[Parallel(n_jobs=1)]: Done  49 tasks       | elapsed: 21.0min\n",
      "[Parallel(n_jobs=1)]: Done 199 tasks       | elapsed: 74.1min\n",
      "[Parallel(n_jobs=1)]: Done 250 out of 250 | elapsed: 95.3min finished\n"
     ]
    },
    {
     "data": {
      "text/plain": [
       "RandomizedSearchCV(cv=5, error_score='raise',\n",
       "          estimator=XGBClassifier(base_score=0.5, colsample_bylevel=1, colsample_bytree=1,\n",
       "       gamma=0, learning_rate=0.3, max_delta_step=0, max_depth=3,\n",
       "       min_child_weight=1, missing=None, n_estimators=100, nthread=-1,\n",
       "       objective='multi:softmax', reg_alpha=0, reg_lambda=1,\n",
       "       scale_pos_weight=1, seed=0, silent=True, subsample=1),\n",
       "          fit_params={}, iid=True, n_iter=50, n_jobs=1,\n",
       "          param_distributions={'max_depth': [3, 4, 5, 6, 7], 'colsample_bytree': [0.5, 0.8, 1], 'reg_lambda': [0, 1, 2, 3], 'colsample_bylevel': [0.5, 0.8, 1], 'gamma': [0, 1, 2, 3], 'subsample': [0.5, 0.8, 1], 'reg_alpha': [0, 1, 2, 3]},\n",
       "          pre_dispatch='2*n_jobs', random_state=42, refit=True,\n",
       "          scoring=None, verbose=1)"
      ]
     },
     "execution_count": 21,
     "metadata": {},
     "output_type": "execute_result"
    }
   ],
   "source": [
    "params_search.fit(s2_X_train, s2_y_train.ravel())"
   ]
  },
  {
   "cell_type": "code",
   "execution_count": 26,
   "metadata": {
    "collapsed": false
   },
   "outputs": [
    {
     "data": {
      "text/plain": [
       "{'colsample_bylevel': 1,\n",
       " 'colsample_bytree': 0.8,\n",
       " 'gamma': 2,\n",
       " 'max_depth': 4,\n",
       " 'reg_alpha': 1,\n",
       " 'reg_lambda': 3,\n",
       " 'subsample': 0.8}"
      ]
     },
     "execution_count": 26,
     "metadata": {},
     "output_type": "execute_result"
    }
   ],
   "source": [
    "params_search.best_params_"
   ]
  },
  {
   "cell_type": "code",
   "execution_count": 30,
   "metadata": {
    "collapsed": false
   },
   "outputs": [
    {
     "data": {
      "text/plain": [
       "0.95537193303841128"
      ]
     },
     "execution_count": 30,
     "metadata": {},
     "output_type": "execute_result"
    }
   ],
   "source": [
    "params_search.best_score_"
   ]
  },
  {
   "cell_type": "code",
   "execution_count": 32,
   "metadata": {
    "collapsed": true
   },
   "outputs": [],
   "source": [
    "s2_params = {\n",
    "    \"best_params\": params_search.best_params_,\n",
    "    \"best_score\": params_search.best_score_,\n",
    "    \"grid_scores\": params_search.grid_scores_\n",
    "}\n",
    "with open(s2_params_path, \"wb\") as f:\n",
    "    pickle.dump(s2_params, f)"
   ]
  },
  {
   "cell_type": "markdown",
   "metadata": {},
   "source": [
    "# CROSS-SUBJECT TEST"
   ]
  },
  {
   "cell_type": "code",
   "execution_count": 34,
   "metadata": {
    "collapsed": true
   },
   "outputs": [],
   "source": [
    "cs_X_train = cs_data[\"X_train\"]\n",
    "cs_y_train = cs_data[\"y_train\"]"
   ]
  },
  {
   "cell_type": "code",
   "execution_count": 35,
   "metadata": {
    "collapsed": false
   },
   "outputs": [
    {
     "name": "stdout",
     "output_type": "stream",
     "text": [
      "Fitting 5 folds for each of 50 candidates, totalling 250 fits\n"
     ]
    },
    {
     "name": "stderr",
     "output_type": "stream",
     "text": [
      "[Parallel(n_jobs=1)]: Done  49 tasks       | elapsed: 12.6min\n",
      "[Parallel(n_jobs=1)]: Done 199 tasks       | elapsed: 44.2min\n",
      "[Parallel(n_jobs=1)]: Done 250 out of 250 | elapsed: 57.1min finished\n"
     ]
    },
    {
     "data": {
      "text/plain": [
       "RandomizedSearchCV(cv=5, error_score='raise',\n",
       "          estimator=XGBClassifier(base_score=0.5, colsample_bylevel=1, colsample_bytree=1,\n",
       "       gamma=0, learning_rate=0.3, max_delta_step=0, max_depth=3,\n",
       "       min_child_weight=1, missing=None, n_estimators=100, nthread=-1,\n",
       "       objective='multi:softmax', reg_alpha=0, reg_lambda=1,\n",
       "       scale_pos_weight=1, seed=0, silent=True, subsample=1),\n",
       "          fit_params={}, iid=True, n_iter=50, n_jobs=1,\n",
       "          param_distributions={'max_depth': [3, 4, 5, 6, 7], 'colsample_bytree': [0.5, 0.8, 1], 'reg_lambda': [0, 1, 2, 3], 'colsample_bylevel': [0.5, 0.8, 1], 'gamma': [0, 1, 2, 3], 'subsample': [0.5, 0.8, 1], 'reg_alpha': [0, 1, 2, 3]},\n",
       "          pre_dispatch='2*n_jobs', random_state=42, refit=True,\n",
       "          scoring=None, verbose=1)"
      ]
     },
     "execution_count": 35,
     "metadata": {},
     "output_type": "execute_result"
    }
   ],
   "source": [
    "params_search.fit(cs_X_train, cs_y_train.ravel())"
   ]
  },
  {
   "cell_type": "code",
   "execution_count": 36,
   "metadata": {
    "collapsed": false
   },
   "outputs": [
    {
     "data": {
      "text/plain": [
       "{'colsample_bylevel': 0.8,\n",
       " 'colsample_bytree': 0.5,\n",
       " 'gamma': 0,\n",
       " 'max_depth': 5,\n",
       " 'reg_alpha': 2,\n",
       " 'reg_lambda': 1,\n",
       " 'subsample': 1}"
      ]
     },
     "execution_count": 36,
     "metadata": {},
     "output_type": "execute_result"
    }
   ],
   "source": [
    "params_search.best_params_"
   ]
  },
  {
   "cell_type": "code",
   "execution_count": 37,
   "metadata": {
    "collapsed": false
   },
   "outputs": [
    {
     "data": {
      "text/plain": [
       "0.95181550258948755"
      ]
     },
     "execution_count": 37,
     "metadata": {},
     "output_type": "execute_result"
    }
   ],
   "source": [
    "params_search.best_score_"
   ]
  },
  {
   "cell_type": "code",
   "execution_count": 39,
   "metadata": {
    "collapsed": true
   },
   "outputs": [],
   "source": [
    "cs_params = {\n",
    "    \"best_params\": params_search.best_params_,\n",
    "    \"best_score\": params_search.best_score_,\n",
    "    \"grid_scores\": params_search.grid_scores_\n",
    "}\n",
    "with open(cs_params_path, \"wb\") as f:\n",
    "    pickle.dump(cs_params, f)"
   ]
  },
  {
   "cell_type": "code",
   "execution_count": null,
   "metadata": {
    "collapsed": true
   },
   "outputs": [],
   "source": []
  },
  {
   "cell_type": "code",
   "execution_count": null,
   "metadata": {
    "collapsed": true
   },
   "outputs": [],
   "source": []
  },
  {
   "cell_type": "code",
   "execution_count": null,
   "metadata": {
    "collapsed": true
   },
   "outputs": [],
   "source": []
  },
  {
   "cell_type": "code",
   "execution_count": null,
   "metadata": {
    "collapsed": true
   },
   "outputs": [],
   "source": []
  },
  {
   "cell_type": "code",
   "execution_count": null,
   "metadata": {
    "collapsed": true
   },
   "outputs": [],
   "source": []
  },
  {
   "cell_type": "code",
   "execution_count": null,
   "metadata": {
    "collapsed": true
   },
   "outputs": [],
   "source": []
  },
  {
   "cell_type": "markdown",
   "metadata": {},
   "source": [
    "# K-FOLD (SUBJECT) CV"
   ]
  },
  {
   "cell_type": "code",
   "execution_count": null,
   "metadata": {
    "collapsed": true
   },
   "outputs": [],
   "source": [
    "subject_kfolds_indices = list()"
   ]
  },
  {
   "cell_type": "code",
   "execution_count": null,
   "metadata": {
    "collapsed": false
   },
   "outputs": [],
   "source": [
    "subject_kfolds = list(itertools.combinations(unique_subjects, len(unique_subjects) - 1))"
   ]
  },
  {
   "cell_type": "code",
   "execution_count": null,
   "metadata": {
    "collapsed": false,
    "scrolled": false
   },
   "outputs": [],
   "source": [
    "for kth_fold in subject_kfolds:\n",
    "    print(kth_fold)\n",
    "    kth_fold_train_indices = list()\n",
    "    kth_fold_test_indices = list()\n",
    "    for subject_id in unique_subjects:\n",
    "        subject_features = features_df[:][features_df[\"subject\"] == subject_id]\n",
    "        if subject_id in kth_fold:\n",
    "            kth_fold_train_indices.extend(subject_features.index)\n",
    "        else:\n",
    "            kth_fold_test_indices.extend(subject_features.index)\n",
    "    subject_kfolds_indices.append((kth_fold_train_indices, kth_fold_test_indices))"
   ]
  },
  {
   "cell_type": "code",
   "execution_count": null,
   "metadata": {
    "collapsed": true
   },
   "outputs": [],
   "source": [
    "clf = xgb.XGBClassifier(learning_rate=0.3, n_estimators=100, objective=\"multi:softmax\", seed=M_XGB_SEED)"
   ]
  },
  {
   "cell_type": "code",
   "execution_count": null,
   "metadata": {
    "collapsed": false
   },
   "outputs": [],
   "source": [
    "num_searches = 30\n",
    "\n",
    "random_search = grid_search.RandomizedSearchCV(clf, param_distributions=tuning_params, cv=subject_kfolds_indices,\n",
    "                                               verbose=2, n_iter=num_searches, random_state=M_RAND_SEED)"
   ]
  },
  {
   "cell_type": "code",
   "execution_count": 24,
   "metadata": {
    "collapsed": false
   },
   "outputs": [
    {
     "ename": "NameError",
     "evalue": "name 'random_search' is not defined",
     "output_type": "error",
     "traceback": [
      "\u001b[1;31m-----------------------------------------------------------------------\u001b[0m",
      "\u001b[1;31mNameError\u001b[0m                             Traceback (most recent call last)",
      "\u001b[1;32m<ipython-input-24-c1da6aae1183>\u001b[0m in \u001b[0;36m<module>\u001b[1;34m()\u001b[0m\n\u001b[1;32m----> 1\u001b[1;33m \u001b[0mrandom_search\u001b[0m\u001b[1;33m.\u001b[0m\u001b[0mfit\u001b[0m\u001b[1;33m(\u001b[0m\u001b[0mX\u001b[0m\u001b[1;33m,\u001b[0m \u001b[0my\u001b[0m\u001b[1;33m.\u001b[0m\u001b[0mravel\u001b[0m\u001b[1;33m(\u001b[0m\u001b[1;33m)\u001b[0m\u001b[1;33m)\u001b[0m\u001b[1;33m\u001b[0m\u001b[0m\n\u001b[0m",
      "\u001b[1;31mNameError\u001b[0m: name 'random_search' is not defined"
     ]
    }
   ],
   "source": [
    "random_search.fit(X, y.ravel())"
   ]
  },
  {
   "cell_type": "code",
   "execution_count": null,
   "metadata": {
    "collapsed": false
   },
   "outputs": [],
   "source": [
    "random_search.grid_scores_"
   ]
  },
  {
   "cell_type": "code",
   "execution_count": null,
   "metadata": {
    "collapsed": false
   },
   "outputs": [],
   "source": [
    "random_search.best_score_"
   ]
  },
  {
   "cell_type": "code",
   "execution_count": null,
   "metadata": {
    "collapsed": false
   },
   "outputs": [],
   "source": [
    "random_search.best_params_"
   ]
  },
  {
   "cell_type": "code",
   "execution_count": null,
   "metadata": {
    "collapsed": true
   },
   "outputs": [],
   "source": []
  },
  {
   "cell_type": "code",
   "execution_count": null,
   "metadata": {
    "collapsed": true
   },
   "outputs": [],
   "source": [
    "all_xgbmatrix = xgb.DMatrix(X, y)"
   ]
  },
  {
   "cell_type": "code",
   "execution_count": null,
   "metadata": {
    "collapsed": false
   },
   "outputs": [],
   "source": [
    "params_cv_results = xgb.cv(params=XGB_PARAM_CV, dtrain=all_xgbmatrix, num_boost_round=200, nfold=12, folds=subject_kfolds_indices, \n",
    "                           verbose_eval=True, early_stopping_rounds=50)"
   ]
  },
  {
   "cell_type": "code",
   "execution_count": null,
   "metadata": {
    "collapsed": false
   },
   "outputs": [],
   "source": [
    "params_cv_results"
   ]
  },
  {
   "cell_type": "code",
   "execution_count": null,
   "metadata": {
    "collapsed": false
   },
   "outputs": [],
   "source": [
    "sample_1_accuracy"
   ]
  },
  {
   "cell_type": "markdown",
   "metadata": {
    "collapsed": true
   },
   "source": [
    "## Confusion matrix"
   ]
  },
  {
   "cell_type": "code",
   "execution_count": null,
   "metadata": {
    "collapsed": false
   },
   "outputs": [],
   "source": [
    "sample_1_cm = metrics.confusion_matrix(sample_1_y_test, sample_1_y_predicted)\n",
    "sample_1_cm_normalized = sample_1_cm.astype(\"float\") / sample_1_cm.sum(axis=1)[:, np.newaxis]\n",
    "sample_1_cm_normalized *= 100"
   ]
  },
  {
   "cell_type": "code",
   "execution_count": null,
   "metadata": {
    "collapsed": false
   },
   "outputs": [],
   "source": [
    "with sns.axes_style(\"ticks\"):\n",
    "    fig, ax = plt.subplots(figsize=thesis_figsize)\n",
    "    sns.heatmap(data=sample_1_cm_normalized, annot=True, fmt=\".2f\", linewidths=0.5, square=True,\n",
    "                vmin=0, vmax=100, ax=ax, xticklabels=ACTIVITIES, yticklabels=ACTIVITIES)\n",
    "    plt.yticks(rotation=0)\n",
    "    sns.despine()"
   ]
  },
  {
   "cell_type": "code",
   "execution_count": null,
   "metadata": {
    "collapsed": true
   },
   "outputs": [],
   "source": []
  },
  {
   "cell_type": "markdown",
   "metadata": {},
   "source": [
    "# SAMPLES TEST 2 (2/3 for training)"
   ]
  },
  {
   "cell_type": "code",
   "execution_count": null,
   "metadata": {
    "collapsed": true
   },
   "outputs": [],
   "source": [
    "SAMPLE_2_TRAIN_SIZE = 2 / 3"
   ]
  },
  {
   "cell_type": "code",
   "execution_count": null,
   "metadata": {
    "collapsed": true
   },
   "outputs": [],
   "source": [
    "sample_2_train_size_by_subject = np.zeros((len(unique_subjects), NUM_ACTIVITIES))"
   ]
  },
  {
   "cell_type": "code",
   "execution_count": null,
   "metadata": {
    "collapsed": true
   },
   "outputs": [],
   "source": [
    "for subject_idx, subject_id in enumerate(unique_subjects):\n",
    "    subject_y = labels_df[labels_df[\"subject\"] == subject_id][\"label\"].values\n",
    "    subject_activities_bin = np.bincount(np.squeeze(subject_y))\n",
    "    sample_2_train_size_by_subject[subject_idx] = np.array([int(size * SAMPLE_2_TRAIN_SIZE) for size in subject_activities_bin])"
   ]
  },
  {
   "cell_type": "code",
   "execution_count": null,
   "metadata": {
    "collapsed": false
   },
   "outputs": [],
   "source": [
    "sample_2_X_train = np.array([], dtype=np.float64).reshape(0, num_features)\n",
    "sample_2_y_train = np.array([], dtype=np.int32).reshape(0, 1)\n",
    "\n",
    "sample_2_X_test = np.array([], dtype=np.float64).reshape(0, num_features)\n",
    "sample_2_y_test = np.array([], dtype=np.int32).reshape(0, 1)\n",
    "\n",
    "for subject_idx, subject_id in enumerate(unique_subjects):\n",
    "    \n",
    "    print(subject_id)\n",
    "    \n",
    "    subject_features = features_df[:][features_df[\"subject\"] == subject_id]\n",
    "    subject_features.drop([\"subject\"], axis=1, inplace=True)\n",
    "    \n",
    "    subject_labels = labels_df[:][labels_df[\"subject\"] == subject_id]\n",
    "    subject_labels.drop([\"subject\"], axis=1, inplace=True)\n",
    "    \n",
    "    for activity_idx in range(NUM_ACTIVITIES):\n",
    "        subject_activity_train_size = sample_2_train_size_by_subject[subject_idx, activity_idx]\n",
    "        subject_activity_labels_df = subject_labels[subject_labels[\"label\"] == activity_idx]\n",
    "        subject_activity_train_labels_df = subject_activity_labels_df.sample(n=subject_activity_train_size, replace=False, random_state=M_RAND_SEED)\n",
    "        \n",
    "        subject_activity_all_indices = list(subject_activity_labels_df.index.values)\n",
    "        subject_activity_train_indices = list(subject_activity_train_labels_df.index.values)\n",
    "        subject_activity_test_indices =  [idx for idx in subject_activity_all_indices if idx not in subject_activity_train_indices]\n",
    "        \n",
    "        subject_acitivty_X_train = subject_features.ix[subject_activity_train_indices]\n",
    "        subject_activity_y_train = subject_labels.ix[subject_activity_train_indices]\n",
    "        subject_acitivty_X_test = subject_features.ix[subject_activity_test_indices]\n",
    "        subject_activity_y_test = subject_labels.ix[subject_activity_test_indices]\n",
    "        \n",
    "        sample_2_X_train = np.vstack([sample_2_X_train, subject_acitivty_X_train.values])\n",
    "        sample_2_y_train = np.vstack([sample_2_y_train, subject_activity_y_train.values])\n",
    "        sample_2_X_test = np.vstack([sample_2_X_test, subject_acitivty_X_test.values])\n",
    "        sample_2_y_test = np.vstack([sample_2_y_test, subject_activity_y_test.values])"
   ]
  },
  {
   "cell_type": "code",
   "execution_count": null,
   "metadata": {
    "collapsed": false
   },
   "outputs": [],
   "source": [
    "sample_2_X_train.shape"
   ]
  },
  {
   "cell_type": "code",
   "execution_count": null,
   "metadata": {
    "collapsed": false
   },
   "outputs": [],
   "source": [
    "sample_2_X_test.shape"
   ]
  },
  {
   "cell_type": "code",
   "execution_count": null,
   "metadata": {
    "collapsed": true
   },
   "outputs": [],
   "source": [
    "sample_2_train_xgbmatrix = xgb.DMatrix(sample_2_X_train, sample_2_y_train)\n",
    "sample_2_test_xgbmatrix = xgb.DMatrix(sample_2_X_test, sample_2_y_test)\n",
    "# sample_2_watchlist = [(sample_2_train_xgbmatrix, \"train\"), (sample_2_test_xgbmatrix, \"eval\")]"
   ]
  },
  {
   "cell_type": "code",
   "execution_count": null,
   "metadata": {
    "collapsed": false,
    "scrolled": true
   },
   "outputs": [],
   "source": [
    "# sample_2_results = {}\n",
    "# xgb.train(params=XGB_PARAM, dtrain=sample_2_train_xgbmatrix, num_boost_round=XGB_NUM_ROUNDS,\n",
    "#           evals=sample_2_watchlist, evals_result=sample_2_results, early_stopping_rounds=XGB_EARLYSTOPPING_ROUNDS)"
   ]
  },
  {
   "cell_type": "code",
   "execution_count": null,
   "metadata": {
    "collapsed": true
   },
   "outputs": [],
   "source": [
    "# iterations = list(range(len(sample_2_results[\"eval\"][\"merror\"]))) * 2\n",
    "# errors = sample_2_results[\"eval\"][\"merror\"] + sample_2_results[\"train\"][\"merror\"]\n",
    "# types = [\"Test\"] * int(len(iterations)/2) + [\"Train\"] * int(len(iterations)/2)\n",
    "# units = [0] * len(iterations)\n",
    "# data = {\n",
    "#     \"iteration\": iterations,\n",
    "#     \"error\": errors,\n",
    "#     \"type\": types,\n",
    "#     \"unit\": units\n",
    "# }\n",
    "# samples_test2_df = pd.DataFrame(data)"
   ]
  },
  {
   "cell_type": "code",
   "execution_count": null,
   "metadata": {
    "collapsed": false
   },
   "outputs": [],
   "source": [
    "# with sns.axes_style(\"ticks\"):\n",
    "#     fig, ax = plt.subplots(figsize=(10, 7.5))\n",
    "#     sns.tsplot(data=samples_test2_df, time=\"iteration\", value=\"error\", condition=\"type\", unit=\"unit\", \n",
    "#                color=sns.color_palette(\"Set1\"), ax=ax)\n",
    "#     ax.set_xlabel(\"Iteration\")\n",
    "#     ax.set_ylabel(\"Mean Error\")\n",
    "#     sns.despine()\n",
    "#     plt.tight_layout()"
   ]
  },
  {
   "cell_type": "markdown",
   "metadata": {},
   "source": [
    "## XGB TREE BOOSTER "
   ]
  },
  {
   "cell_type": "code",
   "execution_count": null,
   "metadata": {
    "collapsed": true
   },
   "outputs": [],
   "source": [
    "sample_2_booster = xgb.train(params=XGB_PARAM_FINAL, dtrain=sample_2_train_xgbmatrix, num_boost_round=XGB_NUM_ROUNDS_FINAL)"
   ]
  },
  {
   "cell_type": "markdown",
   "metadata": {},
   "source": [
    "## 99.08%"
   ]
  },
  {
   "cell_type": "code",
   "execution_count": null,
   "metadata": {
    "collapsed": true
   },
   "outputs": [],
   "source": [
    "sample_2_y_predicted = sample_2_booster.predict(sample_2_test_xgbmatrix)"
   ]
  },
  {
   "cell_type": "code",
   "execution_count": null,
   "metadata": {
    "collapsed": false
   },
   "outputs": [],
   "source": [
    "sample_2_accuracy = metrics.accuracy_score(sample_2_y_test, sample_2_y_predicted)"
   ]
  },
  {
   "cell_type": "code",
   "execution_count": null,
   "metadata": {
    "collapsed": false
   },
   "outputs": [],
   "source": [
    "sample_2_accuracy"
   ]
  },
  {
   "cell_type": "code",
   "execution_count": null,
   "metadata": {
    "collapsed": false
   },
   "outputs": [],
   "source": [
    "sample_2_cm = metrics.confusion_matrix(sample_2_y_test, sample_2_y_predicted)\n",
    "sample_2_cm_normalized = sample_2_cm.astype(\"float\") / sample_2_cm.sum(axis=1)[:, np.newaxis]\n",
    "sample_2_cm_normalized *= 100"
   ]
  },
  {
   "cell_type": "code",
   "execution_count": null,
   "metadata": {
    "collapsed": false,
    "scrolled": false
   },
   "outputs": [],
   "source": [
    "with sns.axes_style(\"ticks\"):\n",
    "    fig, ax = plt.subplots(figsize=thesis_figsize)\n",
    "    sns.heatmap(data=sample_2_cm_normalized, annot=True, fmt=\".2f\", linewidths=0.5, square=True,\n",
    "                vmin=0, vmax=100, ax=ax, xticklabels=ACTIVITIES, yticklabels=ACTIVITIES)\n",
    "    sns.despine()\n",
    "    plt.yticks(rotation=0)"
   ]
  },
  {
   "cell_type": "markdown",
   "metadata": {
    "collapsed": true
   },
   "source": [
    "# CROSS SUBJECT TEST 1 (50/50 Subjects)"
   ]
  },
  {
   "cell_type": "code",
   "execution_count": null,
   "metadata": {
    "collapsed": false
   },
   "outputs": [],
   "source": [
    "crosssubject_1_X_train = np.array([], dtype=np.float64).reshape(0, num_features)\n",
    "crosssubject_1_y_train = np.array([], dtype=np.int32).reshape(0, 1)\n",
    "\n",
    "crosssubject_1_X_test = np.array([], dtype=np.float64).reshape(0, num_features)\n",
    "crosssubject_1_y_test = np.array([], dtype=np.int32).reshape(0, 1)\n",
    "\n",
    "for subject_id in unique_subjects:\n",
    "    \n",
    "    subject_features = features_df[:][features_df[\"subject\"] == subject_id]\n",
    "    subject_features.drop([\"subject\"], axis=1, inplace=True)\n",
    "    subject_labels = labels_df[:][labels_df[\"subject\"] == subject_id]\n",
    "    subject_labels.drop([\"subject\"], axis=1, inplace=True)\n",
    "\n",
    "    subject_X = subject_features.values\n",
    "    subject_y = subject_labels.values\n",
    "    \n",
    "    if subject_id % 2 == 1:\n",
    "        print(subject_id, \"\\tTrain\")\n",
    "        crosssubject_1_X_train = np.vstack([crosssubject_1_X_train, subject_X])\n",
    "        crosssubject_1_y_train = np.vstack([crosssubject_1_y_train, subject_y])\n",
    "    else:\n",
    "        print(subject_id, \"\\tTest\")\n",
    "        crosssubject_1_X_test = np.vstack([crosssubject_1_X_test, subject_X])\n",
    "        crosssubject_1_y_test = np.vstack([crosssubject_1_y_test, subject_y])"
   ]
  },
  {
   "cell_type": "code",
   "execution_count": null,
   "metadata": {
    "collapsed": false
   },
   "outputs": [],
   "source": [
    "crosssubject_1_X_train.shape"
   ]
  },
  {
   "cell_type": "code",
   "execution_count": null,
   "metadata": {
    "collapsed": false
   },
   "outputs": [],
   "source": [
    "crosssubject_1_X_test.shape"
   ]
  },
  {
   "cell_type": "code",
   "execution_count": null,
   "metadata": {
    "collapsed": true
   },
   "outputs": [],
   "source": [
    "crosssubject_1_train_xgbmatrix = xgb.DMatrix(crosssubject_1_X_train, crosssubject_1_y_train)\n",
    "crosssubject_1_test_xgbmatrix = xgb.DMatrix(crosssubject_1_X_test, crosssubject_1_y_test)\n",
    "crosssubject_1_watchlist = [(crosssubject_1_train_xgbmatrix, \"train\"), (crosssubject_1_test_xgbmatrix, \"eval\")]"
   ]
  },
  {
   "cell_type": "code",
   "execution_count": null,
   "metadata": {
    "collapsed": false
   },
   "outputs": [],
   "source": [
    "crosssubject_1_results = {}\n",
    "xgb.train(params=XGB_PARAM_FINAL, dtrain=crosssubject_1_train_xgbmatrix, num_boost_round=XGB_NUM_ROUNDS,\n",
    "          evals=crosssubject_1_watchlist, evals_result=crosssubject_1_results, early_stopping_rounds=50)"
   ]
  },
  {
   "cell_type": "code",
   "execution_count": null,
   "metadata": {
    "collapsed": false
   },
   "outputs": [],
   "source": [
    "iterations = list(range(len(crosssubject_1_results[\"eval\"][\"merror\"]))) * 2\n",
    "errors = crosssubject_1_results[\"eval\"][\"merror\"] + crosssubject_1_results[\"train\"][\"merror\"]\n",
    "types = [\"Test\"] * int(len(iterations)/2) + [\"Train\"] * int(len(iterations)/2)\n",
    "units = [0] * len(iterations)\n",
    "data = {\n",
    "    \"iteration\": iterations,\n",
    "    \"error\": errors,\n",
    "    \"Type\": types,\n",
    "    \"unit\": units\n",
    "}\n",
    "crosssubject_1_df = pd.DataFrame(data)"
   ]
  },
  {
   "cell_type": "code",
   "execution_count": null,
   "metadata": {
    "collapsed": false
   },
   "outputs": [],
   "source": [
    "with sns.axes_style(\"ticks\"):\n",
    "    fig, ax = plt.subplots(figsize=(10, 7.5))\n",
    "    sns.tsplot(data=crosssubject_1_df, time=\"iteration\", value=\"error\", condition=\"Type\", unit=\"unit\", \n",
    "               color=sns.color_palette(\"Set1\"), ax=ax)\n",
    "    ax.set_xlabel(\"Iteration\")\n",
    "    ax.set_ylabel(\"Mean Error\")\n",
    "    sns.despine()\n",
    "    plt.tight_layout()"
   ]
  },
  {
   "cell_type": "code",
   "execution_count": null,
   "metadata": {
    "collapsed": true
   },
   "outputs": [],
   "source": []
  },
  {
   "cell_type": "markdown",
   "metadata": {},
   "source": [
    "# CROSS-SUBJECT 1 CLASSIFIER"
   ]
  },
  {
   "cell_type": "code",
   "execution_count": null,
   "metadata": {
    "collapsed": false
   },
   "outputs": [],
   "source": [
    "crosssubject_1_booster = xgb.train(params=XGB_PARAM_FINAL, dtrain=crosssubject_1_train_xgbmatrix, \n",
    "                                   num_boost_round=XGB_NUM_ROUNDS_FINAL)"
   ]
  },
  {
   "cell_type": "code",
   "execution_count": null,
   "metadata": {
    "collapsed": false
   },
   "outputs": [],
   "source": [
    "feature_importance = crosssubject_1_booster.get_fscore()"
   ]
  },
  {
   "cell_type": "code",
   "execution_count": null,
   "metadata": {
    "collapsed": false
   },
   "outputs": [],
   "source": [
    "xgb.plot_importance(crosssubject_1_booster)"
   ]
  },
  {
   "cell_type": "code",
   "execution_count": null,
   "metadata": {
    "collapsed": false
   },
   "outputs": [],
   "source": [
    "len(features_vector.columns)"
   ]
  },
  {
   "cell_type": "code",
   "execution_count": null,
   "metadata": {
    "collapsed": false
   },
   "outputs": [],
   "source": [
    "features_importance_formated = dict()\n",
    "\n",
    "for feature_idx, feature_name in enumerate(features_vector.columns):\n",
    "    old_key = \"f{}\".format(feature_idx)\n",
    "    if old_key not in feature_importance:\n",
    "        continue\n",
    "    new_key = feature_name\n",
    "    features_importance_formated[new_key] = feature_importance[old_key]"
   ]
  },
  {
   "cell_type": "code",
   "execution_count": null,
   "metadata": {
    "collapsed": false
   },
   "outputs": [],
   "source": [
    "features_importance_formated = sorted(features_importance_formated.items(), key=operator.itemgetter(1))"
   ]
  },
  {
   "cell_type": "code",
   "execution_count": null,
   "metadata": {
    "collapsed": false,
    "scrolled": false
   },
   "outputs": [],
   "source": [
    "features_importance_formated"
   ]
  },
  {
   "cell_type": "code",
   "execution_count": null,
   "metadata": {
    "collapsed": false
   },
   "outputs": [],
   "source": [
    "features_importance_formated_last = features_importance_formated[-10:]"
   ]
  },
  {
   "cell_type": "code",
   "execution_count": null,
   "metadata": {
    "collapsed": false
   },
   "outputs": [],
   "source": [
    "features_importance_formated_last"
   ]
  },
  {
   "cell_type": "code",
   "execution_count": null,
   "metadata": {
    "collapsed": true
   },
   "outputs": [],
   "source": [
    "features_importance_df = pd.DataFrame(features_importance_formated_last, columns=[\"feature\", \"gain\"])\n",
    "features_importance_df[\"gain\"] = features_importance_df[\"gain\"] / features_importance_df[\"gain\"].sum()"
   ]
  },
  {
   "cell_type": "code",
   "execution_count": null,
   "metadata": {
    "collapsed": false,
    "scrolled": false
   },
   "outputs": [],
   "source": [
    "with sns.axes_style(\"ticks\"):\n",
    "    fig, ax = plt.subplots(figsize=(10, 7.5))\n",
    "    sns.barplot(x=\"feature\", y=\"gain\", data=features_importance_df, label=\"Total\", color=\"#3498db\", ax=ax)\n",
    "    plt.xticks(rotation=90)\n",
    "    plt.xlabel(\"\")\n",
    "    plt.ylabel(\"\")\n",
    "    sns.despine()"
   ]
  },
  {
   "cell_type": "markdown",
   "metadata": {},
   "source": [
    "## Indiviudal subject result"
   ]
  },
  {
   "cell_type": "code",
   "execution_count": null,
   "metadata": {
    "collapsed": true
   },
   "outputs": [],
   "source": [
    "np.set_printoptions(formatter={'float': lambda x: \"{:.2f}\".format(x)})"
   ]
  },
  {
   "cell_type": "code",
   "execution_count": null,
   "metadata": {
    "collapsed": false,
    "scrolled": false
   },
   "outputs": [],
   "source": [
    "crosssubject_individual_cm_list = list()\n",
    "\n",
    "for subject_id in unique_subjects:\n",
    "        print(subject_id)\n",
    "    \n",
    "        subject_features = features_df[:][features_df[\"subject\"] == subject_id]\n",
    "        subject_features.drop([\"subject\"], axis=1, inplace=True)\n",
    "        subject_labels = labels_df[:][labels_df[\"subject\"] == subject_id]\n",
    "        subject_labels.drop([\"subject\"], axis=1, inplace=True)\n",
    "        \n",
    "        subject_X = subject_features.values\n",
    "        subject_y = subject_labels.values\n",
    "        \n",
    "        subject_xgbmatrix = xgb.DMatrix(subject_X, subject_y)\n",
    "        subject_y_predicted = crosssubject_1_booster.predict(subject_xgbmatrix)\n",
    "        \n",
    "        subject_accuracy = metrics.accuracy_score(subject_y, subject_y_predicted)        \n",
    "        print(\"accuracy:\", subject_accuracy)\n",
    "        \n",
    "        subject_cm = metrics.confusion_matrix(subject_y, subject_y_predicted)\n",
    "        subject_cm_normalized = subject_cm.astype(\"float\") / subject_cm.sum(axis=1)[:, np.newaxis]\n",
    "        subject_cm_normalized *= 100\n",
    "        print(\"confusion matrix:\\n\", subject_cm_normalized, \"\\n\")\n",
    "        \n",
    "        if subject_id % 2 == 0:\n",
    "            crosssubject_individual_cm_list.append((subject_id, subject_cm_normalized))"
   ]
  },
  {
   "cell_type": "code",
   "execution_count": null,
   "metadata": {
    "collapsed": false
   },
   "outputs": [],
   "source": [
    "crosssubject_individual_results_list = list()\n",
    "\n",
    "for subject_id, subject_cm in crosssubject_individual_cm_list:\n",
    "    subject_string = str(subject_id)[2:4]\n",
    "    for activity_id, activity in enumerate(ACTIVITIES):\n",
    "        crosssubject_subject_result = {\n",
    "            \"Activity\": activity,\n",
    "            \"Accuracy\": subject_cm[activity_id, activity_id],\n",
    "            \"Subject\": subject_string\n",
    "        }\n",
    "        crosssubject_individual_results_list.append(crosssubject_subject_result)\n",
    "\n",
    "crosssubject_individuals_df = pd.DataFrame(crosssubject_individual_results_list)"
   ]
  },
  {
   "cell_type": "code",
   "execution_count": null,
   "metadata": {
    "collapsed": false
   },
   "outputs": [],
   "source": [
    "with sns.axes_style(\"ticks\"):\n",
    "    fig, ax = plt.subplots(figsize=thesis_figsize)\n",
    "    g = sns.FacetGrid(data=crosssubject_individuals_df, col=\"Subject\", col_wrap=3)\n",
    "    g = (g.map(sns.barplot, \"Activity\", \"Accuracy\", palette=sns.color_palette(), ci=None)\n",
    "         .set_xlabels(\"\")\n",
    "         .set_ylabels(\"\")\n",
    "         .set_xticklabels(rotation=90))\n",
    "    plt.yticks(np.arange(0, 110, 20.0))\n",
    "    g.despine()"
   ]
  },
  {
   "cell_type": "markdown",
   "metadata": {},
   "source": [
    "## Average: 93.32%"
   ]
  },
  {
   "cell_type": "code",
   "execution_count": null,
   "metadata": {
    "collapsed": false
   },
   "outputs": [],
   "source": [
    "crosssubject_1_y_predicted = crosssubject_1_booster.predict(crosssubject_1_test_xgbmatrix)"
   ]
  },
  {
   "cell_type": "code",
   "execution_count": null,
   "metadata": {
    "collapsed": false
   },
   "outputs": [],
   "source": [
    "crosssubject_1_accuracy = metrics.accuracy_score(crosssubject_1_y_test, crosssubject_1_y_predicted)"
   ]
  },
  {
   "cell_type": "code",
   "execution_count": null,
   "metadata": {
    "collapsed": false
   },
   "outputs": [],
   "source": [
    "crosssubject_1_accuracy"
   ]
  },
  {
   "cell_type": "code",
   "execution_count": null,
   "metadata": {
    "collapsed": false,
    "scrolled": true
   },
   "outputs": [],
   "source": [
    "crosssubject_1_accuracy"
   ]
  },
  {
   "cell_type": "code",
   "execution_count": null,
   "metadata": {
    "collapsed": true
   },
   "outputs": [],
   "source": []
  },
  {
   "cell_type": "code",
   "execution_count": null,
   "metadata": {
    "collapsed": true
   },
   "outputs": [],
   "source": [
    "crosssubject_1_cm = metrics.confusion_matrix(crosssubject_1_y_test, crosssubject_1_y_predicted)\n",
    "crosssubject_1_cm_normalized = crosssubject_1_cm.astype(\"float\") / crosssubject_1_cm.sum(axis=1)[:, np.newaxis]\n",
    "crosssubject_1_cm_normalized *= 100"
   ]
  },
  {
   "cell_type": "code",
   "execution_count": null,
   "metadata": {
    "collapsed": false
   },
   "outputs": [],
   "source": [
    "with sns.axes_style(\"ticks\"):\n",
    "    fig, ax = plt.subplots(figsize=thesis_figsize)\n",
    "    sns.heatmap(data=crosssubject_1_cm_normalized, annot=True, fmt=\".2f\", linewidths=0.5, square=True,\n",
    "                vmin=0, vmax=100, ax=ax, xticklabels=ACTIVITIES, yticklabels=ACTIVITIES)\n",
    "    plt.yticks(rotation=0)\n",
    "    sns.despine()"
   ]
  },
  {
   "cell_type": "markdown",
   "metadata": {},
   "source": [
    "# NO INFRARED "
   ]
  },
  {
   "cell_type": "code",
   "execution_count": null,
   "metadata": {
    "collapsed": false
   },
   "outputs": [],
   "source": [
    "noinfrared_features_cols = [c for c in features_df.columns if not c.startswith(\"extreme_infrared_\")]"
   ]
  },
  {
   "cell_type": "code",
   "execution_count": null,
   "metadata": {
    "collapsed": true
   },
   "outputs": [],
   "source": [
    "noinfrared_features_df = features_df[noinfrared_features_cols]"
   ]
  },
  {
   "cell_type": "code",
   "execution_count": null,
   "metadata": {
    "collapsed": false
   },
   "outputs": [],
   "source": [
    "noinfrared_features_df.shape"
   ]
  },
  {
   "cell_type": "code",
   "execution_count": null,
   "metadata": {
    "collapsed": false
   },
   "outputs": [],
   "source": [
    "num_noinfrared_features = noinfrared_features_df.shape[1] - 1"
   ]
  },
  {
   "cell_type": "code",
   "execution_count": null,
   "metadata": {
    "collapsed": false
   },
   "outputs": [],
   "source": [
    "noinfrared_X_train = np.array([], dtype=np.float64).reshape(0, num_noinfrared_features)\n",
    "noinfrared_y_train = np.array([], dtype=np.int32).reshape(0, 1)\n",
    "\n",
    "noinfrared_X_test = np.array([], dtype=np.float64).reshape(0, num_noinfrared_features)\n",
    "noinfrared_y_test = np.array([], dtype=np.int32).reshape(0, 1)\n",
    "\n",
    "for subject_id in unique_subjects:\n",
    "    subject_features = noinfrared_features_df[:][noinfrared_features_df[\"subject\"] == subject_id]\n",
    "    subject_features.drop([\"subject\"], axis=1, inplace=True)\n",
    "    subject_labels = labels_df[:][labels_df[\"subject\"] == subject_id]\n",
    "    subject_labels.drop([\"subject\"], axis=1, inplace=True)\n",
    "    \n",
    "    subject_X = subject_features.values\n",
    "    subject_y = subject_labels.values\n",
    "    \n",
    "    if subject_id % 2 == 1:\n",
    "        print(subject_id, \"\\tTrain\")\n",
    "        noinfrared_X_train = np.vstack([noinfrared_X_train, subject_X])\n",
    "        noinfrared_y_train = np.vstack([noinfrared_y_train, subject_y])\n",
    "    else:\n",
    "        print(subject_id, \"\\tTest\")\n",
    "        noinfrared_X_test = np.vstack([noinfrared_X_test, subject_X])\n",
    "        noinfrared_y_test = np.vstack([noinfrared_y_test, subject_y])"
   ]
  },
  {
   "cell_type": "code",
   "execution_count": null,
   "metadata": {
    "collapsed": true
   },
   "outputs": [],
   "source": [
    "noinfrared_train_xgbmatrix = xgb.DMatrix(noinfrared_X_train, noinfrared_y_train)\n",
    "noinfrared_test_xgbmatrix = xgb.DMatrix(noinfrared_X_test, noinfrared_y_test)"
   ]
  },
  {
   "cell_type": "code",
   "execution_count": null,
   "metadata": {
    "collapsed": true
   },
   "outputs": [],
   "source": [
    "noinfrared_booster = xgb.train(params=XGB_PARAM_FINAL, dtrain=noinfrared_train_xgbmatrix, num_boost_round=XGB_NUM_ROUNDS_FINAL)"
   ]
  },
  {
   "cell_type": "markdown",
   "metadata": {},
   "source": [
    "##  85.63%"
   ]
  },
  {
   "cell_type": "code",
   "execution_count": null,
   "metadata": {
    "collapsed": true
   },
   "outputs": [],
   "source": [
    "noinfrared_y_predicted = noinfrared_booster.predict(noinfrared_test_xgbmatrix)"
   ]
  },
  {
   "cell_type": "code",
   "execution_count": null,
   "metadata": {
    "collapsed": true
   },
   "outputs": [],
   "source": [
    "noinfrared_accuracy = metrics.accuracy_score(noinfrared_y_test, noinfrared_y_predicted)"
   ]
  },
  {
   "cell_type": "code",
   "execution_count": null,
   "metadata": {
    "collapsed": false,
    "scrolled": true
   },
   "outputs": [],
   "source": [
    "noinfrared_accuracy"
   ]
  },
  {
   "cell_type": "code",
   "execution_count": null,
   "metadata": {
    "collapsed": true
   },
   "outputs": [],
   "source": [
    "noinfrared_cm = metrics.confusion_matrix(noinfrared_y_test, noinfrared_y_predicted)\n",
    "noinfrared_cm_normalized = noinfrared_cm.astype(\"float\") / noinfrared_cm.sum(axis=1)[:, np.newaxis]\n",
    "noinfrared_cm_normalized *= 100"
   ]
  },
  {
   "cell_type": "code",
   "execution_count": null,
   "metadata": {
    "collapsed": false
   },
   "outputs": [],
   "source": [
    "with sns.axes_style(\"ticks\"):\n",
    "    fig, ax = plt.subplots(figsize=(10, 7.5))\n",
    "    sns.heatmap(data=noinfrared_cm_normalized, annot=True, fmt=\".2f\", linewidths=0.5, square=True,\n",
    "                vmin=0, vmax=100, ax=ax, xticklabels=ACTIVITIES, yticklabels=ACTIVITIES)\n",
    "    sns.despine()\n",
    "    plt.yticks(rotation=0)"
   ]
  },
  {
   "cell_type": "code",
   "execution_count": null,
   "metadata": {
    "collapsed": true
   },
   "outputs": [],
   "source": [
    "crosssubject_infrared_comparisons_list = list()\n",
    "\n",
    "for activity_id, activity in enumerate(ACTIVITIES):\n",
    "    crosssubject_result = {\n",
    "        \"Activity\": activity,\n",
    "        \"Accuracy\": crosssubject_1_cm_normalized[activity_id, activity_id],\n",
    "        \"Condition\": \"All\"\n",
    "    }\n",
    "    crosssubject_infrared_comparisons_list.append(crosssubject_result)\n",
    "\n",
    "for activity_id, activity in enumerate(ACTIVITIES):\n",
    "    crosssubject_result = {\n",
    "        \"Activity\": activity,\n",
    "        \"Accuracy\": noinfrared_cm_normalized[activity_id, activity_id],\n",
    "        \"Condition\": \"Without infrared\"\n",
    "    }\n",
    "    crosssubject_infrared_comparisons_list.append(crosssubject_result)\n",
    "\n",
    "crosssubject_infrared_comparisons_df = pd.DataFrame(crosssubject_infrared_comparisons_list)"
   ]
  },
  {
   "cell_type": "code",
   "execution_count": null,
   "metadata": {
    "collapsed": false,
    "scrolled": true
   },
   "outputs": [],
   "source": [
    "sns.palplot(sns.color_palette(\"coolwarm\", n_colors=7))"
   ]
  },
  {
   "cell_type": "code",
   "execution_count": null,
   "metadata": {
    "collapsed": false
   },
   "outputs": [],
   "source": [
    "sns.palplot(sns.color_palette(\"hls\", 8))"
   ]
  },
  {
   "cell_type": "code",
   "execution_count": null,
   "metadata": {
    "collapsed": false
   },
   "outputs": [],
   "source": [
    "sns.palplot(sns.color_palette(\"Set2\", 10))"
   ]
  },
  {
   "cell_type": "code",
   "execution_count": null,
   "metadata": {
    "collapsed": true
   },
   "outputs": [],
   "source": [
    "flatui = [\"#9b59b6\", \"#3498db\", \"#95a5a6\", \"#e74c3c\", \"#34495e\", \"#2ecc71\"]"
   ]
  },
  {
   "cell_type": "code",
   "execution_count": null,
   "metadata": {
    "collapsed": false,
    "scrolled": true
   },
   "outputs": [],
   "source": [
    "sns.palplot(sns.color_palette(flatui))"
   ]
  },
  {
   "cell_type": "code",
   "execution_count": null,
   "metadata": {
    "collapsed": false
   },
   "outputs": [],
   "source": [
    "with sns.axes_style(\"ticks\"):\n",
    "    fig, ax = plt.subplots(figsize=thesis_figsize)\n",
    "    sns.barplot(x=\"Activity\", y=\"Accuracy\", hue=\"Condition\", palette=[flatui[1], flatui[4]],\n",
    "                data=crosssubject_infrared_comparisons_df, ax=ax)\n",
    "    ax.set_xlabel(\"\")\n",
    "    ax.set_ylabel(\"\")\n",
    "    ax.legend(loc='upper center', bbox_to_anchor=(0.5, -0.05), frameon=True, framealpha=1, fancybox=True, shadow=True, ncol=2)\n",
    "    sns.despine()\n",
    "    \n",
    "    for p in ax.patches:\n",
    "        height = p.get_height()\n",
    "        ax.text(p.get_x(), height+ 3, '%1.2f'%(height/100))"
   ]
  },
  {
   "cell_type": "code",
   "execution_count": null,
   "metadata": {
    "collapsed": false
   },
   "outputs": [],
   "source": [
    "crosssubject_infrared_comparisons_df"
   ]
  },
  {
   "cell_type": "code",
   "execution_count": null,
   "metadata": {
    "collapsed": false
   },
   "outputs": [],
   "source": [
    "# reading paper\n",
    "91.858038 - 92.790536 "
   ]
  },
  {
   "cell_type": "code",
   "execution_count": null,
   "metadata": {
    "collapsed": false
   },
   "outputs": [],
   "source": [
    "# phone\n",
    "77.292500 - 64.903428 "
   ]
  },
  {
   "cell_type": "code",
   "execution_count": null,
   "metadata": {
    "collapsed": false
   },
   "outputs": [],
   "source": [
    "# tablet\n",
    "99.087616 - 64.430431"
   ]
  },
  {
   "cell_type": "code",
   "execution_count": null,
   "metadata": {
    "collapsed": true
   },
   "outputs": [],
   "source": []
  },
  {
   "cell_type": "markdown",
   "metadata": {},
   "source": [
    "# DEMO"
   ]
  },
  {
   "cell_type": "code",
   "execution_count": null,
   "metadata": {
    "collapsed": false
   },
   "outputs": [],
   "source": [
    "XGB_PARAM_DEMO = {}\n",
    "XGB_PARAM_DEMO[\"eta\"] = 0.3\n",
    "XGB_PARAM_DEMO[\"gamma\"] = 1\n",
    "XGB_PARAM_DEMO[\"lambda\"] = 3\n",
    "XGB_PARAM_DEMO[\"alpha\"] = 1\n",
    "XGB_PARAM_DEMO[\"max_depth\"] = 6\n",
    "XGB_PARAM_DEMO[\"colsample_bytree\"] = 0.8\n",
    "XGB_PARAM_DEMO[\"subsample\"] = 0.5\n",
    "XGB_PARAM_DEMO[\"objective\"] = \"multi:softmax\"\n",
    "XGB_PARAM_DEMO[\"eval_metric\"] = \"merror\"\n",
    "XGB_PARAM_DEMO[\"num_class\"] = len(ACTIVITIES)\n",
    "XGB_PARAM_DEMO[\"silent\"] = 0\n",
    "\n",
    "XGB_NUM_ROUNDS_DEMO = 40"
   ]
  },
  {
   "cell_type": "code",
   "execution_count": null,
   "metadata": {
    "collapsed": false
   },
   "outputs": [],
   "source": [
    "X.shape"
   ]
  },
  {
   "cell_type": "code",
   "execution_count": null,
   "metadata": {
    "collapsed": false
   },
   "outputs": [],
   "source": [
    "y.shape"
   ]
  },
  {
   "cell_type": "code",
   "execution_count": null,
   "metadata": {
    "collapsed": true
   },
   "outputs": [],
   "source": [
    "demo_train_xgbmatrix = xgb.DMatrix(X, y)\n",
    "demo_test_xgbmatrix = xgb.DMatrix(X, y)\n",
    "demo_watchlist = [(demo_train_xgbmatrix, \"train\"), (demo_test_xgbmatrix, \"eval\")]"
   ]
  },
  {
   "cell_type": "code",
   "execution_count": null,
   "metadata": {
    "collapsed": false,
    "scrolled": true
   },
   "outputs": [],
   "source": [
    "demo_results = {}\n",
    "demo_booster = xgb.train(XGB_PARAM_DEMO, demo_train_xgbmatrix, XGB_NUM_ROUNDS_DEMO, demo_watchlist, evals_result=demo_results, early_stopping_rounds=20)"
   ]
  },
  {
   "cell_type": "code",
   "execution_count": null,
   "metadata": {
    "collapsed": true
   },
   "outputs": [],
   "source": [
    "demo_booster.save_model(\"demo-xgboost.model\")"
   ]
  },
  {
   "cell_type": "code",
   "execution_count": null,
   "metadata": {
    "collapsed": false
   },
   "outputs": [],
   "source": [
    "bst2 = xgb.Booster(model_file=\"demo-xgboost.model\")"
   ]
  },
  {
   "cell_type": "code",
   "execution_count": null,
   "metadata": {
    "collapsed": false
   },
   "outputs": [],
   "source": [
    "test_dmatrix = xgb.DMatrix(X)\n",
    "y_predicted = bst2.predict(test_dmatrix)\n",
    "accuracy = metrics.accuracy_score(y, y_predicted)"
   ]
  },
  {
   "cell_type": "code",
   "execution_count": null,
   "metadata": {
    "collapsed": false
   },
   "outputs": [],
   "source": [
    "accuracy"
   ]
  },
  {
   "cell_type": "markdown",
   "metadata": {},
   "source": [
    "# CROSS SUBJECT TEST 2 ALL COMBINATIONS"
   ]
  },
  {
   "cell_type": "code",
   "execution_count": null,
   "metadata": {
    "collapsed": false
   },
   "outputs": [],
   "source": [
    "cs_combinations = list(itertools.combinations(unique_subjects, int(len(unique_subjects)/2)))"
   ]
  },
  {
   "cell_type": "code",
   "execution_count": null,
   "metadata": {
    "collapsed": false,
    "scrolled": true
   },
   "outputs": [],
   "source": [
    "len(cs_combinations)"
   ]
  },
  {
   "cell_type": "code",
   "execution_count": null,
   "metadata": {
    "collapsed": true
   },
   "outputs": [],
   "source": [
    "cs_combinations_results_csv = \"E:\\\\angel\\\\data\\\\topviewkinect\\\\all\\\\iss-cs_combinations.csv\""
   ]
  },
  {
   "cell_type": "code",
   "execution_count": null,
   "metadata": {
    "collapsed": true
   },
   "outputs": [],
   "source": [
    "open(combinations_results_csv, \"w\").close()\n",
    "with open(combinations_results_csv, \"a\") as f:\n",
    "    data_columns = pd.DataFrame(columns=[\"combination\", \"activity\", \"a1\", \"a2\", \"a3\", \"a4\", \"a5\", \"a6\"])\n",
    "    data_columns.to_csv(f, header=True, index=False)"
   ]
  },
  {
   "cell_type": "code",
   "execution_count": null,
   "metadata": {
    "collapsed": false
   },
   "outputs": [],
   "source": [
    "with open(combinations_results_csv, \"a\") as f:\n",
    "    for cs_combination_idx, subjects_combination in enumerate(cs_combinations):\n",
    "        print(cs_combination_idx)\n",
    "\n",
    "        cs_combination_X_train = np.array([], dtype=np.float64).reshape(0, num_features)\n",
    "        cs_combination_y_train = np.array([], dtype=np.int32).reshape(0, 1)\n",
    "        cs_combination_X_test = np.array([], dtype=np.float64).reshape(0, num_features)\n",
    "        cs_combination_y_test = np.array([], dtype=np.int32).reshape(0, 1)\n",
    "\n",
    "        for subject_id in unique_subjects:\n",
    "            subject_features = features_df[:][features_df[\"subject\"] == subject_id]\n",
    "            subject_features.drop([\"subject\"], axis=1, inplace=True)\n",
    "            subject_labels = labels_df[:][labels_df[\"subject\"] == subject_id]\n",
    "            subject_labels.drop([\"subject\"], axis=1, inplace=True)\n",
    "            subject_X = subject_features.values\n",
    "            subject_y = subject_labels.values\n",
    "\n",
    "            if subject_id in subjects_combination:\n",
    "                cs_combination_X_train = np.vstack([cs_combination_X_train, subject_X])\n",
    "                cs_combination_y_train = np.vstack([cs_combination_y_train, subject_y])\n",
    "            else:\n",
    "                cs_combination_X_test = np.vstack([cs_combination_X_test, subject_X])\n",
    "                cs_combination_y_test = np.vstack([cs_combination_y_test, subject_y])\n",
    "\n",
    "        cs_combination_train_xgbmatrix = xgb.DMatrix(cs_combination_X_train, cs_combination_y_train)\n",
    "        cs_combination_test_xgbmatrix = xgb.DMatrix(cs_combination_X_test, cs_combination_y_test)\n",
    "\n",
    "        cs_combination_booster = xgb.train(XGB_PARAM_FINAL, dtrain=cs_combination_train_xgbmatrix, \n",
    "                                           num_boost_round=XGB_NUM_ROUNDS_FINAL)\n",
    "        cs_combination_y_predicted = cs_combination_booster.predict(cs_combination_test_xgbmatrix)\n",
    "        result = metrics.confusion_matrix(cs_combination_y_test, cs_combination_y_predicted)\n",
    "        \n",
    "        data = pd.DataFrame(columns=[\"combination\", \"activity\", \"a1\", \"a2\", \"a3\", \"a4\", \"a5\", \"a6\"])\n",
    "        for activity_id, activity in enumerate(ACTIVITIES):\n",
    "            data.loc[activity_id] = [cs_combination_idx, activity, \n",
    "                                     result[activity_id,0], \n",
    "                                     result[activity_id,1], \n",
    "                                     result[activity_id,2], \n",
    "                                     result[activity_id,3], \n",
    "                                     result[activity_id,4], \n",
    "                                     result[activity_id,5]]\n",
    "            \n",
    "        data.to_csv(f, header=False, index=False)"
   ]
  },
  {
   "cell_type": "code",
   "execution_count": null,
   "metadata": {
    "collapsed": true
   },
   "outputs": [],
   "source": [
    "cs_combinations_results_pd = pd.read_csv(cs_combinations_results_csv)"
   ]
  },
  {
   "cell_type": "code",
   "execution_count": null,
   "metadata": {
    "collapsed": false
   },
   "outputs": [],
   "source": [
    "cs_combinations_results_pd"
   ]
  },
  {
   "cell_type": "code",
   "execution_count": null,
   "metadata": {
    "collapsed": false
   },
   "outputs": [],
   "source": [
    "noinfrared_cm"
   ]
  },
  {
   "cell_type": "code",
   "execution_count": null,
   "metadata": {
    "collapsed": false
   },
   "outputs": [],
   "source": [
    "# standing\n",
    "combinations_standing = cs_combinations_results_pd[:][cs_combinations_results_pd[\"activity\"] == \"Standing\"]\n",
    "combinations_sitting = cs_combinations_results_pd[:][cs_combinations_results_pd[\"activity\"] == \"Sitting\"]\n",
    "combinations_pointing = cs_combinations_results_pd[:][cs_combinations_results_pd[\"activity\"] == \"Pointing\"]\n",
    "combinations_phone = cs_combinations_results_pd[:][cs_combinations_results_pd[\"activity\"] == \"Phone\"]\n",
    "combinations_tablet = cs_combinations_results_pd[:][cs_combinations_results_pd[\"activity\"] == \"Tablet\"]\n",
    "combinations_paper = cs_combinations_results_pd[:][cs_combinations_results_pd[\"activity\"] == \"Paper\"]\n",
    "\n",
    "standing_cm = list()\n",
    "sitting_cm = list()\n",
    "pointing_cm = list()\n",
    "phone_cm = list()\n",
    "tablet_cm = list()\n",
    "paper_cm = list()\n",
    "\n",
    "\n",
    "for col in [\"a1\", \"a2\", \"a3\", \"a4\", \"a5\", \"a6\"]:\n",
    "    standing_cm.append(combinations_standing[col].sum())\n",
    "    sitting_cm.append(combinations_sitting[col].sum())\n",
    "    pointing_cm.append(combinations_pointing[col].sum())\n",
    "    phone_cm.append(combinations_phone[col].sum())\n",
    "    tablet_cm.append(combinations_tablet[col].sum())\n",
    "    paper_cm.append(combinations_paper[col].sum())\n",
    "\n",
    "combinations_cm = np.array([\n",
    "        standing_cm, sitting_cm, pointing_cm, phone_cm, tablet_cm, paper_cm\n",
    "    ])"
   ]
  },
  {
   "cell_type": "code",
   "execution_count": null,
   "metadata": {
    "collapsed": false
   },
   "outputs": [],
   "source": [
    "combinations_cm"
   ]
  },
  {
   "cell_type": "code",
   "execution_count": null,
   "metadata": {
    "collapsed": false
   },
   "outputs": [],
   "source": [
    "all_samples = np.sum(combinations_cm)"
   ]
  },
  {
   "cell_type": "code",
   "execution_count": null,
   "metadata": {
    "collapsed": false
   },
   "outputs": [],
   "source": [
    "accurate_samples = 0\n",
    "for activity_id in range(len(ACTIVITIES)):\n",
    "    accurate_samples += combinations_cm[activity_id, activity_id]"
   ]
  },
  {
   "cell_type": "code",
   "execution_count": null,
   "metadata": {
    "collapsed": true
   },
   "outputs": [],
   "source": [
    "combinations_accuracy = accurate_samples / all_samples"
   ]
  },
  {
   "cell_type": "markdown",
   "metadata": {},
   "source": [
    "##  92.34%"
   ]
  },
  {
   "cell_type": "code",
   "execution_count": null,
   "metadata": {
    "collapsed": false
   },
   "outputs": [],
   "source": [
    "combinations_accuracy"
   ]
  },
  {
   "cell_type": "code",
   "execution_count": null,
   "metadata": {
    "collapsed": false
   },
   "outputs": [],
   "source": [
    "combinations_cm\n",
    "combinations_cm_normalized = combinations_cm.astype(\"float\") / combinations_cm.sum(axis=1)[:, np.newaxis]\n",
    "combinations_cm_normalized *= 100"
   ]
  },
  {
   "cell_type": "code",
   "execution_count": null,
   "metadata": {
    "collapsed": false
   },
   "outputs": [],
   "source": [
    "combinations_cm_normalized"
   ]
  },
  {
   "cell_type": "code",
   "execution_count": null,
   "metadata": {
    "collapsed": false
   },
   "outputs": [],
   "source": [
    "with sns.axes_style(\"ticks\"):\n",
    "    fig, ax = plt.subplots(figsize=(10, 7.5))\n",
    "    sns.heatmap(data=combinations_cm_normalized, annot=True, fmt=\".2f\", linewidths=0.5, square=True,\n",
    "                vmin=0, vmax=100, ax=ax, xticklabels=ACTIVITIES, yticklabels=ACTIVITIES)\n",
    "    sns.despine()\n",
    "    plt.yticks(rotation=0)"
   ]
  }
 ],
 "metadata": {
  "kernelspec": {
   "display_name": "Python 3",
   "language": "python",
   "name": "python3"
  },
  "language_info": {
   "codemirror_mode": {
    "name": "ipython",
    "version": 3
   },
   "file_extension": ".py",
   "mimetype": "text/x-python",
   "name": "python",
   "nbconvert_exporter": "python",
   "pygments_lexer": "ipython3",
   "version": "3.6.0"
  }
 },
 "nbformat": 4,
 "nbformat_minor": 0
}
