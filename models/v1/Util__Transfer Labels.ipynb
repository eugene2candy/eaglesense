{
 "cells": [
  {
   "cell_type": "code",
   "execution_count": 1,
   "metadata": {
    "collapsed": true
   },
   "outputs": [],
   "source": [
    "import numpy as np\n",
    "import pandas as pd\n",
    "\n",
    "import os"
   ]
  },
  {
   "cell_type": "code",
   "execution_count": 5,
   "metadata": {
    "collapsed": true
   },
   "outputs": [],
   "source": [
    "DATA_DIRECTORY = \"Q:\\\\p_eaglesense\\\\eaglesense\\\\data\\\\topviewkinect\""
   ]
  },
  {
   "cell_type": "code",
   "execution_count": 6,
   "metadata": {
    "collapsed": true
   },
   "outputs": [],
   "source": [
    "labels_csv_f = \"Q:\\\\p_eaglesense\\\\eaglesense\\\\data\\\\topviewkinect\\\\{id}\\\\labels.csv\"\n",
    "old_labels_csv_f = \"Q:\\\\p_eaglesense\\\\eaglesense\\\\data\\\\topviewkinect\\\\{id}\\\\labels - Copy.csv\""
   ]
  },
  {
   "cell_type": "code",
   "execution_count": 7,
   "metadata": {
    "collapsed": false
   },
   "outputs": [
    {
     "name": "stdout",
     "output_type": "stream",
     "text": [
      "2001 ... 2002 ... 2003 ... 2004 ... 2005 ... 2006 ... 2007 ... 2008 ... 2009 ... 2010 ... 2011 ... 2012 ... "
     ]
    }
   ],
   "source": [
    "for dataset_id in next(os.walk(DATA_DIRECTORY))[1]:\n",
    "    if not dataset_id.isdigit():\n",
    "        continue\n",
    "    elif dataset_id.startswith((\"1\", \"3\", \"4\", \"6\", \"7\")):\n",
    "        continue\n",
    "    else:\n",
    "        print(dataset_id, \"... \", end=\"\")\n",
    "\n",
    "    labels_csv = labels_csv_f.format(id=dataset_id)\n",
    "    labels_df = pd.read_csv(labels_csv)\n",
    "    \n",
    "    old_labels_csv = old_labels_csv_f.format(id=dataset_id)\n",
    "    old_labels_df = pd.read_csv(old_labels_csv)\n",
    "    \n",
    "    common_frames = np.intersect1d(labels_df[\"frame_id\"].values, old_labels_df[\"frame_id\"].values)\n",
    "    old_labels = old_labels_df.loc[old_labels_df[\"frame_id\"].isin(common_frames), \"activity\"]\n",
    "    labels_df.loc[labels_df[\"frame_id\"].isin(common_frames), \"activity\"] = old_labels.astype(np.int)\n",
    "#     labels_df[\"activity\"] = labels_df[\"activity\"].astype(np.int)\n",
    "    labels_df.to_csv(labels_csv, index=False)"
   ]
  }
 ],
 "metadata": {
  "kernelspec": {
   "display_name": "Python 3",
   "language": "python",
   "name": "python3"
  },
  "language_info": {
   "codemirror_mode": {
    "name": "ipython",
    "version": 3
   },
   "file_extension": ".py",
   "mimetype": "text/x-python",
   "name": "python",
   "nbconvert_exporter": "python",
   "pygments_lexer": "ipython3",
   "version": "3.6.0"
  }
 },
 "nbformat": 4,
 "nbformat_minor": 0
}
