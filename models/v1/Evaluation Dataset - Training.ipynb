{
 "cells": [
  {
   "cell_type": "code",
   "execution_count": 1,
   "metadata": {
    "collapsed": false
   },
   "outputs": [],
   "source": [
    "%matplotlib inline\n",
    "\n",
    "import numpy as np\n",
    "import pandas as pd\n",
    "\n",
    "from sklearn import grid_search\n",
    "from sklearn import metrics\n",
    "from sklearn import cross_validation\n",
    "from sklearn.externals import joblib\n",
    "\n",
    "import xgboost as xgb\n",
    "\n",
    "import matplotlib.pyplot as plt\n",
    "import seaborn as sns\n",
    "\n",
    "import operator\n",
    "import itertools\n",
    "import random\n",
    "import os\n",
    "import pickle\n",
    "import time"
   ]
  },
  {
   "cell_type": "markdown",
   "metadata": {},
   "source": [
    "# PATHS"
   ]
  },
  {
   "cell_type": "code",
   "execution_count": 2,
   "metadata": {
    "collapsed": true
   },
   "outputs": [],
   "source": [
    "DATA_DIRECTORY = \"E:\\\\eaglesense\\\\data\\\\topviewkinect\"\n",
    "PREPROCESSED_DIRECTORY = DATA_DIRECTORY + \"\\\\all\"\n",
    "FEATURE_SET = \"eval-chi2\""
   ]
  },
  {
   "cell_type": "code",
   "execution_count": 3,
   "metadata": {
    "collapsed": false
   },
   "outputs": [],
   "source": [
    "if not os.path.exists(\"results\"):\n",
    "    os.makedirs(\"results\")"
   ]
  },
  {
   "cell_type": "markdown",
   "metadata": {},
   "source": [
    "# LOAD DATA"
   ]
  },
  {
   "cell_type": "code",
   "execution_count": 4,
   "metadata": {
    "collapsed": true
   },
   "outputs": [],
   "source": [
    "features_csv = \"{root}/{tag}_features.csv\".format(root=PREPROCESSED_DIRECTORY, tag=FEATURE_SET)\n",
    "features_df = pd.read_csv(features_csv)"
   ]
  },
  {
   "cell_type": "code",
   "execution_count": 5,
   "metadata": {
    "collapsed": false
   },
   "outputs": [
    {
     "data": {
      "text/html": [
       "<div>\n",
       "<table border=\"1\" class=\"dataframe\">\n",
       "  <thead>\n",
       "    <tr style=\"text-align: right;\">\n",
       "      <th></th>\n",
       "      <th>layer_area_0</th>\n",
       "      <th>layer_area_1</th>\n",
       "      <th>layer_area_2</th>\n",
       "      <th>layer_contours_0</th>\n",
       "      <th>layer_contours_1</th>\n",
       "      <th>layer_distance_0</th>\n",
       "      <th>layer_distance_1</th>\n",
       "      <th>layer_distance_2</th>\n",
       "      <th>layer_distance_3</th>\n",
       "      <th>layer_distance_4</th>\n",
       "      <th>...</th>\n",
       "      <th>interlayer_pos_16</th>\n",
       "      <th>interlayer_pos_17</th>\n",
       "      <th>extremities0</th>\n",
       "      <th>extreme_infrared_0</th>\n",
       "      <th>extreme_infrared_1</th>\n",
       "      <th>extreme_infrared_2</th>\n",
       "      <th>extreme_infrared_3</th>\n",
       "      <th>extreme_infrared_4</th>\n",
       "      <th>extreme_infrared_5</th>\n",
       "      <th>subject</th>\n",
       "    </tr>\n",
       "  </thead>\n",
       "  <tbody>\n",
       "    <tr>\n",
       "      <th>0</th>\n",
       "      <td>0.297578</td>\n",
       "      <td>0.411765</td>\n",
       "      <td>0.290657</td>\n",
       "      <td>3.0</td>\n",
       "      <td>3.0</td>\n",
       "      <td>16.5529</td>\n",
       "      <td>26.6833</td>\n",
       "      <td>26.0192</td>\n",
       "      <td>26.6833</td>\n",
       "      <td>201.0</td>\n",
       "      <td>...</td>\n",
       "      <td>-26.0</td>\n",
       "      <td>-107.0</td>\n",
       "      <td>4.0</td>\n",
       "      <td>0.000000e+00</td>\n",
       "      <td>10.0</td>\n",
       "      <td>11.5</td>\n",
       "      <td>11.5</td>\n",
       "      <td>0.0</td>\n",
       "      <td>11.5</td>\n",
       "      <td>2001.0</td>\n",
       "    </tr>\n",
       "    <tr>\n",
       "      <th>1</th>\n",
       "      <td>0.310345</td>\n",
       "      <td>0.419238</td>\n",
       "      <td>0.270417</td>\n",
       "      <td>3.0</td>\n",
       "      <td>3.0</td>\n",
       "      <td>16.4012</td>\n",
       "      <td>26.4764</td>\n",
       "      <td>26.0192</td>\n",
       "      <td>26.4764</td>\n",
       "      <td>191.5</td>\n",
       "      <td>...</td>\n",
       "      <td>-26.0</td>\n",
       "      <td>-105.0</td>\n",
       "      <td>5.0</td>\n",
       "      <td>5.000000e-01</td>\n",
       "      <td>9.0</td>\n",
       "      <td>11.0</td>\n",
       "      <td>1.0</td>\n",
       "      <td>0.5</td>\n",
       "      <td>11.0</td>\n",
       "      <td>2001.0</td>\n",
       "    </tr>\n",
       "    <tr>\n",
       "      <th>2</th>\n",
       "      <td>0.333959</td>\n",
       "      <td>0.386492</td>\n",
       "      <td>0.279550</td>\n",
       "      <td>3.0</td>\n",
       "      <td>3.0</td>\n",
       "      <td>16.4012</td>\n",
       "      <td>26.2488</td>\n",
       "      <td>26.1725</td>\n",
       "      <td>26.2488</td>\n",
       "      <td>170.5</td>\n",
       "      <td>...</td>\n",
       "      <td>-25.0</td>\n",
       "      <td>-103.0</td>\n",
       "      <td>5.0</td>\n",
       "      <td>2.075076e-322</td>\n",
       "      <td>12.5</td>\n",
       "      <td>4.5</td>\n",
       "      <td>4.5</td>\n",
       "      <td>0.5</td>\n",
       "      <td>13.0</td>\n",
       "      <td>2001.0</td>\n",
       "    </tr>\n",
       "    <tr>\n",
       "      <th>3</th>\n",
       "      <td>0.348399</td>\n",
       "      <td>0.384181</td>\n",
       "      <td>0.267420</td>\n",
       "      <td>3.0</td>\n",
       "      <td>3.0</td>\n",
       "      <td>16.4012</td>\n",
       "      <td>26.4197</td>\n",
       "      <td>26.4764</td>\n",
       "      <td>26.4197</td>\n",
       "      <td>164.0</td>\n",
       "      <td>...</td>\n",
       "      <td>-25.0</td>\n",
       "      <td>-103.0</td>\n",
       "      <td>5.0</td>\n",
       "      <td>0.000000e+00</td>\n",
       "      <td>6.0</td>\n",
       "      <td>4.5</td>\n",
       "      <td>0.0</td>\n",
       "      <td>0.0</td>\n",
       "      <td>7.0</td>\n",
       "      <td>2001.0</td>\n",
       "    </tr>\n",
       "    <tr>\n",
       "      <th>4</th>\n",
       "      <td>0.356383</td>\n",
       "      <td>0.370567</td>\n",
       "      <td>0.273050</td>\n",
       "      <td>3.0</td>\n",
       "      <td>3.0</td>\n",
       "      <td>17.7200</td>\n",
       "      <td>27.4591</td>\n",
       "      <td>27.4591</td>\n",
       "      <td>27.4591</td>\n",
       "      <td>164.5</td>\n",
       "      <td>...</td>\n",
       "      <td>-26.0</td>\n",
       "      <td>-107.0</td>\n",
       "      <td>3.0</td>\n",
       "      <td>0.000000e+00</td>\n",
       "      <td>0.0</td>\n",
       "      <td>0.5</td>\n",
       "      <td>0.0</td>\n",
       "      <td>0.0</td>\n",
       "      <td>0.5</td>\n",
       "      <td>2001.0</td>\n",
       "    </tr>\n",
       "  </tbody>\n",
       "</table>\n",
       "<p>5 rows × 73 columns</p>\n",
       "</div>"
      ],
      "text/plain": [
       "   layer_area_0  layer_area_1  layer_area_2  layer_contours_0  \\\n",
       "0      0.297578      0.411765      0.290657               3.0   \n",
       "1      0.310345      0.419238      0.270417               3.0   \n",
       "2      0.333959      0.386492      0.279550               3.0   \n",
       "3      0.348399      0.384181      0.267420               3.0   \n",
       "4      0.356383      0.370567      0.273050               3.0   \n",
       "\n",
       "   layer_contours_1  layer_distance_0  layer_distance_1  layer_distance_2  \\\n",
       "0               3.0           16.5529           26.6833           26.0192   \n",
       "1               3.0           16.4012           26.4764           26.0192   \n",
       "2               3.0           16.4012           26.2488           26.1725   \n",
       "3               3.0           16.4012           26.4197           26.4764   \n",
       "4               3.0           17.7200           27.4591           27.4591   \n",
       "\n",
       "   layer_distance_3  layer_distance_4   ...     interlayer_pos_16  \\\n",
       "0           26.6833             201.0   ...                 -26.0   \n",
       "1           26.4764             191.5   ...                 -26.0   \n",
       "2           26.2488             170.5   ...                 -25.0   \n",
       "3           26.4197             164.0   ...                 -25.0   \n",
       "4           27.4591             164.5   ...                 -26.0   \n",
       "\n",
       "   interlayer_pos_17  extremities0  extreme_infrared_0  extreme_infrared_1  \\\n",
       "0             -107.0           4.0        0.000000e+00                10.0   \n",
       "1             -105.0           5.0        5.000000e-01                 9.0   \n",
       "2             -103.0           5.0       2.075076e-322                12.5   \n",
       "3             -103.0           5.0        0.000000e+00                 6.0   \n",
       "4             -107.0           3.0        0.000000e+00                 0.0   \n",
       "\n",
       "   extreme_infrared_2  extreme_infrared_3  extreme_infrared_4  \\\n",
       "0                11.5                11.5                 0.0   \n",
       "1                11.0                 1.0                 0.5   \n",
       "2                 4.5                 4.5                 0.5   \n",
       "3                 4.5                 0.0                 0.0   \n",
       "4                 0.5                 0.0                 0.0   \n",
       "\n",
       "   extreme_infrared_5  subject  \n",
       "0                11.5   2001.0  \n",
       "1                11.0   2001.0  \n",
       "2                13.0   2001.0  \n",
       "3                 7.0   2001.0  \n",
       "4                 0.5   2001.0  \n",
       "\n",
       "[5 rows x 73 columns]"
      ]
     },
     "execution_count": 5,
     "metadata": {},
     "output_type": "execute_result"
    }
   ],
   "source": [
    "features_df.head()"
   ]
  },
  {
   "cell_type": "code",
   "execution_count": 6,
   "metadata": {
    "collapsed": true
   },
   "outputs": [],
   "source": [
    "labels_csv = \"{root}/{tag}_labels.csv\".format(root=PREPROCESSED_DIRECTORY, tag=FEATURE_SET)\n",
    "labels_df = pd.read_csv(labels_csv)"
   ]
  },
  {
   "cell_type": "code",
   "execution_count": 7,
   "metadata": {
    "collapsed": true
   },
   "outputs": [],
   "source": [
    "s1_data_path = \"{root}/{tag}_s1_data.pickle\".format(root=PREPROCESSED_DIRECTORY, tag=FEATURE_SET)\n",
    "s2_data_path = \"{root}/{tag}_s2_data.pickle\".format(root=PREPROCESSED_DIRECTORY, tag=FEATURE_SET)\n",
    "cs_data_path = \"{root}/{tag}_cs_data.pickle\".format(root=PREPROCESSED_DIRECTORY, tag=FEATURE_SET)\n",
    "noinfrared_data_path = \"{root}/{tag}_cs_noinfrared_data.pickle\".format(root=PREPROCESSED_DIRECTORY, tag=FEATURE_SET)\n",
    "\n",
    "with open(s1_data_path, \"rb\") as f:\n",
    "    s1_data = pickle.load(f)\n",
    "    \n",
    "with open(s2_data_path, \"rb\") as f:\n",
    "    s2_data = pickle.load(f)\n",
    "\n",
    "with open(cs_data_path, \"rb\") as f:\n",
    "    cs_data = pickle.load(f)\n",
    "\n",
    "with open(noinfrared_data_path, \"rb\") as f:\n",
    "    noinfrared_data = pickle.load(f)"
   ]
  },
  {
   "cell_type": "code",
   "execution_count": 8,
   "metadata": {
    "collapsed": false
   },
   "outputs": [
    {
     "data": {
      "text/plain": [
       "array([ 2001.,  2002.,  2003.,  2004.,  2005.,  2006.,  2007.,  2008.,\n",
       "        2009.,  2010.,  2011.,  2012.])"
      ]
     },
     "execution_count": 8,
     "metadata": {},
     "output_type": "execute_result"
    }
   ],
   "source": [
    "unique_subjects = features_df[\"subject\"].unique()\n",
    "unique_subjects"
   ]
  },
  {
   "cell_type": "code",
   "execution_count": 9,
   "metadata": {
    "collapsed": true
   },
   "outputs": [],
   "source": [
    "ACTIVITIES = [\"Standing\", \"Sitting\", \"Pointing\", \"Phone\", \"Tablet\", \"Paper\"]"
   ]
  },
  {
   "cell_type": "code",
   "execution_count": 10,
   "metadata": {
    "collapsed": false
   },
   "outputs": [
    {
     "data": {
      "text/plain": [
       "6"
      ]
     },
     "execution_count": 10,
     "metadata": {},
     "output_type": "execute_result"
    }
   ],
   "source": [
    "num_activities = len(ACTIVITIES)\n",
    "num_activities"
   ]
  },
  {
   "cell_type": "markdown",
   "metadata": {},
   "source": [
    "# PARAMETERS "
   ]
  },
  {
   "cell_type": "code",
   "execution_count": 11,
   "metadata": {
    "collapsed": false
   },
   "outputs": [],
   "source": [
    "XGB_PARAM_FINAL = {}\n",
    "XGB_PARAM_FINAL[\"eta\"] = 0.3\n",
    "XGB_PARAM_FINAL[\"gamma\"] = 1\n",
    "XGB_PARAM_FINAL[\"lambda\"] = 1\n",
    "XGB_PARAM_FINAL[\"alpha\"] = 0\n",
    "XGB_PARAM_FINAL[\"max_depth\"] = 6\n",
    "XGB_PARAM_FINAL[\"colsample_bytree\"] = 0.5\n",
    "XGB_PARAM_FINAL[\"colsample_bylevel\"] = 0.5\n",
    "XGB_PARAM_FINAL[\"subsample\"] = 0.5\n",
    "XGB_PARAM_FINAL[\"objective\"] = \"multi:softmax\"\n",
    "XGB_PARAM_FINAL[\"eval_metric\"] = \"merror\"\n",
    "XGB_PARAM_FINAL[\"num_class\"] = len(ACTIVITIES)\n",
    "XGB_PARAM_FINAL[\"silent\"] = 0\n",
    "XGB_NUM_ROUNDS = 200\n",
    "XGB_EARLYSTOPPING_ROUNDS = 30"
   ]
  },
  {
   "cell_type": "markdown",
   "metadata": {},
   "source": [
    "# UTILITY"
   ]
  },
  {
   "cell_type": "code",
   "execution_count": 12,
   "metadata": {
    "collapsed": true
   },
   "outputs": [],
   "source": [
    "def crosssubject_test_split(features_df, labels_df, training_subjects_ids):\n",
    "    num_features = features_df.shape[1] - 1\n",
    "    \n",
    "    X_train = np.array([], dtype=np.float64).reshape(0, num_features)\n",
    "    y_train = np.array([], dtype=np.int32).reshape(0, 1)\n",
    "    X_test = np.array([], dtype=np.float64).reshape(0, num_features)\n",
    "    y_test = np.array([], dtype=np.int32).reshape(0, 1)\n",
    "\n",
    "    for subject_id in unique_subjects:\n",
    "        subject_features = features_df[features_df[\"subject\"] == subject_id]\n",
    "        subject_features = subject_features.drop([\"subject\"], axis=1)\n",
    "        subject_labels = labels_df[labels_df[\"subject\"] == subject_id]\n",
    "        subject_labels = subject_labels[[\"activity\"]]\n",
    "        subject_X = subject_features.values\n",
    "        subject_y = subject_labels.values\n",
    "\n",
    "        if subject_id in training_subjects_ids:\n",
    "            X_train = np.vstack([X_train, subject_X])\n",
    "            y_train = np.vstack([y_train, subject_y])\n",
    "        else:\n",
    "            X_test = np.vstack([X_test, subject_X])\n",
    "            y_test = np.vstack([y_test, subject_y])\n",
    "    \n",
    "    return X_train, y_train, X_test, y_test"
   ]
  },
  {
   "cell_type": "code",
   "execution_count": 13,
   "metadata": {
    "collapsed": true
   },
   "outputs": [],
   "source": [
    "def get_normalized_confusion_matrix(y_true, y_predicted):\n",
    "    confusion_matrix = metrics.confusion_matrix(y_true, y_predicted)\n",
    "    confusion_matrix_normalized = confusion_matrix.astype(\"float\") / confusion_matrix.sum(axis=1)[:, np.newaxis]\n",
    "    confusion_matrix_normalized *= 100\n",
    "    return confusion_matrix_normalized"
   ]
  },
  {
   "cell_type": "markdown",
   "metadata": {},
   "source": [
    "# Samples Test 1"
   ]
  },
  {
   "cell_type": "code",
   "execution_count": 14,
   "metadata": {
    "collapsed": true
   },
   "outputs": [],
   "source": [
    "s1_X_train = s1_data[\"X_train\"]\n",
    "s1_y_train = s1_data[\"y_train\"]\n",
    "s1_X_test = s1_data[\"X_test\"]\n",
    "s1_y_test = s1_data[\"y_test\"]"
   ]
  },
  {
   "cell_type": "code",
   "execution_count": 15,
   "metadata": {
    "collapsed": false
   },
   "outputs": [
    {
     "data": {
      "text/plain": [
       "(25653, 72)"
      ]
     },
     "execution_count": 15,
     "metadata": {},
     "output_type": "execute_result"
    }
   ],
   "source": [
    "s1_X_train.shape"
   ]
  },
  {
   "cell_type": "code",
   "execution_count": 16,
   "metadata": {
    "collapsed": false
   },
   "outputs": [
    {
     "data": {
      "text/plain": [
       "(51371, 72)"
      ]
     },
     "execution_count": 16,
     "metadata": {},
     "output_type": "execute_result"
    }
   ],
   "source": [
    "s1_X_test.shape"
   ]
  },
  {
   "cell_type": "code",
   "execution_count": 17,
   "metadata": {
    "collapsed": true
   },
   "outputs": [],
   "source": [
    "s1_train_xgbmatrix = xgb.DMatrix(s1_X_train, s1_y_train)\n",
    "s1_test_xgbmatrix = xgb.DMatrix(s1_X_test, s1_y_test)\n",
    "s1_watchlist = [(s1_train_xgbmatrix, \"train\"), (s1_test_xgbmatrix, \"eval\")]"
   ]
  },
  {
   "cell_type": "code",
   "execution_count": 18,
   "metadata": {
    "collapsed": false
   },
   "outputs": [
    {
     "name": "stdout",
     "output_type": "stream",
     "text": [
      "[0]\ttrain-merror:0.078509\teval-merror:0.086333\n",
      "Multiple eval metrics have been passed: 'eval-merror' will be used for early stopping.\n",
      "\n",
      "Will train until eval-merror hasn't improved in 30 rounds.\n",
      "[100]\ttrain-merror:0.000936\teval-merror:0.015573\n"
     ]
    }
   ],
   "source": [
    "s1_eval_results = {}\n",
    "s1_validation = xgb.train(params=XGB_PARAM_FINAL, dtrain=s1_train_xgbmatrix, evals=s1_watchlist, evals_result=s1_eval_results,\n",
    "                          num_boost_round=XGB_NUM_ROUNDS, early_stopping_rounds=XGB_EARLYSTOPPING_ROUNDS, verbose_eval=100)"
   ]
  },
  {
   "cell_type": "code",
   "execution_count": 19,
   "metadata": {
    "collapsed": true
   },
   "outputs": [],
   "source": [
    "s1_booster = xgb.train(params=XGB_PARAM_FINAL, dtrain=s1_train_xgbmatrix, num_boost_round=s1_validation.best_iteration+1)"
   ]
  },
  {
   "cell_type": "code",
   "execution_count": 20,
   "metadata": {
    "collapsed": true
   },
   "outputs": [],
   "source": [
    "s1_y_predicted = s1_booster.predict(s1_test_xgbmatrix)"
   ]
  },
  {
   "cell_type": "code",
   "execution_count": 21,
   "metadata": {
    "collapsed": false
   },
   "outputs": [
    {
     "data": {
      "text/plain": [
       "0.98473847112183921"
      ]
     },
     "execution_count": 21,
     "metadata": {},
     "output_type": "execute_result"
    }
   ],
   "source": [
    "s1_accuracy = metrics.accuracy_score(s1_y_test, s1_y_predicted)\n",
    "s1_accuracy"
   ]
  },
  {
   "cell_type": "code",
   "execution_count": 22,
   "metadata": {
    "collapsed": false
   },
   "outputs": [],
   "source": [
    "s1_confusion_matrix = get_normalized_confusion_matrix(s1_y_test, s1_y_predicted)"
   ]
  },
  {
   "cell_type": "code",
   "execution_count": 23,
   "metadata": {
    "collapsed": true
   },
   "outputs": [],
   "source": [
    "s1_results_dump = {\n",
    "    \"eval_results\": s1_eval_results,\n",
    "    \"eval_earlystoppping_best_iteration\": s1_validation.best_iteration+1,\n",
    "    \"eval_earlystoppping_best_score\": s1_validation.best_score,\n",
    "    \"classifier\": s1_booster,\n",
    "    \"final_accuracy\": s1_accuracy,\n",
    "    \"final_confusion_matrix\": s1_confusion_matrix\n",
    "}\n",
    "\n",
    "with open(\"results/s1.pickle\", \"wb\") as f:\n",
    "    pickle.dump(s1_results_dump, f)"
   ]
  },
  {
   "cell_type": "markdown",
   "metadata": {},
   "source": [
    "# Samples Test 2"
   ]
  },
  {
   "cell_type": "code",
   "execution_count": 24,
   "metadata": {
    "collapsed": true
   },
   "outputs": [],
   "source": [
    "s2_X_train = s2_data[\"X_train\"]\n",
    "s2_y_train = s2_data[\"y_train\"]\n",
    "s2_X_test = s2_data[\"X_test\"]\n",
    "s2_y_test = s2_data[\"y_test\"]"
   ]
  },
  {
   "cell_type": "code",
   "execution_count": 25,
   "metadata": {
    "collapsed": false
   },
   "outputs": [
    {
     "data": {
      "text/plain": [
       "(51324, 72)"
      ]
     },
     "execution_count": 25,
     "metadata": {},
     "output_type": "execute_result"
    }
   ],
   "source": [
    "s2_X_train.shape"
   ]
  },
  {
   "cell_type": "code",
   "execution_count": 26,
   "metadata": {
    "collapsed": false
   },
   "outputs": [
    {
     "data": {
      "text/plain": [
       "(25700, 72)"
      ]
     },
     "execution_count": 26,
     "metadata": {},
     "output_type": "execute_result"
    }
   ],
   "source": [
    "s2_X_test.shape"
   ]
  },
  {
   "cell_type": "code",
   "execution_count": 27,
   "metadata": {
    "collapsed": true
   },
   "outputs": [],
   "source": [
    "s2_train_xgbmatrix = xgb.DMatrix(s2_X_train, s2_y_train)\n",
    "s2_test_xgbmatrix = xgb.DMatrix(s2_X_test, s2_y_test)\n",
    "s2_watchlist = [(s2_train_xgbmatrix, \"train\"), (s2_test_xgbmatrix, \"eval\")]"
   ]
  },
  {
   "cell_type": "code",
   "execution_count": 28,
   "metadata": {
    "collapsed": false
   },
   "outputs": [
    {
     "name": "stdout",
     "output_type": "stream",
     "text": [
      "[0]\ttrain-merror:0.076085\teval-merror:0.081556\n",
      "Multiple eval metrics have been passed: 'eval-merror' will be used for early stopping.\n",
      "\n",
      "Will train until eval-merror hasn't improved in 30 rounds.\n",
      "[100]\ttrain-merror:0.001013\teval-merror:0.011206\n"
     ]
    }
   ],
   "source": [
    "s2_eval_results = {}\n",
    "s2_validation = xgb.train(params=XGB_PARAM_FINAL, dtrain=s2_train_xgbmatrix, evals=s2_watchlist, evals_result=s2_eval_results, \n",
    "                          num_boost_round=XGB_NUM_ROUNDS, early_stopping_rounds=XGB_EARLYSTOPPING_ROUNDS, verbose_eval=100)"
   ]
  },
  {
   "cell_type": "code",
   "execution_count": 29,
   "metadata": {
    "collapsed": true
   },
   "outputs": [],
   "source": [
    "s2_booster = xgb.train(params=XGB_PARAM_FINAL, dtrain=s2_train_xgbmatrix, num_boost_round=s2_validation.best_iteration+1)"
   ]
  },
  {
   "cell_type": "code",
   "execution_count": 30,
   "metadata": {
    "collapsed": true
   },
   "outputs": [],
   "source": [
    "s2_y_predicted = s2_booster.predict(s2_test_xgbmatrix)"
   ]
  },
  {
   "cell_type": "code",
   "execution_count": 31,
   "metadata": {
    "collapsed": false
   },
   "outputs": [
    {
     "data": {
      "text/plain": [
       "0.98972762645914392"
      ]
     },
     "execution_count": 31,
     "metadata": {},
     "output_type": "execute_result"
    }
   ],
   "source": [
    "s2_accuracy = metrics.accuracy_score(s2_y_test, s2_y_predicted)\n",
    "s2_accuracy"
   ]
  },
  {
   "cell_type": "code",
   "execution_count": 32,
   "metadata": {
    "collapsed": true
   },
   "outputs": [],
   "source": [
    "s2_confusion_matrix = get_normalized_confusion_matrix(s2_y_test, s2_y_predicted)"
   ]
  },
  {
   "cell_type": "code",
   "execution_count": 33,
   "metadata": {
    "collapsed": true
   },
   "outputs": [],
   "source": [
    "s2_results_dump = {\n",
    "    \"eval_results\": s2_eval_results,\n",
    "    \"eval_earlystoppping_best_iteration\": s2_validation.best_iteration+1,\n",
    "    \"eval_earlystoppping_best_score\": s2_validation.best_score,\n",
    "    \"classifier\": s2_booster,\n",
    "    \"final_accuracy\": s2_accuracy,\n",
    "    \"final_confusion_matrix\": s2_confusion_matrix\n",
    "}\n",
    "\n",
    "with open(\"results/s2.pickle\", \"wb\") as f:\n",
    "    pickle.dump(s2_results_dump, f)"
   ]
  },
  {
   "cell_type": "markdown",
   "metadata": {},
   "source": [
    "# Cross-subject Test 1"
   ]
  },
  {
   "cell_type": "code",
   "execution_count": 14,
   "metadata": {
    "collapsed": true
   },
   "outputs": [],
   "source": [
    "cs_X_train = cs_data[\"X_train\"]\n",
    "cs_y_train = cs_data[\"y_train\"]\n",
    "cs_X_test = cs_data[\"X_test\"]\n",
    "cs_y_test = cs_data[\"y_test\"]"
   ]
  },
  {
   "cell_type": "code",
   "execution_count": 16,
   "metadata": {
    "collapsed": false
   },
   "outputs": [
    {
     "data": {
      "text/plain": [
       "(34945, 72)"
      ]
     },
     "execution_count": 16,
     "metadata": {},
     "output_type": "execute_result"
    }
   ],
   "source": [
    "cs_X_train.shape"
   ]
  },
  {
   "cell_type": "code",
   "execution_count": 17,
   "metadata": {
    "collapsed": false
   },
   "outputs": [
    {
     "data": {
      "text/plain": [
       "(42079, 72)"
      ]
     },
     "execution_count": 17,
     "metadata": {},
     "output_type": "execute_result"
    }
   ],
   "source": [
    "cs_X_test.shape"
   ]
  },
  {
   "cell_type": "markdown",
   "metadata": {},
   "source": [
    "## RANDOM FOREST"
   ]
  },
  {
   "cell_type": "code",
   "execution_count": 37,
   "metadata": {
    "collapsed": true
   },
   "outputs": [],
   "source": [
    "from sklearn import ensemble"
   ]
  },
  {
   "cell_type": "code",
   "execution_count": 38,
   "metadata": {
    "collapsed": false
   },
   "outputs": [],
   "source": [
    "rf_clf = ensemble.RandomForestClassifier(n_estimators=100, criterion=\"entropy\", max_depth=None, max_features=\"sqrt\", \n",
    "                                         random_state=42, n_jobs=-1)"
   ]
  },
  {
   "cell_type": "code",
   "execution_count": 39,
   "metadata": {
    "collapsed": false
   },
   "outputs": [
    {
     "data": {
      "text/plain": [
       "2.5243890285491943"
      ]
     },
     "execution_count": 39,
     "metadata": {},
     "output_type": "execute_result"
    }
   ],
   "source": [
    "rf_training_start = time.time()\n",
    "rf_clf.fit(cs_X_train, cs_y_train.ravel())\n",
    "rf_training_time = (time.time() - rf_training_start)\n",
    "rf_training_time"
   ]
  },
  {
   "cell_type": "code",
   "execution_count": 40,
   "metadata": {
    "collapsed": false
   },
   "outputs": [
    {
     "data": {
      "text/plain": [
       "0.2706270217895508"
      ]
     },
     "execution_count": 40,
     "metadata": {},
     "output_type": "execute_result"
    }
   ],
   "source": [
    "rf_testing_start = time.time()\n",
    "rf_y_predicted = rf_clf.predict(cs_X_test)\n",
    "rf_testing_time = (time.time() - rf_testing_start)\n",
    "rf_testing_time"
   ]
  },
  {
   "cell_type": "code",
   "execution_count": 41,
   "metadata": {
    "collapsed": false
   },
   "outputs": [
    {
     "data": {
      "text/plain": [
       "1.0"
      ]
     },
     "execution_count": 41,
     "metadata": {},
     "output_type": "execute_result"
    }
   ],
   "source": [
    "rf_y_train_predicted = rf_clf.predict(cs_X_train)\n",
    "rf_train_accuracy = metrics.accuracy_score(cs_y_train, rf_y_train_predicted)\n",
    "rf_train_accuracy"
   ]
  },
  {
   "cell_type": "code",
   "execution_count": 42,
   "metadata": {
    "collapsed": false
   },
   "outputs": [
    {
     "data": {
      "text/plain": [
       "0.84438793697568859"
      ]
     },
     "execution_count": 42,
     "metadata": {},
     "output_type": "execute_result"
    }
   ],
   "source": [
    "rf_accuracy = metrics.accuracy_score(cs_y_test, rf_y_predicted)\n",
    "rf_accuracy"
   ]
  },
  {
   "cell_type": "code",
   "execution_count": 43,
   "metadata": {
    "collapsed": true
   },
   "outputs": [],
   "source": [
    "rf_confusion_matrix = get_normalized_confusion_matrix(cs_y_test, rf_y_predicted)"
   ]
  },
  {
   "cell_type": "code",
   "execution_count": 44,
   "metadata": {
    "collapsed": true
   },
   "outputs": [],
   "source": [
    "rf_results_dump = {\n",
    "    \"training_time\": rf_training_time,\n",
    "    \"testing_time\": rf_testing_time,\n",
    "    \"training_accuracy\": rf_train_accuracy,\n",
    "    \"final_accuracy\": rf_accuracy,\n",
    "    \"final_confusion_matrix\": rf_confusion_matrix\n",
    "}\n",
    "\n",
    "with open(\"results/cs_rf.pickle\", \"wb\") as f:\n",
    "    pickle.dump(rf_results_dump, f)"
   ]
  },
  {
   "cell_type": "markdown",
   "metadata": {},
   "source": [
    "##  XGBOOST"
   ]
  },
  {
   "cell_type": "code",
   "execution_count": 53,
   "metadata": {
    "collapsed": false
   },
   "outputs": [
    {
     "data": {
      "text/plain": [
       "(34945, 72)"
      ]
     },
     "execution_count": 53,
     "metadata": {},
     "output_type": "execute_result"
    }
   ],
   "source": [
    "cs_X_train.shape"
   ]
  },
  {
   "cell_type": "code",
   "execution_count": 54,
   "metadata": {
    "collapsed": false
   },
   "outputs": [
    {
     "data": {
      "text/plain": [
       "(42079, 72)"
      ]
     },
     "execution_count": 54,
     "metadata": {},
     "output_type": "execute_result"
    }
   ],
   "source": [
    "cs_X_test.shape"
   ]
  },
  {
   "cell_type": "code",
   "execution_count": 20,
   "metadata": {
    "collapsed": true
   },
   "outputs": [],
   "source": [
    "cs_train_xgbmatrix = xgb.DMatrix(cs_X_train, cs_y_train)\n",
    "cs_test_xgbmatrix = xgb.DMatrix(cs_X_test, cs_y_test)\n",
    "cs_watchlist = [(cs_train_xgbmatrix, \"train\"), (cs_test_xgbmatrix, \"eval\")]"
   ]
  },
  {
   "cell_type": "code",
   "execution_count": 21,
   "metadata": {
    "collapsed": false
   },
   "outputs": [
    {
     "name": "stdout",
     "output_type": "stream",
     "text": [
      "[0]\ttrain-merror:0.053112\teval-merror:0.282588\n",
      "Multiple eval metrics have been passed: 'eval-merror' will be used for early stopping.\n",
      "\n",
      "Will train until eval-merror hasn't improved in 30 rounds.\n",
      "[100]\ttrain-merror:0.000601\teval-merror:0.095891\n",
      "Stopping. Best iteration:\n",
      "[78]\ttrain-merror:0.000916\teval-merror:0.094536\n",
      "\n"
     ]
    }
   ],
   "source": [
    "cs_eval_results = {}\n",
    "cs_validation = xgb.train(params=XGB_PARAM_FINAL, dtrain=cs_train_xgbmatrix, evals=cs_watchlist, evals_result=cs_eval_results,\n",
    "                          num_boost_round=XGB_NUM_ROUNDS, early_stopping_rounds=XGB_EARLYSTOPPING_ROUNDS, verbose_eval=100)"
   ]
  },
  {
   "cell_type": "code",
   "execution_count": 22,
   "metadata": {
    "collapsed": false
   },
   "outputs": [
    {
     "data": {
      "text/plain": [
       "7.399036884307861"
      ]
     },
     "execution_count": 22,
     "metadata": {},
     "output_type": "execute_result"
    }
   ],
   "source": [
    "xgboost_training_start = time.time()\n",
    "cs_booster = xgb.train(params=XGB_PARAM_FINAL, dtrain=cs_train_xgbmatrix, num_boost_round=cs_validation.best_iteration+1)\n",
    "xgboost_training_time = (time.time() - xgboost_training_start)\n",
    "xgboost_training_time"
   ]
  },
  {
   "cell_type": "code",
   "execution_count": 55,
   "metadata": {
    "collapsed": true
   },
   "outputs": [],
   "source": [
    "total_time = list()"
   ]
  },
  {
   "cell_type": "code",
   "execution_count": 56,
   "metadata": {
    "collapsed": false
   },
   "outputs": [],
   "source": [
    "# training\n",
    "for i in range(cs_X_train.shape[0]):\n",
    "    x = cs_X_train[i,:]\n",
    "    x = x.reshape((1, 72))\n",
    "    x_dmatrix = xgb.DMatrix(x)\n",
    "    start = time.time()\n",
    "    cs_booster.predict(x_dmatrix)\n",
    "    total_time.append(time.time() - start)\n",
    "\n",
    "# testing\n",
    "for i in range(cs_X_test.shape[0]):\n",
    "    x = cs_X_test[i,:]\n",
    "    x = x.reshape((1, 72))\n",
    "    x_dmatrix = xgb.DMatrix(x)\n",
    "    start = time.time()\n",
    "    cs_booster.predict(x_dmatrix)\n",
    "    total_time.append(time.time() - start)"
   ]
  },
  {
   "cell_type": "code",
   "execution_count": 57,
   "metadata": {
    "collapsed": false
   },
   "outputs": [],
   "source": [
    "avg_time = np.mean(total_time)"
   ]
  },
  {
   "cell_type": "code",
   "execution_count": 58,
   "metadata": {
    "collapsed": false
   },
   "outputs": [
    {
     "data": {
      "text/plain": [
       "0.24179077935902271"
      ]
     },
     "execution_count": 58,
     "metadata": {},
     "output_type": "execute_result"
    }
   ],
   "source": [
    "avg_time * 1000"
   ]
  },
  {
   "cell_type": "code",
   "execution_count": 59,
   "metadata": {
    "collapsed": false
   },
   "outputs": [],
   "source": [
    "std_time = np.std(total_time)"
   ]
  },
  {
   "cell_type": "code",
   "execution_count": 60,
   "metadata": {
    "collapsed": false
   },
   "outputs": [
    {
     "data": {
      "text/plain": [
       "1.846791319327058"
      ]
     },
     "execution_count": 60,
     "metadata": {},
     "output_type": "execute_result"
    }
   ],
   "source": [
    "std_time * 1000"
   ]
  },
  {
   "cell_type": "code",
   "execution_count": 50,
   "metadata": {
    "collapsed": false
   },
   "outputs": [
    {
     "data": {
      "text/plain": [
       "0.2311539649963379"
      ]
     },
     "execution_count": 50,
     "metadata": {},
     "output_type": "execute_result"
    }
   ],
   "source": [
    "xgboost_testing_start = time.time()\n",
    "cs_y_predicted = cs_booster.predict(cs_test_xgbmatrix)\n",
    "xgboost_testing_time = (time.time() - xgboost_testing_start)\n",
    "xgboost_testing_time"
   ]
  },
  {
   "cell_type": "code",
   "execution_count": 51,
   "metadata": {
    "collapsed": false
   },
   "outputs": [
    {
     "data": {
      "text/plain": [
       "1.0"
      ]
     },
     "execution_count": 51,
     "metadata": {},
     "output_type": "execute_result"
    }
   ],
   "source": [
    "cs_y_train_predicted = rf_clf.predict(cs_X_train)\n",
    "cs_train_accuracy = metrics.accuracy_score(cs_y_train, cs_y_train_predicted)\n",
    "cs_train_accuracy"
   ]
  },
  {
   "cell_type": "code",
   "execution_count": 52,
   "metadata": {
    "collapsed": false
   },
   "outputs": [
    {
     "data": {
      "text/plain": [
       "0.90546353287863302"
      ]
     },
     "execution_count": 52,
     "metadata": {},
     "output_type": "execute_result"
    }
   ],
   "source": [
    "cs_accuracy = metrics.accuracy_score(cs_y_test, cs_y_predicted)\n",
    "cs_accuracy"
   ]
  },
  {
   "cell_type": "code",
   "execution_count": 53,
   "metadata": {
    "collapsed": true
   },
   "outputs": [],
   "source": [
    "cs_confusion_matrix = get_normalized_confusion_matrix(cs_y_test, cs_y_predicted)"
   ]
  },
  {
   "cell_type": "code",
   "execution_count": 54,
   "metadata": {
    "collapsed": false
   },
   "outputs": [],
   "source": [
    "cs_confusion_matrix_subjects = list()\n",
    "\n",
    "for subject_id in unique_subjects:\n",
    "    subject_features = features_df[features_df[\"subject\"] == subject_id]\n",
    "    subject_features = subject_features.drop([\"subject\"], axis=1)\n",
    "    subject_labels = labels_df[labels_df[\"subject\"] == subject_id]\n",
    "    subject_labels = subject_labels[[\"activity\"]]\n",
    "    subject_X = subject_features.values\n",
    "    subject_y = subject_labels.values\n",
    "\n",
    "    subject_xgbmatrix = xgb.DMatrix(subject_X, subject_y)\n",
    "    subject_y_predicted = cs_booster.predict(subject_xgbmatrix)\n",
    "    \n",
    "    subject_accuracy = metrics.accuracy_score(subject_y, subject_y_predicted)\n",
    "    subject_confusion_matrix = get_normalized_confusion_matrix(subject_y, subject_y_predicted)\n",
    "    cs_confusion_matrix_subjects.append((subject_id, subject_accuracy, subject_confusion_matrix))"
   ]
  },
  {
   "cell_type": "code",
   "execution_count": 55,
   "metadata": {
    "collapsed": false
   },
   "outputs": [
    {
     "name": "stdout",
     "output_type": "stream",
     "text": [
      "Standing \tAccuracy: 96.5608835454 \tError: 3.43911645463\n",
      "Sitting \tAccuracy: 98.2380659701 \tError: 1.76193402991\n",
      "Pointing \tAccuracy: 92.987612849 \tError: 7.01238715096\n",
      "Phone \tAccuracy: 63.8150093173 \tError: 36.1849906827\n",
      "Tablet \tAccuracy: 93.1763766959 \tError: 6.82362330407\n",
      "Paper \tAccuracy: 91.7335243553 \tError: 8.2664756447\n"
     ]
    }
   ],
   "source": [
    "for activity_idx, activity in enumerate(ACTIVITIES):\n",
    "    activity_accuracy = cs_confusion_matrix[activity_idx, activity_idx]\n",
    "    activity_error = 100 - activity_accuracy\n",
    "    print(activity, \"\\tAccuracy:\", activity_accuracy, \"\\tError:\", activity_error)"
   ]
  },
  {
   "cell_type": "code",
   "execution_count": 56,
   "metadata": {
    "collapsed": false
   },
   "outputs": [],
   "source": [
    "cs_results_dump = {\n",
    "    \"training_time\": xgboost_training_time,\n",
    "    \"testing_time\": xgboost_testing_time,\n",
    "    \"eval_results\": cs_eval_results,\n",
    "    \"eval_earlystoppping_best_iteration\": cs_validation.best_iteration+1,\n",
    "    \"eval_earlystoppping_best_score\": cs_validation.best_score,\n",
    "    \"classifier\": cs_booster,\n",
    "    \"training_accuracy\": cs_train_accuracy,\n",
    "    \"final_accuracy\": cs_accuracy,\n",
    "    \"final_confusion_matrix\": cs_confusion_matrix,\n",
    "    \"subject_confusion_matrix\": cs_confusion_matrix_subjects\n",
    "}\n",
    "\n",
    "with open(\"results/cs.pickle\", \"wb\") as f:\n",
    "    pickle.dump(cs_results_dump, f)"
   ]
  },
  {
   "cell_type": "markdown",
   "metadata": {},
   "source": [
    "# NO INFRARED "
   ]
  },
  {
   "cell_type": "code",
   "execution_count": 57,
   "metadata": {
    "collapsed": true
   },
   "outputs": [],
   "source": [
    "noinfrared_X_train = noinfrared_data[\"X_train\"]\n",
    "noinfrared_y_train = noinfrared_data[\"y_train\"]\n",
    "noinfrared_X_test = noinfrared_data[\"X_test\"]\n",
    "noinfrared_y_test = noinfrared_data[\"y_test\"]"
   ]
  },
  {
   "cell_type": "code",
   "execution_count": 58,
   "metadata": {
    "collapsed": false
   },
   "outputs": [
    {
     "data": {
      "text/plain": [
       "(34945, 66)"
      ]
     },
     "execution_count": 58,
     "metadata": {},
     "output_type": "execute_result"
    }
   ],
   "source": [
    "noinfrared_X_train.shape"
   ]
  },
  {
   "cell_type": "code",
   "execution_count": 59,
   "metadata": {
    "collapsed": false
   },
   "outputs": [
    {
     "data": {
      "text/plain": [
       "(42079, 66)"
      ]
     },
     "execution_count": 59,
     "metadata": {},
     "output_type": "execute_result"
    }
   ],
   "source": [
    "noinfrared_X_test.shape"
   ]
  },
  {
   "cell_type": "code",
   "execution_count": 60,
   "metadata": {
    "collapsed": true
   },
   "outputs": [],
   "source": [
    "noinfrared_train_xgbmatrix = xgb.DMatrix(noinfrared_X_train, noinfrared_y_train)\n",
    "noinfrared_test_xgbmatrix = xgb.DMatrix(noinfrared_X_test, noinfrared_y_test)\n",
    "noinfrared_watchlist = [(noinfrared_train_xgbmatrix, \"train\"), (noinfrared_test_xgbmatrix, \"eval\")]"
   ]
  },
  {
   "cell_type": "code",
   "execution_count": 61,
   "metadata": {
    "collapsed": false
   },
   "outputs": [
    {
     "name": "stdout",
     "output_type": "stream",
     "text": [
      "[0]\ttrain-merror:0.069166\teval-merror:0.290644\n",
      "Multiple eval metrics have been passed: 'eval-merror' will be used for early stopping.\n",
      "\n",
      "Will train until eval-merror hasn't improved in 30 rounds.\n",
      "Stopping. Best iteration:\n",
      "[45]\ttrain-merror:0.002318\teval-merror:0.173507\n",
      "\n"
     ]
    }
   ],
   "source": [
    "noinfrared_eval_results = {}\n",
    "noinfrared_validation = xgb.train(params=XGB_PARAM_FINAL, dtrain=noinfrared_train_xgbmatrix, evals=noinfrared_watchlist,\n",
    "                                  evals_result=noinfrared_eval_results, num_boost_round=XGB_NUM_ROUNDS, \n",
    "                                  early_stopping_rounds=XGB_EARLYSTOPPING_ROUNDS, verbose_eval=100)"
   ]
  },
  {
   "cell_type": "code",
   "execution_count": 62,
   "metadata": {
    "collapsed": true
   },
   "outputs": [],
   "source": [
    "noinfrared_booster = xgb.train(params=XGB_PARAM_FINAL, dtrain=noinfrared_train_xgbmatrix,\n",
    "                               num_boost_round=noinfrared_validation.best_iteration+1)"
   ]
  },
  {
   "cell_type": "code",
   "execution_count": 63,
   "metadata": {
    "collapsed": true
   },
   "outputs": [],
   "source": [
    "noinfrared_y_predicted = noinfrared_booster.predict(noinfrared_test_xgbmatrix)"
   ]
  },
  {
   "cell_type": "code",
   "execution_count": 64,
   "metadata": {
    "collapsed": false
   },
   "outputs": [
    {
     "data": {
      "text/plain": [
       "0.82649302502435895"
      ]
     },
     "execution_count": 64,
     "metadata": {},
     "output_type": "execute_result"
    }
   ],
   "source": [
    "noinfrared_accuracy = metrics.accuracy_score(noinfrared_y_test, noinfrared_y_predicted)\n",
    "noinfrared_accuracy"
   ]
  },
  {
   "cell_type": "code",
   "execution_count": 65,
   "metadata": {
    "collapsed": true
   },
   "outputs": [],
   "source": [
    "noinfrared_confusion_matrix = get_normalized_confusion_matrix(noinfrared_y_test, noinfrared_y_predicted)"
   ]
  },
  {
   "cell_type": "code",
   "execution_count": 66,
   "metadata": {
    "collapsed": false
   },
   "outputs": [],
   "source": [
    "noninfrared_results_dump = {\n",
    "    \"eval_results\": noinfrared_eval_results,\n",
    "    \"eval_earlystoppping_best_iteration\": noinfrared_validation.best_iteration+1,\n",
    "    \"eval_earlystoppping_best_score\": noinfrared_validation.best_score,\n",
    "    \"classifier\": noinfrared_booster,\n",
    "    \"final_accuracy\": noinfrared_accuracy,\n",
    "    \"final_confusion_matrix\": noinfrared_confusion_matrix,\n",
    "}\n",
    "\n",
    "with open(\"results/cs_noinfrared.pickle\", \"wb\") as f:\n",
    "    pickle.dump(noninfrared_results_dump, f)"
   ]
  },
  {
   "cell_type": "markdown",
   "metadata": {},
   "source": [
    "# All Cross-Subjects"
   ]
  },
  {
   "cell_type": "code",
   "execution_count": 67,
   "metadata": {
    "collapsed": false
   },
   "outputs": [
    {
     "data": {
      "text/plain": [
       "924"
      ]
     },
     "execution_count": 67,
     "metadata": {},
     "output_type": "execute_result"
    }
   ],
   "source": [
    "cs_combinations = list(itertools.combinations(unique_subjects, int(len(unique_subjects)/2)))\n",
    "len(cs_combinations)"
   ]
  },
  {
   "cell_type": "code",
   "execution_count": 68,
   "metadata": {
    "collapsed": true
   },
   "outputs": [],
   "source": [
    "cs_combinations_results_csv = \"results/cs_combinations.csv\""
   ]
  },
  {
   "cell_type": "code",
   "execution_count": 69,
   "metadata": {
    "collapsed": true
   },
   "outputs": [],
   "source": [
    "open(cs_combinations_results_csv, \"w\").close()\n",
    "with open(cs_combinations_results_csv, \"a\") as f:\n",
    "    data_columns = pd.DataFrame(columns=[\"combination\", \"activity\", \"a1\", \"a2\", \"a3\", \"a4\", \"a5\", \"a6\"])\n",
    "    data_columns.to_csv(f, header=True, index=False)"
   ]
  },
  {
   "cell_type": "code",
   "execution_count": 70,
   "metadata": {
    "collapsed": false,
    "scrolled": true
   },
   "outputs": [
    {
     "name": "stdout",
     "output_type": "stream",
     "text": [
      "0 ... 1 ... 2 ... 3 ... 4 ... 5 ... 6 ... 7 ... 8 ... 9 ... 10 ... 11 ... 12 ... 13 ... 14 ... 15 ... 16 ... 17 ... 18 ... 19 ... 20 ... 21 ... 22 ... 23 ... 24 ... 25 ... 26 ... 27 ... 28 ... 29 ... 30 ... 31 ... 32 ... 33 ... 34 ... 35 ... 36 ... 37 ... 38 ... 39 ... 40 ... 41 ... 42 ... 43 ... 44 ... 45 ... 46 ... 47 ... 48 ... 49 ... 50 ... 51 ... 52 ... 53 ... 54 ... 55 ... 56 ... 57 ... 58 ... 59 ... 60 ... 61 ... 62 ... 63 ... 64 ... 65 ... 66 ... 67 ... 68 ... 69 ... 70 ... 71 ... 72 ... 73 ... 74 ... 75 ... 76 ... 77 ... 78 ... 79 ... 80 ... 81 ... 82 ... 83 ... 84 ... 85 ... 86 ... 87 ... 88 ... 89 ... 90 ... 91 ... 92 ... 93 ... 94 ... 95 ... 96 ... 97 ... 98 ... 99 ... 100 ... 101 ... 102 ... 103 ... 104 ... 105 ... 106 ... 107 ... 108 ... 109 ... 110 ... 111 ... 112 ... 113 ... 114 ... 115 ... 116 ... 117 ... 118 ... 119 ... 120 ... 121 ... 122 ... 123 ... 124 ... 125 ... 126 ... 127 ... 128 ... 129 ... 130 ... 131 ... 132 ... 133 ... 134 ... 135 ... 136 ... 137 ... 138 ... 139 ... 140 ... 141 ... 142 ... 143 ... 144 ... 145 ... 146 ... 147 ... 148 ... 149 ... 150 ... 151 ... 152 ... 153 ... 154 ... 155 ... 156 ... 157 ... 158 ... 159 ... 160 ... 161 ... 162 ... 163 ... 164 ... 165 ... 166 ... 167 ... 168 ... 169 ... 170 ... 171 ... 172 ... 173 ... 174 ... 175 ... 176 ... 177 ... 178 ... 179 ... 180 ... 181 ... 182 ... 183 ... 184 ... 185 ... 186 ... 187 ... 188 ... 189 ... 190 ... 191 ... 192 ... 193 ... 194 ... 195 ... 196 ... 197 ... 198 ... 199 ... 200 ... 201 ... 202 ... 203 ... 204 ... 205 ... 206 ... 207 ... 208 ... 209 ... 210 ... 211 ... 212 ... 213 ... 214 ... 215 ... 216 ... 217 ... 218 ... 219 ... 220 ... 221 ... 222 ... 223 ... 224 ... 225 ... 226 ... 227 ... 228 ... 229 ... 230 ... 231 ... 232 ... 233 ... 234 ... 235 ... 236 ... 237 ... 238 ... 239 ... 240 ... 241 ... 242 ... 243 ... 244 ... 245 ... 246 ... 247 ... 248 ... 249 ... 250 ... 251 ... 252 ... 253 ... 254 ... 255 ... 256 ... 257 ... 258 ... 259 ... 260 ... 261 ... 262 ... 263 ... 264 ... 265 ... 266 ... 267 ... 268 ... 269 ... 270 ... 271 ... 272 ... 273 ... 274 ... 275 ... 276 ... 277 ... 278 ... 279 ... 280 ... 281 ... 282 ... 283 ... 284 ... 285 ... 286 ... 287 ... 288 ... 289 ... 290 ... 291 ... 292 ... 293 ... 294 ... 295 ... 296 ... 297 ... 298 ... 299 ... 300 ... 301 ... 302 ... 303 ... 304 ... 305 ... 306 ... 307 ... 308 ... 309 ... 310 ... 311 ... 312 ... 313 ... 314 ... 315 ... 316 ... 317 ... 318 ... 319 ... 320 ... 321 ... 322 ... 323 ... 324 ... 325 ... 326 ... 327 ... 328 ... 329 ... 330 ... 331 ... 332 ... 333 ... 334 ... 335 ... 336 ... 337 ... 338 ... 339 ... 340 ... 341 ... 342 ... 343 ... 344 ... 345 ... 346 ... 347 ... 348 ... 349 ... 350 ... 351 ... 352 ... 353 ... 354 ... 355 ... 356 ... 357 ... 358 ... 359 ... 360 ... 361 ... 362 ... 363 ... 364 ... 365 ... 366 ... 367 ... 368 ... 369 ... 370 ... 371 ... 372 ... 373 ... 374 ... 375 ... 376 ... 377 ... 378 ... 379 ... 380 ... 381 ... 382 ... 383 ... 384 ... 385 ... 386 ... 387 ... 388 ... 389 ... 390 ... 391 ... 392 ... 393 ... 394 ... 395 ... 396 ... 397 ... 398 ... 399 ... 400 ... 401 ... 402 ... 403 ... 404 ... 405 ... 406 ... 407 ... 408 ... 409 ... 410 ... 411 ... 412 ... 413 ... 414 ... 415 ... 416 ... 417 ... 418 ... 419 ... 420 ... 421 ... 422 ... 423 ... 424 ... 425 ... 426 ... 427 ... 428 ... 429 ... 430 ... 431 ... 432 ... 433 ... 434 ... 435 ... 436 ... 437 ... 438 ... 439 ... 440 ... 441 ... 442 ... 443 ... 444 ... 445 ... 446 ... 447 ... 448 ... 449 ... 450 ... 451 ... 452 ... 453 ... 454 ... 455 ... 456 ... 457 ... 458 ... 459 ... 460 ... 461 ... 462 ... 463 ... 464 ... 465 ... 466 ... 467 ... 468 ... 469 ... 470 ... 471 ... 472 ... 473 ... 474 ... 475 ... 476 ... 477 ... 478 ... 479 ... 480 ... 481 ... 482 ... 483 ... 484 ... 485 ... 486 ... 487 ... 488 ... 489 ... 490 ... 491 ... 492 ... 493 ... 494 ... 495 ... 496 ... 497 ... 498 ... 499 ... 500 ... 501 ... 502 ... 503 ... 504 ... 505 ... 506 ... 507 ... 508 ... 509 ... 510 ... 511 ... 512 ... 513 ... 514 ... 515 ... 516 ... 517 ... 518 ... 519 ... 520 ... 521 ... 522 ... 523 ... 524 ... 525 ... 526 ... 527 ... 528 ... 529 ... 530 ... 531 ... 532 ... 533 ... 534 ... 535 ... 536 ... 537 ... 538 ... 539 ... 540 ... 541 ... 542 ... 543 ... 544 ... 545 ... 546 ... 547 ... 548 ... 549 ... 550 ... 551 ... 552 ... 553 ... 554 ... 555 ... 556 ... 557 ... 558 ... 559 ... 560 ... 561 ... 562 ... 563 ... 564 ... 565 ... 566 ... 567 ... 568 ... 569 ... 570 ... 571 ... 572 ... 573 ... 574 ... 575 ... 576 ... 577 ... 578 ... 579 ... 580 ... 581 ... 582 ... 583 ... 584 ... 585 ... 586 ... 587 ... 588 ... 589 ... 590 ... 591 ... 592 ... 593 ... 594 ... 595 ... 596 ... 597 ... 598 ... 599 ... 600 ... 601 ... 602 ... 603 ... 604 ... 605 ... 606 ... 607 ... 608 ... 609 ... 610 ... 611 ... 612 ... 613 ... 614 ... 615 ... 616 ... 617 ... 618 ... 619 ... 620 ... 621 ... 622 ... 623 ... 624 ... 625 ... 626 ... 627 ... 628 ... 629 ... 630 ... 631 ... 632 ... 633 ... 634 ... 635 ... 636 ... 637 ... 638 ... 639 ... 640 ... 641 ... 642 ... 643 ... 644 ... 645 ... 646 ... 647 ... 648 ... 649 ... 650 ... 651 ... 652 ... 653 ... 654 ... 655 ... 656 ... 657 ... 658 ... 659 ... 660 ... 661 ... 662 ... 663 ... 664 ... 665 ... 666 ... 667 ... 668 ... 669 ... 670 ... 671 ... 672 ... 673 ... 674 ... 675 ... 676 ... 677 ... 678 ... 679 ... 680 ... 681 ... 682 ... 683 ... 684 ... 685 ... 686 ... 687 ... 688 ... 689 ... 690 ... 691 ... 692 ... 693 ... 694 ... 695 ... 696 ... 697 ... 698 ... 699 ... 700 ... 701 ... 702 ... 703 ... 704 ... 705 ... 706 ... 707 ... 708 ... 709 ... 710 ... 711 ... 712 ... 713 ... 714 ... 715 ... 716 ... 717 ... 718 ... 719 ... 720 ... 721 ... 722 ... 723 ... 724 ... 725 ... 726 ... 727 ... 728 ... 729 ... 730 ... 731 ... 732 ... 733 ... 734 ... 735 ... 736 ... 737 ... 738 ... 739 ... 740 ... 741 ... 742 ... 743 ... 744 ... 745 ... 746 ... 747 ... 748 ... 749 ... 750 ... 751 ... 752 ... 753 ... 754 ... 755 ... 756 ... 757 ... 758 ... 759 ... 760 ... 761 ... 762 ... 763 ... 764 ... 765 ... 766 ... 767 ... 768 ... 769 ... 770 ... 771 ... 772 ... 773 ... 774 ... 775 ... 776 ... 777 ... 778 ... 779 ... 780 ... 781 ... 782 ... 783 ... 784 ... 785 ... 786 ... 787 ... 788 ... 789 ... 790 ... 791 ... 792 ... 793 ... 794 ... 795 ... 796 ... 797 ... 798 ... 799 ... 800 ... 801 ... 802 ... 803 ... 804 ... 805 ... 806 ... 807 ... 808 ... 809 ... 810 ... 811 ... 812 ... 813 ... 814 ... 815 ... 816 ... 817 ... 818 ... 819 ... 820 ... 821 ... 822 ... 823 ... 824 ... 825 ... 826 ... 827 ... 828 ... 829 ... 830 ... 831 ... 832 ... 833 ... 834 ... 835 ... 836 ... 837 ... 838 ... 839 ... 840 ... 841 ... 842 ... 843 ... 844 ... 845 ... 846 ... 847 ... 848 ... 849 ... 850 ... 851 ... 852 ... 853 ... 854 ... 855 ... 856 ... 857 ... 858 ... 859 ... 860 ... 861 ... 862 ... 863 ... 864 ... 865 ... 866 ... 867 ... 868 ... 869 ... 870 ... 871 ... 872 ... 873 ... 874 ... 875 ... 876 ... 877 ... 878 ... 879 ... 880 ... 881 ... 882 ... 883 ... 884 ... 885 ... 886 ... 887 ... 888 ... 889 ... 890 ... 891 ... 892 ... 893 ... 894 ... 895 ... 896 ... 897 ... 898 ... 899 ... 900 ... 901 ... 902 ... 903 ... 904 ... 905 ... 906 ... 907 ... 908 ... 909 ... 910 ... 911 ... 912 ... 913 ... 914 ... 915 ... 916 ... 917 ... 918 ... 919 ... 920 ... 921 ... 922 ... 923 ... "
     ]
    }
   ],
   "source": [
    "for cs_combination_idx, cs_combination in enumerate(cs_combinations):\n",
    "    print(cs_combination_idx, \"... \", end=\"\")\n",
    "\n",
    "    # Get data\n",
    "    combination_X_train, combination_y_train, combination_X_test, combination_y_test = crosssubject_test_split(\n",
    "        features_df, labels_df, cs_combination)\n",
    "    combination_train_xgbmatrix = xgb.DMatrix(combination_X_train, combination_y_train)\n",
    "    combination_test_xgbmatrix = xgb.DMatrix(combination_X_test, combination_y_test)\n",
    "\n",
    "    # Train\n",
    "    combination_booster = xgb.train(params=XGB_PARAM_FINAL, dtrain=combination_train_xgbmatrix, num_boost_round=cs_validation.best_iteration+1)\n",
    "    combination_y_predicted = combination_booster.predict(combination_test_xgbmatrix)\n",
    "    \n",
    "    # Get results\n",
    "    combination_results = metrics.confusion_matrix(combination_y_test, combination_y_predicted)\n",
    "    combination_results_df = pd.DataFrame(columns=[\"combination\", \"activity\", \"a1\", \"a2\", \"a3\", \"a4\", \"a5\", \"a6\"])\n",
    "    for activity_id, activity in enumerate(ACTIVITIES):\n",
    "        combination_results_df.loc[activity_id] = [\n",
    "            cs_combination_idx, activity, \n",
    "            combination_results[activity_id,0], combination_results[activity_id,1], combination_results[activity_id,2], \n",
    "            combination_results[activity_id,3], combination_results[activity_id,4], combination_results[activity_id,5]\n",
    "        ]\n",
    "\n",
    "    # Append results\n",
    "    with open(cs_combinations_results_csv, \"a\") as f:\n",
    "        combination_results_df.to_csv(f, header=False, index=False)"
   ]
  },
  {
   "cell_type": "code",
   "execution_count": 71,
   "metadata": {
    "collapsed": false
   },
   "outputs": [],
   "source": [
    "combinations_results_df = pd.read_csv(cs_combinations_results_csv)"
   ]
  },
  {
   "cell_type": "code",
   "execution_count": 72,
   "metadata": {
    "collapsed": false,
    "scrolled": false
   },
   "outputs": [],
   "source": [
    "combinations_confusion_matrix = np.zeros((num_activities, num_activities))\n",
    "\n",
    "for activity_idx, activity in enumerate(ACTIVITIES):\n",
    "    combinations_activity_results = combinations_results_df[combinations_results_df[\"activity\"] == activity]\n",
    "    for accuracy_idx, accuracy_column in enumerate([\"a1\", \"a2\", \"a3\", \"a4\", \"a5\", \"a6\"]):\n",
    "        combinations_confusion_matrix[activity_idx, accuracy_idx] = combinations_activity_results[accuracy_column].sum()\n",
    "\n",
    "combinations_confusion_matrix_normalized = combinations_confusion_matrix.astype(\"float\") / combinations_confusion_matrix.sum(axis=1)[:, np.newaxis]\n",
    "combinations_confusion_matrix_normalized *= 100"
   ]
  },
  {
   "cell_type": "code",
   "execution_count": 73,
   "metadata": {
    "collapsed": false
   },
   "outputs": [],
   "source": [
    "all_samples = np.sum(combinations_confusion_matrix)"
   ]
  },
  {
   "cell_type": "code",
   "execution_count": 74,
   "metadata": {
    "collapsed": false
   },
   "outputs": [],
   "source": [
    "accurate_samples = 0\n",
    "for activity_id in range(len(ACTIVITIES)):\n",
    "    accurate_samples += combinations_confusion_matrix[activity_id, activity_id]"
   ]
  },
  {
   "cell_type": "code",
   "execution_count": 75,
   "metadata": {
    "collapsed": false
   },
   "outputs": [
    {
     "data": {
      "text/plain": [
       "0.89485413103376332"
      ]
     },
     "execution_count": 75,
     "metadata": {},
     "output_type": "execute_result"
    }
   ],
   "source": [
    "combinations_accuracy = accurate_samples / all_samples\n",
    "combinations_accuracy"
   ]
  },
  {
   "cell_type": "code",
   "execution_count": 76,
   "metadata": {
    "collapsed": true
   },
   "outputs": [],
   "source": [
    "combinations_results_dump = {\n",
    "    \"accuracy\": combinations_accuracy,\n",
    "    \"confusion_matrix\": combinations_confusion_matrix_normalized,\n",
    "}"
   ]
  },
  {
   "cell_type": "code",
   "execution_count": 77,
   "metadata": {
    "collapsed": true
   },
   "outputs": [],
   "source": [
    "with open(\"results/cs_combinations.pickle\", \"wb\") as f:\n",
    "    pickle.dump(combinations_results_dump, f)"
   ]
  },
  {
   "cell_type": "markdown",
   "metadata": {},
   "source": [
    "# DEMO"
   ]
  },
  {
   "cell_type": "code",
   "execution_count": 78,
   "metadata": {
    "collapsed": false
   },
   "outputs": [],
   "source": [
    "# X.shape"
   ]
  },
  {
   "cell_type": "code",
   "execution_count": 79,
   "metadata": {
    "collapsed": false
   },
   "outputs": [],
   "source": [
    "# y.shape"
   ]
  },
  {
   "cell_type": "code",
   "execution_count": 80,
   "metadata": {
    "collapsed": true
   },
   "outputs": [],
   "source": [
    "# demo_train_xgbmatrix = xgb.DMatrix(X, y)\n",
    "# demo_test_xgbmatrix = xgb.DMatrix(X, y)\n",
    "# demo_watchlist = [(demo_train_xgbmatrix, \"train\"), (demo_test_xgbmatrix, \"eval\")]"
   ]
  },
  {
   "cell_type": "code",
   "execution_count": 81,
   "metadata": {
    "collapsed": false,
    "scrolled": true
   },
   "outputs": [],
   "source": [
    "# demo_results = {}\n",
    "# demo_booster = xgb.train(XGB_PARAM_DEMO, demo_train_xgbmatrix, XGB_NUM_ROUNDS_DEMO, demo_watchlist, evals_result=demo_results, early_stopping_rounds=20)"
   ]
  },
  {
   "cell_type": "code",
   "execution_count": 82,
   "metadata": {
    "collapsed": true
   },
   "outputs": [],
   "source": [
    "# demo_booster.save_model(\"demo-xgboost.model\")"
   ]
  },
  {
   "cell_type": "code",
   "execution_count": 83,
   "metadata": {
    "collapsed": false
   },
   "outputs": [],
   "source": [
    "# bst2 = xgb.Booster(model_file=\"demo-xgboost.model\")"
   ]
  },
  {
   "cell_type": "code",
   "execution_count": 84,
   "metadata": {
    "collapsed": false
   },
   "outputs": [],
   "source": [
    "# test_dmatrix = xgb.DMatrix(X)\n",
    "# y_predicted = bst2.predict(test_dmatrix)\n",
    "# accuracy = metrics.accuracy_score(y, y_predicted)"
   ]
  },
  {
   "cell_type": "code",
   "execution_count": 85,
   "metadata": {
    "collapsed": false
   },
   "outputs": [],
   "source": [
    "# accuracy"
   ]
  }
 ],
 "metadata": {
  "kernelspec": {
   "display_name": "Python 3",
   "language": "python",
   "name": "python3"
  },
  "language_info": {
   "codemirror_mode": {
    "name": "ipython",
    "version": 3
   },
   "file_extension": ".py",
   "mimetype": "text/x-python",
   "name": "python",
   "nbconvert_exporter": "python",
   "pygments_lexer": "ipython3",
   "version": "3.6.0"
  }
 },
 "nbformat": 4,
 "nbformat_minor": 0
}
